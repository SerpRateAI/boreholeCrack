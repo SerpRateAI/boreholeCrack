{
 "cells": [
  {
   "cell_type": "code",
   "execution_count": null,
   "id": "cb03bdd3-bfb2-4797-86dd-bb6e58a0a309",
   "metadata": {},
   "outputs": [],
   "source": [
    "\n",
    "for h in hydrophones:\n",
    "    for gridpoint in grid:\n",
    "        dvec=zeros(length(gdpks),1); # each grid point\n",
    "        dvec=picks(gdpks)-tabtm(gdpks); # picks -> time since beginning of hour # tabtm -> travel times\n",
    "        wmat=zeros(length(gdpks),length(gdpks)); # wmat -> weighting matrix n x m : n = number of instruments\n",
    "        wmat=diag(uncer(gdpks)); # you pick the uncertainty you want\n",
    "        gvec=ones(length(gdpks),1); # 1s for all the good picks\n",
    "        t0=(gvec'*wmat*gvec)\\(gvec'*wmat*dvec); # t0 -> origin time gvec.transpose()*wmat*gvec \\ gvec.transpose()*wmat*dvec\n"
   ]
  }
 ],
 "metadata": {
  "kernelspec": {
   "display_name": "Python [conda env:borehole] *",
   "language": "python",
   "name": "conda-env-borehole-py"
  },
  "language_info": {
   "codemirror_mode": {
    "name": "ipython",
    "version": 3
   },
   "file_extension": ".py",
   "mimetype": "text/x-python",
   "name": "python",
   "nbconvert_exporter": "python",
   "pygments_lexer": "ipython3",
   "version": "3.8.12"
  }
 },
 "nbformat": 4,
 "nbformat_minor": 5
}
