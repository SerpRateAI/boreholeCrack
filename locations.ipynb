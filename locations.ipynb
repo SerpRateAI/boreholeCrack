{
 "cells": [
  {
   "cell_type": "code",
   "execution_count": null,
   "id": "7480b66f-1ff0-4a1d-8158-c593f083bc7c",
   "metadata": {},
   "outputs": [],
   "source": [
    "\n",
    "for h in hydrophones:\n",
    "    for gridpoint in grid:\n",
    "        # dvec = zeros(length(gdpks), 1); # each grid point\n",
    "        dvec = picks(gdpks) - tabtm(gdpks); # picks -> time since beginning of hour # tabtm -> travel times\n",
    "        # wmat = zeros(length(gdpks), length(gdpks)); # wmat -> weighting matrix n x m : n = number of instruments\n",
    "        wmat = diag(uncer(gdpks)); # you pick the uncertainty you want\n",
    "        gvec = ones(length(gdpks), 1); # 1s for all the good picks\n",
    "        t0 = (gvec' * wmat * gvec) \\ (gvec' * wmat * dvec); # t0 -> origin time gvec.transpose()*wmat*gvec \\ gvec.transpose()*wmat*dvec\n",
    "# https://stackoverflow.com/questions/7160162/left-matrix-division-and-numpy-solve\n",
    "\n",
    "        evec = zeros(length(gdpks), 1); # ERROR VECTOR\n",
    "        evec = dvec - gvec * t0; # calculate the error\n",
    "        rmsi(gdpks) = evec; # rmsi -> rms for each station\n",
    "        rms=sqrt((evec' * wmat * evec) / sum(diag(wmat))); # make single rms per event\n"
   ]
  },
  {
   "cell_type": "code",
   "execution_count": null,
   "id": "99680107-9358-4c03-b6fb-3e55ba7a48ac",
   "metadata": {},
   "outputs": [],
   "source": []
  },
  {
   "cell_type": "code",
   "execution_count": 1,
   "id": "c40e1610-7934-400b-8b74-d955b09bc577",
   "metadata": {},
   "outputs": [],
   "source": [
    "import numpy as np\n",
    "import pandas as pd"
   ]
  },
  {
   "cell_type": "code",
   "execution_count": 2,
   "id": "77faa6c9-ddb7-4d85-ab49-abd5b98447b4",
   "metadata": {},
   "outputs": [
    {
     "name": "stdout",
     "output_type": "stream",
     "text": [
      "Requirement already satisfied: xarray in /home/john/anaconda3/envs/borehole/lib/python3.8/site-packages (2022.3.0)\n",
      "Requirement already satisfied: packaging>=20.0 in /home/john/anaconda3/envs/borehole/lib/python3.8/site-packages (from xarray) (21.0)\n",
      "Requirement already satisfied: numpy>=1.18 in /home/john/anaconda3/envs/borehole/lib/python3.8/site-packages (from xarray) (1.22.4)\n",
      "Requirement already satisfied: pandas>=1.1 in /home/john/anaconda3/envs/borehole/lib/python3.8/site-packages (from xarray) (1.3.3)\n",
      "Requirement already satisfied: pyparsing>=2.0.2 in /home/john/anaconda3/envs/borehole/lib/python3.8/site-packages (from packaging>=20.0->xarray) (2.4.7)\n",
      "Requirement already satisfied: python-dateutil>=2.7.3 in /home/john/anaconda3/envs/borehole/lib/python3.8/site-packages (from pandas>=1.1->xarray) (2.8.2)\n",
      "Requirement already satisfied: pytz>=2017.3 in /home/john/anaconda3/envs/borehole/lib/python3.8/site-packages (from pandas>=1.1->xarray) (2021.1)\n",
      "Requirement already satisfied: six>=1.5 in /home/john/anaconda3/envs/borehole/lib/python3.8/site-packages (from python-dateutil>=2.7.3->pandas>=1.1->xarray) (1.16.0)\n",
      "\u001b[33mWARNING: You are using pip version 22.0.4; however, version 22.1.2 is available.\n",
      "You should consider upgrading via the '/home/john/anaconda3/envs/borehole/bin/python3.8 -m pip install --upgrade pip' command.\u001b[0m\u001b[33m\n",
      "\u001b[0m"
     ]
    }
   ],
   "source": [
    "!pip install xarray"
   ]
  },
  {
   "cell_type": "code",
   "execution_count": 3,
   "id": "ee315a2a-0e09-4330-a741-750e388d07d4",
   "metadata": {},
   "outputs": [],
   "source": [
    "import xarray"
   ]
  },
  {
   "cell_type": "code",
   "execution_count": 4,
   "id": "6bda45e1-df93-4ab3-8304-f6fb6969432c",
   "metadata": {},
   "outputs": [],
   "source": [
    "# in hundreds of meters\n",
    "x = np.arange(-2, 3, 1)*100\n",
    "y = np.arange(-2, 3, 1)*100\n",
    "z = np.arange(-2, 3, 1)*100\n",
    "\n",
    "xx, yy, zz = np.meshgrid(x, y, z)"
   ]
  },
  {
   "cell_type": "code",
   "execution_count": 5,
   "id": "3628e1b8-181d-4222-8582-e41f57c8a7c3",
   "metadata": {},
   "outputs": [
    {
     "data": {
      "text/plain": [
       "array([[[-200, -100,    0,  100,  200],\n",
       "        [-200, -100,    0,  100,  200],\n",
       "        [-200, -100,    0,  100,  200],\n",
       "        [-200, -100,    0,  100,  200],\n",
       "        [-200, -100,    0,  100,  200]],\n",
       "\n",
       "       [[-200, -100,    0,  100,  200],\n",
       "        [-200, -100,    0,  100,  200],\n",
       "        [-200, -100,    0,  100,  200],\n",
       "        [-200, -100,    0,  100,  200],\n",
       "        [-200, -100,    0,  100,  200]],\n",
       "\n",
       "       [[-200, -100,    0,  100,  200],\n",
       "        [-200, -100,    0,  100,  200],\n",
       "        [-200, -100,    0,  100,  200],\n",
       "        [-200, -100,    0,  100,  200],\n",
       "        [-200, -100,    0,  100,  200]],\n",
       "\n",
       "       [[-200, -100,    0,  100,  200],\n",
       "        [-200, -100,    0,  100,  200],\n",
       "        [-200, -100,    0,  100,  200],\n",
       "        [-200, -100,    0,  100,  200],\n",
       "        [-200, -100,    0,  100,  200]],\n",
       "\n",
       "       [[-200, -100,    0,  100,  200],\n",
       "        [-200, -100,    0,  100,  200],\n",
       "        [-200, -100,    0,  100,  200],\n",
       "        [-200, -100,    0,  100,  200],\n",
       "        [-200, -100,    0,  100,  200]]])"
      ]
     },
     "execution_count": 5,
     "metadata": {},
     "output_type": "execute_result"
    }
   ],
   "source": [
    "zz"
   ]
  },
  {
   "cell_type": "code",
   "execution_count": 6,
   "id": "6cee2abc-e2f1-49ab-a595-f5f5d7ff5c22",
   "metadata": {},
   "outputs": [
    {
     "data": {
      "text/plain": [
       "array([[[0, 0, 0, 0, 0],\n",
       "        [0, 0, 0, 0, 0],\n",
       "        [0, 0, 0, 0, 0],\n",
       "        [0, 0, 0, 0, 0],\n",
       "        [0, 0, 0, 0, 0]],\n",
       "\n",
       "       [[0, 0, 0, 0, 0],\n",
       "        [0, 0, 0, 0, 0],\n",
       "        [0, 0, 0, 0, 0],\n",
       "        [0, 0, 0, 0, 0],\n",
       "        [0, 0, 0, 0, 0]],\n",
       "\n",
       "       [[0, 0, 0, 0, 0],\n",
       "        [0, 0, 0, 0, 0],\n",
       "        [0, 0, 0, 0, 0],\n",
       "        [0, 0, 0, 0, 0],\n",
       "        [0, 0, 0, 0, 0]],\n",
       "\n",
       "       [[0, 0, 0, 0, 0],\n",
       "        [0, 0, 0, 0, 0],\n",
       "        [0, 0, 0, 0, 0],\n",
       "        [0, 0, 0, 0, 0],\n",
       "        [0, 0, 0, 0, 0]],\n",
       "\n",
       "       [[0, 0, 0, 0, 0],\n",
       "        [0, 0, 0, 0, 0],\n",
       "        [0, 0, 0, 0, 0],\n",
       "        [0, 0, 0, 0, 0],\n",
       "        [0, 0, 0, 0, 0]]])"
      ]
     },
     "execution_count": 6,
     "metadata": {},
     "output_type": "execute_result"
    }
   ],
   "source": [
    "travel_times = np.zeros_like(xx)\n",
    "travel_times"
   ]
  },
  {
   "cell_type": "code",
   "execution_count": 7,
   "id": "c0ae0703-68d5-40bd-8d96-4d4fd08cecfc",
   "metadata": {},
   "outputs": [],
   "source": [
    "velocity_model = 6000 #m/s"
   ]
  },
  {
   "cell_type": "code",
   "execution_count": 8,
   "id": "cc96c6c6-1458-47be-b6f5-87d193962738",
   "metadata": {},
   "outputs": [
    {
     "data": {
      "text/plain": [
       "array([[[346.41016151, 300.        , 282.84271247, 300.        ,\n",
       "         346.41016151],\n",
       "        [300.        , 244.94897428, 223.60679775, 244.94897428,\n",
       "         300.        ],\n",
       "        [282.84271247, 223.60679775, 200.        , 223.60679775,\n",
       "         282.84271247],\n",
       "        [300.        , 244.94897428, 223.60679775, 244.94897428,\n",
       "         300.        ],\n",
       "        [346.41016151, 300.        , 282.84271247, 300.        ,\n",
       "         346.41016151]],\n",
       "\n",
       "       [[300.        , 244.94897428, 223.60679775, 244.94897428,\n",
       "         300.        ],\n",
       "        [244.94897428, 173.20508076, 141.42135624, 173.20508076,\n",
       "         244.94897428],\n",
       "        [223.60679775, 141.42135624, 100.        , 141.42135624,\n",
       "         223.60679775],\n",
       "        [244.94897428, 173.20508076, 141.42135624, 173.20508076,\n",
       "         244.94897428],\n",
       "        [300.        , 244.94897428, 223.60679775, 244.94897428,\n",
       "         300.        ]],\n",
       "\n",
       "       [[282.84271247, 223.60679775, 200.        , 223.60679775,\n",
       "         282.84271247],\n",
       "        [223.60679775, 141.42135624, 100.        , 141.42135624,\n",
       "         223.60679775],\n",
       "        [200.        , 100.        ,   0.        , 100.        ,\n",
       "         200.        ],\n",
       "        [223.60679775, 141.42135624, 100.        , 141.42135624,\n",
       "         223.60679775],\n",
       "        [282.84271247, 223.60679775, 200.        , 223.60679775,\n",
       "         282.84271247]],\n",
       "\n",
       "       [[300.        , 244.94897428, 223.60679775, 244.94897428,\n",
       "         300.        ],\n",
       "        [244.94897428, 173.20508076, 141.42135624, 173.20508076,\n",
       "         244.94897428],\n",
       "        [223.60679775, 141.42135624, 100.        , 141.42135624,\n",
       "         223.60679775],\n",
       "        [244.94897428, 173.20508076, 141.42135624, 173.20508076,\n",
       "         244.94897428],\n",
       "        [300.        , 244.94897428, 223.60679775, 244.94897428,\n",
       "         300.        ]],\n",
       "\n",
       "       [[346.41016151, 300.        , 282.84271247, 300.        ,\n",
       "         346.41016151],\n",
       "        [300.        , 244.94897428, 223.60679775, 244.94897428,\n",
       "         300.        ],\n",
       "        [282.84271247, 223.60679775, 200.        , 223.60679775,\n",
       "         282.84271247],\n",
       "        [300.        , 244.94897428, 223.60679775, 244.94897428,\n",
       "         300.        ],\n",
       "        [346.41016151, 300.        , 282.84271247, 300.        ,\n",
       "         346.41016151]]])"
      ]
     },
     "execution_count": 8,
     "metadata": {},
     "output_type": "execute_result"
    }
   ],
   "source": [
    "C = np.sqrt(xx**2 + yy**2 + zz**2)\n",
    "C"
   ]
  },
  {
   "cell_type": "code",
   "execution_count": 9,
   "id": "cf022768-adc6-4d23-8e7b-8f9d3a8a2ade",
   "metadata": {},
   "outputs": [
    {
     "data": {
      "text/plain": [
       "array([[[0.05773503, 0.05      , 0.04714045, 0.05      , 0.05773503],\n",
       "        [0.05      , 0.04082483, 0.0372678 , 0.04082483, 0.05      ],\n",
       "        [0.04714045, 0.0372678 , 0.03333333, 0.0372678 , 0.04714045],\n",
       "        [0.05      , 0.04082483, 0.0372678 , 0.04082483, 0.05      ],\n",
       "        [0.05773503, 0.05      , 0.04714045, 0.05      , 0.05773503]],\n",
       "\n",
       "       [[0.05      , 0.04082483, 0.0372678 , 0.04082483, 0.05      ],\n",
       "        [0.04082483, 0.02886751, 0.02357023, 0.02886751, 0.04082483],\n",
       "        [0.0372678 , 0.02357023, 0.01666667, 0.02357023, 0.0372678 ],\n",
       "        [0.04082483, 0.02886751, 0.02357023, 0.02886751, 0.04082483],\n",
       "        [0.05      , 0.04082483, 0.0372678 , 0.04082483, 0.05      ]],\n",
       "\n",
       "       [[0.04714045, 0.0372678 , 0.03333333, 0.0372678 , 0.04714045],\n",
       "        [0.0372678 , 0.02357023, 0.01666667, 0.02357023, 0.0372678 ],\n",
       "        [0.03333333, 0.01666667, 0.        , 0.01666667, 0.03333333],\n",
       "        [0.0372678 , 0.02357023, 0.01666667, 0.02357023, 0.0372678 ],\n",
       "        [0.04714045, 0.0372678 , 0.03333333, 0.0372678 , 0.04714045]],\n",
       "\n",
       "       [[0.05      , 0.04082483, 0.0372678 , 0.04082483, 0.05      ],\n",
       "        [0.04082483, 0.02886751, 0.02357023, 0.02886751, 0.04082483],\n",
       "        [0.0372678 , 0.02357023, 0.01666667, 0.02357023, 0.0372678 ],\n",
       "        [0.04082483, 0.02886751, 0.02357023, 0.02886751, 0.04082483],\n",
       "        [0.05      , 0.04082483, 0.0372678 , 0.04082483, 0.05      ]],\n",
       "\n",
       "       [[0.05773503, 0.05      , 0.04714045, 0.05      , 0.05773503],\n",
       "        [0.05      , 0.04082483, 0.0372678 , 0.04082483, 0.05      ],\n",
       "        [0.04714045, 0.0372678 , 0.03333333, 0.0372678 , 0.04714045],\n",
       "        [0.05      , 0.04082483, 0.0372678 , 0.04082483, 0.05      ],\n",
       "        [0.05773503, 0.05      , 0.04714045, 0.05      , 0.05773503]]])"
      ]
     },
     "execution_count": 9,
     "metadata": {},
     "output_type": "execute_result"
    }
   ],
   "source": [
    "C/velocity_model"
   ]
  },
  {
   "cell_type": "code",
   "execution_count": 10,
   "id": "1ed3bfae-f8c1-45c4-a71f-9353435a8cf6",
   "metadata": {},
   "outputs": [
    {
     "data": {
      "text/plain": [
       "array([[[-200, -200, -200, -200, -200],\n",
       "        [-200, -200, -200, -200, -200],\n",
       "        [-200, -200, -200, -200, -200],\n",
       "        [-200, -200, -200, -200, -200],\n",
       "        [-200, -200, -200, -200, -200]],\n",
       "\n",
       "       [[-200, -200, -200, -200, -200],\n",
       "        [-200, -200, -200, -200, -200],\n",
       "        [-200, -200, -200, -200, -200],\n",
       "        [-200, -200, -200, -200, -200],\n",
       "        [-200, -200, -200, -200, -200]],\n",
       "\n",
       "       [[-200, -200, -200, -200, -200],\n",
       "        [-200, -200, -200, -200, -200],\n",
       "        [-200, -200, -200, -200, -200],\n",
       "        [-200, -200, -200, -200, -200],\n",
       "        [-200, -200, -200, -200, -200]],\n",
       "\n",
       "       [[-200, -200, -200, -200, -200],\n",
       "        [-200, -200, -200, -200, -200],\n",
       "        [-200, -200, -200, -200, -200],\n",
       "        [-200, -200, -200, -200, -200],\n",
       "        [-200, -200, -200, -200, -200]],\n",
       "\n",
       "       [[-200, -200, -200, -200, -200],\n",
       "        [-200, -200, -200, -200, -200],\n",
       "        [-200, -200, -200, -200, -200],\n",
       "        [-200, -200, -200, -200, -200],\n",
       "        [-200, -200, -200, -200, -200]]])"
      ]
     },
     "execution_count": 10,
     "metadata": {},
     "output_type": "execute_result"
    }
   ],
   "source": [
    "np.zeros_like(yy)+(-200)"
   ]
  },
  {
   "cell_type": "code",
   "execution_count": 11,
   "id": "30d30eac-4a4d-423c-a773-834a5c3255ab",
   "metadata": {},
   "outputs": [
    {
     "data": {
      "text/plain": [
       "array([-200, -100,    0,  100,  200])"
      ]
     },
     "execution_count": 11,
     "metadata": {},
     "output_type": "execute_result"
    }
   ],
   "source": [
    "np.unique(yy)"
   ]
  },
  {
   "cell_type": "code",
   "execution_count": 51,
   "id": "2adffe73-7c89-4ac4-978b-c479fcda95de",
   "metadata": {},
   "outputs": [
    {
     "data": {
      "text/plain": [
       "<matplotlib.colorbar.Colorbar at 0x7f9f825ad3d0>"
      ]
     },
     "execution_count": 51,
     "metadata": {},
     "output_type": "execute_result"
    },
    {
     "data": {
      "image/png": "[encoded data removed]",
      "text/plain": [
       "<Figure size 432x288 with 2 Axes>"
      ]
     },
     "metadata": {
      "needs_background": "light"
     },
     "output_type": "display_data"
    }
   ],
   "source": [
    "yy_1 = -100\n",
    "yy_2 = -100\n",
    "\n",
    "yy1_dw = np.sqrt(xx**2 + (yy - yy_1)**2 + zz**2)\n",
    "\n",
    "yy2_dw = np.sqrt(xx**2 + (yy - yy_2)**2 + zz**2)\n",
    "\n",
    "# wmat = zeros(length(gdpks), length(gdpks)); # wmat -> weighting matrix n x m : n = number of instruments\n",
    "# wmat = diag(uncer(gdpks)); # you pick the uncertainty you want\n",
    "wmat = np.zeros([100, 100])\n",
    "\n",
    "t0_1 = yy1_dw/velocity_model\n",
    "\n",
    "arrival_from_hour_start = (pd.to_datetime('08:05:18.033') - pd.to_datetime('08:00:00')).seconds\n",
    "evec = (arrival_from_hour_start - t0_1)\n",
    "wmat = [0.1, 0.1, 0.1] # 100 ms\n",
    "plt.pcolormesh(np.sqrt((evec.transpose() * evec)/np.sum(wmat))[2], cmap='plasma_r')\n",
    "plt.colorbar()"
   ]
  },
  {
   "cell_type": "code",
   "execution_count": 19,
   "id": "4e92f0ea-112f-4ffa-8cf8-2fef2c7e5460",
   "metadata": {},
   "outputs": [],
   "source": [
    "np.__version__\n",
    "import matplotlib.pyplot as plt"
   ]
  },
  {
   "cell_type": "code",
   "execution_count": 14,
   "id": "87906718-25f5-45a6-89fe-921cbbd11d05",
   "metadata": {},
   "outputs": [
    {
     "name": "stdout",
     "output_type": "stream",
     "text": [
      "Requirement already satisfied: numpy in /home/john/anaconda3/envs/borehole/lib/python3.8/site-packages (1.22.4)\n",
      "\u001b[33mWARNING: You are using pip version 22.0.4; however, version 22.1.2 is available.\n",
      "You should consider upgrading via the '/home/john/anaconda3/envs/borehole/bin/python3.8 -m pip install --upgrade pip' command.\u001b[0m\u001b[33m\n",
      "\u001b[0m"
     ]
    }
   ],
   "source": [
    "!pip install numpy --upgrade"
   ]
  },
  {
   "cell_type": "code",
   "execution_count": 15,
   "id": "eafeaf6e-41eb-4b42-8c7d-b218d13333d8",
   "metadata": {},
   "outputs": [
    {
     "data": {
      "text/plain": [
       "array([0.1, 0.1, 0.1, 0.1, 0.1, 0.1, 0.1, 0.1, 0.1, 0.1, 0.1, 0.1, 0.1,\n",
       "       0.1, 0.1, 0.1, 0.1, 0.1, 0.1, 0.1, 0.1, 0.1, 0.1, 0.1, 0.1, 0.1,\n",
       "       0.1, 0.1, 0.1, 0.1, 0.1, 0.1, 0.1, 0.1, 0.1, 0.1, 0.1, 0.1, 0.1,\n",
       "       0.1, 0.1, 0.1, 0.1, 0.1, 0.1, 0.1, 0.1, 0.1, 0.1, 0.1, 0.1, 0.1,\n",
       "       0.1, 0.1, 0.1, 0.1, 0.1, 0.1, 0.1, 0.1, 0.1, 0.1, 0.1, 0.1, 0.1,\n",
       "       0.1, 0.1, 0.1, 0.1, 0.1, 0.1, 0.1, 0.1, 0.1, 0.1, 0.1, 0.1, 0.1,\n",
       "       0.1, 0.1, 0.1, 0.1, 0.1, 0.1, 0.1, 0.1, 0.1, 0.1, 0.1, 0.1, 0.1,\n",
       "       0.1, 0.1, 0.1, 0.1, 0.1, 0.1, 0.1, 0.1, 0.1])"
      ]
     },
     "execution_count": 15,
     "metadata": {},
     "output_type": "execute_result"
    }
   ],
   "source": [
    "wmat = np.zeros([100, 100])\n",
    "wmat = wmat + 0.1\n",
    "np.diag(wmat)"
   ]
  },
  {
   "cell_type": "code",
   "execution_count": 16,
   "id": "8e4f6e34-a51e-4257-bbb7-e8787dc75ce0",
   "metadata": {},
   "outputs": [
    {
     "ename": "SyntaxError",
     "evalue": "invalid syntax (2327918895.py, line 1)",
     "output_type": "error",
     "traceback": [
      "\u001b[0;36m  File \u001b[0;32m\"/tmp/ipykernel_26130/2327918895.py\"\u001b[0;36m, line \u001b[0;32m1\u001b[0m\n\u001b[0;31m    def calc_dx()\u001b[0m\n\u001b[0m                 ^\u001b[0m\n\u001b[0;31mSyntaxError\u001b[0m\u001b[0;31m:\u001b[0m invalid syntax\n"
     ]
    }
   ],
   "source": [
    "def calc_dx()\n",
    "\n",
    "def calc_travel_time(dx, vp)\n",
    "    return dx / vp"
   ]
  },
  {
   "cell_type": "code",
   "execution_count": 44,
   "id": "4b604704-b588-4037-b71a-e3faeb6931cb",
   "metadata": {},
   "outputs": [
    {
     "data": {
      "text/plain": [
       "array([[ 3,  0,  0],\n",
       "       [ 0, 10,  0],\n",
       "       [ 0,  0,  9]])"
      ]
     },
     "execution_count": 44,
     "metadata": {},
     "output_type": "execute_result"
    }
   ],
   "source": [
    "np.array([[1, 2, 3], [4, 5, 6], [7, 8, 9]]) * np.diag(np.array([3, 2, 1]))"
   ]
  },
  {
   "cell_type": "code",
   "execution_count": null,
   "id": "70d5475f-37e9-4003-a250-c11272a6de7c",
   "metadata": {},
   "outputs": [],
   "source": []
  },
  {
   "cell_type": "code",
   "execution_count": null,
   "id": "9112f459-99fe-444d-bec6-f11dd2778235",
   "metadata": {},
   "outputs": [],
   "source": []
  }
 ],
 "metadata": {
  "kernelspec": {
   "display_name": "Python [conda env:borehole] *",
   "language": "python",
   "name": "conda-env-borehole-py"
  },
  "language_info": {
   "codemirror_mode": {
    "name": "ipython",
    "version": 3
   },
   "file_extension": ".py",
   "mimetype": "text/x-python",
   "name": "python",
   "nbconvert_exporter": "python",
   "pygments_lexer": "ipython3",
   "version": "3.8.12"
  }
 },
 "nbformat": 4,
 "nbformat_minor": 5
}
