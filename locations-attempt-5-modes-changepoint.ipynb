{
 "cells": [
  {
   "cell_type": "code",
   "execution_count": 1,
   "id": "a0764ed7-b529-4c14-99f8-e6c1ab53f77d",
   "metadata": {},
   "outputs": [
    {
     "name": "stdout",
     "output_type": "stream",
     "text": [
      "number of events detected: (1975, 7)\n"
     ]
    }
   ],
   "source": [
    "%matplotlib inline\n",
    "from event import Event, iet\n",
    "import matplotlib.pyplot as plt\n",
    "import numpy as np\n"
   ]
  },
  {
   "cell_type": "code",
   "execution_count": 2,
   "id": "f4ce9245-db5b-41c9-827a-710c11b836ad",
   "metadata": {},
   "outputs": [
    {
     "data": {
      "text/html": [
       "<div>\n",
       "<style scoped>\n",
       "    .dataframe tbody tr th:only-of-type {\n",
       "        vertical-align: middle;\n",
       "    }\n",
       "\n",
       "    .dataframe tbody tr th {\n",
       "        vertical-align: top;\n",
       "    }\n",
       "\n",
       "    .dataframe thead th {\n",
       "        text-align: right;\n",
       "    }\n",
       "</style>\n",
       "<table border=\"1\" class=\"dataframe\">\n",
       "  <thead>\n",
       "    <tr style=\"text-align: right;\">\n",
       "      <th></th>\n",
       "      <th>index</th>\n",
       "      <th>event_times (mpl)</th>\n",
       "      <th>event_times (abs)</th>\n",
       "      <th>hphone_idx</th>\n",
       "      <th>ones</th>\n",
       "      <th>event_times</th>\n",
       "      <th>p_arrival_hphone_idx</th>\n",
       "    </tr>\n",
       "  </thead>\n",
       "  <tbody>\n",
       "    <tr>\n",
       "      <th>0</th>\n",
       "      <td>0</td>\n",
       "      <td>18037.318174</td>\n",
       "      <td>2019-05-21T07:38:10.208000Z</td>\n",
       "      <td>h3</td>\n",
       "      <td>1</td>\n",
       "      <td>2019-05-21 07:38:10.208000+00:00</td>\n",
       "      <td>2019-05-21 07:38:10.186000+00:00</td>\n",
       "    </tr>\n",
       "    <tr>\n",
       "      <th>1</th>\n",
       "      <td>1</td>\n",
       "      <td>18037.318189</td>\n",
       "      <td>2019-05-21T07:38:11.526000Z</td>\n",
       "      <td>h3</td>\n",
       "      <td>1</td>\n",
       "      <td>2019-05-21 07:38:11.526000+00:00</td>\n",
       "      <td>2019-05-21 07:38:11.517000+00:00</td>\n",
       "    </tr>\n",
       "    <tr>\n",
       "      <th>2</th>\n",
       "      <td>2</td>\n",
       "      <td>18037.318203</td>\n",
       "      <td>2019-05-21T07:38:12.754000Z</td>\n",
       "      <td>h3</td>\n",
       "      <td>1</td>\n",
       "      <td>2019-05-21 07:38:12.754000+00:00</td>\n",
       "      <td>2019-05-21 07:38:12.723000+00:00</td>\n",
       "    </tr>\n",
       "    <tr>\n",
       "      <th>3</th>\n",
       "      <td>3</td>\n",
       "      <td>18037.318219</td>\n",
       "      <td>2019-05-21T07:38:14.141000Z</td>\n",
       "      <td>h3</td>\n",
       "      <td>1</td>\n",
       "      <td>2019-05-21 07:38:14.141000+00:00</td>\n",
       "      <td>2019-05-21 07:38:14.107000+00:00</td>\n",
       "    </tr>\n",
       "    <tr>\n",
       "      <th>4</th>\n",
       "      <td>4</td>\n",
       "      <td>18037.318222</td>\n",
       "      <td>2019-05-21T07:38:14.405000Z</td>\n",
       "      <td>h3</td>\n",
       "      <td>1</td>\n",
       "      <td>2019-05-21 07:38:14.405000+00:00</td>\n",
       "      <td>2019-05-21 07:38:14.592000+00:00</td>\n",
       "    </tr>\n",
       "    <tr>\n",
       "      <th>...</th>\n",
       "      <td>...</td>\n",
       "      <td>...</td>\n",
       "      <td>...</td>\n",
       "      <td>...</td>\n",
       "      <td>...</td>\n",
       "      <td>...</td>\n",
       "      <td>...</td>\n",
       "    </tr>\n",
       "    <tr>\n",
       "      <th>1970</th>\n",
       "      <td>300</td>\n",
       "      <td>18037.359564</td>\n",
       "      <td>2019-05-21T08:37:46.291000Z</td>\n",
       "      <td>h6</td>\n",
       "      <td>1</td>\n",
       "      <td>2019-05-21 08:37:46.291000+00:00</td>\n",
       "      <td>2019-05-21 08:37:46.273000+00:00</td>\n",
       "    </tr>\n",
       "    <tr>\n",
       "      <th>1971</th>\n",
       "      <td>301</td>\n",
       "      <td>18037.359570</td>\n",
       "      <td>2019-05-21T08:37:46.891000Z</td>\n",
       "      <td>h6</td>\n",
       "      <td>1</td>\n",
       "      <td>2019-05-21 08:37:46.891000+00:00</td>\n",
       "      <td>2019-05-21 08:37:46.868000+00:00</td>\n",
       "    </tr>\n",
       "    <tr>\n",
       "      <th>1972</th>\n",
       "      <td>302</td>\n",
       "      <td>18037.359578</td>\n",
       "      <td>2019-05-21T08:37:47.564000Z</td>\n",
       "      <td>h6</td>\n",
       "      <td>1</td>\n",
       "      <td>2019-05-21 08:37:47.564000+00:00</td>\n",
       "      <td>2019-05-21 08:37:47.739000+00:00</td>\n",
       "    </tr>\n",
       "    <tr>\n",
       "      <th>1973</th>\n",
       "      <td>303</td>\n",
       "      <td>18037.359589</td>\n",
       "      <td>2019-05-21T08:37:48.513000Z</td>\n",
       "      <td>h6</td>\n",
       "      <td>1</td>\n",
       "      <td>2019-05-21 08:37:48.513000+00:00</td>\n",
       "      <td>2019-05-21 08:37:48.496000+00:00</td>\n",
       "    </tr>\n",
       "    <tr>\n",
       "      <th>1974</th>\n",
       "      <td>304</td>\n",
       "      <td>18037.359599</td>\n",
       "      <td>2019-05-21T08:37:49.365000Z</td>\n",
       "      <td>h6</td>\n",
       "      <td>1</td>\n",
       "      <td>2019-05-21 08:37:49.365000+00:00</td>\n",
       "      <td>2019-05-21 08:37:49.347000+00:00</td>\n",
       "    </tr>\n",
       "  </tbody>\n",
       "</table>\n",
       "<p>1975 rows × 7 columns</p>\n",
       "</div>"
      ],
      "text/plain": [
       "      index  event_times (mpl)            event_times (abs) hphone_idx  ones  \\\n",
       "0         0       18037.318174  2019-05-21T07:38:10.208000Z         h3     1   \n",
       "1         1       18037.318189  2019-05-21T07:38:11.526000Z         h3     1   \n",
       "2         2       18037.318203  2019-05-21T07:38:12.754000Z         h3     1   \n",
       "3         3       18037.318219  2019-05-21T07:38:14.141000Z         h3     1   \n",
       "4         4       18037.318222  2019-05-21T07:38:14.405000Z         h3     1   \n",
       "...     ...                ...                          ...        ...   ...   \n",
       "1970    300       18037.359564  2019-05-21T08:37:46.291000Z         h6     1   \n",
       "1971    301       18037.359570  2019-05-21T08:37:46.891000Z         h6     1   \n",
       "1972    302       18037.359578  2019-05-21T08:37:47.564000Z         h6     1   \n",
       "1973    303       18037.359589  2019-05-21T08:37:48.513000Z         h6     1   \n",
       "1974    304       18037.359599  2019-05-21T08:37:49.365000Z         h6     1   \n",
       "\n",
       "                          event_times             p_arrival_hphone_idx  \n",
       "0    2019-05-21 07:38:10.208000+00:00 2019-05-21 07:38:10.186000+00:00  \n",
       "1    2019-05-21 07:38:11.526000+00:00 2019-05-21 07:38:11.517000+00:00  \n",
       "2    2019-05-21 07:38:12.754000+00:00 2019-05-21 07:38:12.723000+00:00  \n",
       "3    2019-05-21 07:38:14.141000+00:00 2019-05-21 07:38:14.107000+00:00  \n",
       "4    2019-05-21 07:38:14.405000+00:00 2019-05-21 07:38:14.592000+00:00  \n",
       "...                               ...                              ...  \n",
       "1970 2019-05-21 08:37:46.291000+00:00 2019-05-21 08:37:46.273000+00:00  \n",
       "1971 2019-05-21 08:37:46.891000+00:00 2019-05-21 08:37:46.868000+00:00  \n",
       "1972 2019-05-21 08:37:47.564000+00:00 2019-05-21 08:37:47.739000+00:00  \n",
       "1973 2019-05-21 08:37:48.513000+00:00 2019-05-21 08:37:48.496000+00:00  \n",
       "1974 2019-05-21 08:37:49.365000+00:00 2019-05-21 08:37:49.347000+00:00  \n",
       "\n",
       "[1975 rows x 7 columns]"
      ]
     },
     "execution_count": 2,
     "metadata": {},
     "output_type": "execute_result"
    }
   ],
   "source": [
    "iet.df"
   ]
  },
  {
   "cell_type": "code",
   "execution_count": 3,
   "id": "026260b7-e305-412b-b2aa-82664a9d59b4",
   "metadata": {},
   "outputs": [],
   "source": [
    "e = Event(id=320)"
   ]
  },
  {
   "cell_type": "code",
   "execution_count": 4,
   "id": "64d73c0f-e995-4539-8526-1f7fc8df1e42",
   "metadata": {},
   "outputs": [],
   "source": [
    "depths = [Event(id=id).depth for id in iet.df.index]\n",
    "iet.df['depth'] = depths"
   ]
  },
  {
   "cell_type": "code",
   "execution_count": 6,
   "id": "ba607496-67cf-4dd8-bb18-171556a503bb",
   "metadata": {},
   "outputs": [
    {
     "data": {
      "text/html": [
       "<div>\n",
       "<style scoped>\n",
       "    .dataframe tbody tr th:only-of-type {\n",
       "        vertical-align: middle;\n",
       "    }\n",
       "\n",
       "    .dataframe tbody tr th {\n",
       "        vertical-align: top;\n",
       "    }\n",
       "\n",
       "    .dataframe thead th {\n",
       "        text-align: right;\n",
       "    }\n",
       "</style>\n",
       "<table border=\"1\" class=\"dataframe\">\n",
       "  <thead>\n",
       "    <tr style=\"text-align: right;\">\n",
       "      <th></th>\n",
       "      <th>index</th>\n",
       "      <th>event_times (mpl)</th>\n",
       "      <th>event_times (abs)</th>\n",
       "      <th>hphone_idx</th>\n",
       "      <th>ones</th>\n",
       "      <th>event_times</th>\n",
       "      <th>p_arrival_hphone_idx</th>\n",
       "      <th>depth</th>\n",
       "    </tr>\n",
       "  </thead>\n",
       "  <tbody>\n",
       "    <tr>\n",
       "      <th>0</th>\n",
       "      <td>0</td>\n",
       "      <td>18037.318174</td>\n",
       "      <td>2019-05-21T07:38:10.208000Z</td>\n",
       "      <td>h3</td>\n",
       "      <td>1</td>\n",
       "      <td>2019-05-21 07:38:10.208000+00:00</td>\n",
       "      <td>2019-05-21 07:38:10.186000+00:00</td>\n",
       "      <td>-49.4</td>\n",
       "    </tr>\n",
       "    <tr>\n",
       "      <th>1</th>\n",
       "      <td>1</td>\n",
       "      <td>18037.318189</td>\n",
       "      <td>2019-05-21T07:38:11.526000Z</td>\n",
       "      <td>h3</td>\n",
       "      <td>1</td>\n",
       "      <td>2019-05-21 07:38:11.526000+00:00</td>\n",
       "      <td>2019-05-21 07:38:11.517000+00:00</td>\n",
       "      <td>172.2</td>\n",
       "    </tr>\n",
       "    <tr>\n",
       "      <th>2</th>\n",
       "      <td>2</td>\n",
       "      <td>18037.318203</td>\n",
       "      <td>2019-05-21T07:38:12.754000Z</td>\n",
       "      <td>h3</td>\n",
       "      <td>1</td>\n",
       "      <td>2019-05-21 07:38:12.754000+00:00</td>\n",
       "      <td>2019-05-21 07:38:12.723000+00:00</td>\n",
       "      <td>312.2</td>\n",
       "    </tr>\n",
       "    <tr>\n",
       "      <th>3</th>\n",
       "      <td>3</td>\n",
       "      <td>18037.318219</td>\n",
       "      <td>2019-05-21T07:38:14.141000Z</td>\n",
       "      <td>h3</td>\n",
       "      <td>1</td>\n",
       "      <td>2019-05-21 07:38:14.141000+00:00</td>\n",
       "      <td>2019-05-21 07:38:14.107000+00:00</td>\n",
       "      <td>326.6</td>\n",
       "    </tr>\n",
       "    <tr>\n",
       "      <th>4</th>\n",
       "      <td>4</td>\n",
       "      <td>18037.318222</td>\n",
       "      <td>2019-05-21T07:38:14.405000Z</td>\n",
       "      <td>h3</td>\n",
       "      <td>1</td>\n",
       "      <td>2019-05-21 07:38:14.405000+00:00</td>\n",
       "      <td>2019-05-21 07:38:14.592000+00:00</td>\n",
       "      <td>212.2</td>\n",
       "    </tr>\n",
       "    <tr>\n",
       "      <th>...</th>\n",
       "      <td>...</td>\n",
       "      <td>...</td>\n",
       "      <td>...</td>\n",
       "      <td>...</td>\n",
       "      <td>...</td>\n",
       "      <td>...</td>\n",
       "      <td>...</td>\n",
       "      <td>...</td>\n",
       "    </tr>\n",
       "    <tr>\n",
       "      <th>1970</th>\n",
       "      <td>300</td>\n",
       "      <td>18037.359564</td>\n",
       "      <td>2019-05-21T08:37:46.291000Z</td>\n",
       "      <td>h6</td>\n",
       "      <td>1</td>\n",
       "      <td>2019-05-21 08:37:46.291000+00:00</td>\n",
       "      <td>2019-05-21 08:37:46.273000+00:00</td>\n",
       "      <td>382.2</td>\n",
       "    </tr>\n",
       "    <tr>\n",
       "      <th>1971</th>\n",
       "      <td>301</td>\n",
       "      <td>18037.359570</td>\n",
       "      <td>2019-05-21T08:37:46.891000Z</td>\n",
       "      <td>h6</td>\n",
       "      <td>1</td>\n",
       "      <td>2019-05-21 08:37:46.891000+00:00</td>\n",
       "      <td>2019-05-21 08:37:46.868000+00:00</td>\n",
       "      <td>383.0</td>\n",
       "    </tr>\n",
       "    <tr>\n",
       "      <th>1972</th>\n",
       "      <td>302</td>\n",
       "      <td>18037.359578</td>\n",
       "      <td>2019-05-21T08:37:47.564000Z</td>\n",
       "      <td>h6</td>\n",
       "      <td>1</td>\n",
       "      <td>2019-05-21 08:37:47.564000+00:00</td>\n",
       "      <td>2019-05-21 08:37:47.739000+00:00</td>\n",
       "      <td>383.0</td>\n",
       "    </tr>\n",
       "    <tr>\n",
       "      <th>1973</th>\n",
       "      <td>303</td>\n",
       "      <td>18037.359589</td>\n",
       "      <td>2019-05-21T08:37:48.513000Z</td>\n",
       "      <td>h6</td>\n",
       "      <td>1</td>\n",
       "      <td>2019-05-21 08:37:48.513000+00:00</td>\n",
       "      <td>2019-05-21 08:37:48.496000+00:00</td>\n",
       "      <td>383.8</td>\n",
       "    </tr>\n",
       "    <tr>\n",
       "      <th>1974</th>\n",
       "      <td>304</td>\n",
       "      <td>18037.359599</td>\n",
       "      <td>2019-05-21T08:37:49.365000Z</td>\n",
       "      <td>h6</td>\n",
       "      <td>1</td>\n",
       "      <td>2019-05-21 08:37:49.365000+00:00</td>\n",
       "      <td>2019-05-21 08:37:49.347000+00:00</td>\n",
       "      <td>385.4</td>\n",
       "    </tr>\n",
       "  </tbody>\n",
       "</table>\n",
       "<p>1975 rows × 8 columns</p>\n",
       "</div>"
      ],
      "text/plain": [
       "      index  event_times (mpl)            event_times (abs) hphone_idx  ones  \\\n",
       "0         0       18037.318174  2019-05-21T07:38:10.208000Z         h3     1   \n",
       "1         1       18037.318189  2019-05-21T07:38:11.526000Z         h3     1   \n",
       "2         2       18037.318203  2019-05-21T07:38:12.754000Z         h3     1   \n",
       "3         3       18037.318219  2019-05-21T07:38:14.141000Z         h3     1   \n",
       "4         4       18037.318222  2019-05-21T07:38:14.405000Z         h3     1   \n",
       "...     ...                ...                          ...        ...   ...   \n",
       "1970    300       18037.359564  2019-05-21T08:37:46.291000Z         h6     1   \n",
       "1971    301       18037.359570  2019-05-21T08:37:46.891000Z         h6     1   \n",
       "1972    302       18037.359578  2019-05-21T08:37:47.564000Z         h6     1   \n",
       "1973    303       18037.359589  2019-05-21T08:37:48.513000Z         h6     1   \n",
       "1974    304       18037.359599  2019-05-21T08:37:49.365000Z         h6     1   \n",
       "\n",
       "                          event_times             p_arrival_hphone_idx  depth  \n",
       "0    2019-05-21 07:38:10.208000+00:00 2019-05-21 07:38:10.186000+00:00  -49.4  \n",
       "1    2019-05-21 07:38:11.526000+00:00 2019-05-21 07:38:11.517000+00:00  172.2  \n",
       "2    2019-05-21 07:38:12.754000+00:00 2019-05-21 07:38:12.723000+00:00  312.2  \n",
       "3    2019-05-21 07:38:14.141000+00:00 2019-05-21 07:38:14.107000+00:00  326.6  \n",
       "4    2019-05-21 07:38:14.405000+00:00 2019-05-21 07:38:14.592000+00:00  212.2  \n",
       "...                               ...                              ...    ...  \n",
       "1970 2019-05-21 08:37:46.291000+00:00 2019-05-21 08:37:46.273000+00:00  382.2  \n",
       "1971 2019-05-21 08:37:46.891000+00:00 2019-05-21 08:37:46.868000+00:00  383.0  \n",
       "1972 2019-05-21 08:37:47.564000+00:00 2019-05-21 08:37:47.739000+00:00  383.0  \n",
       "1973 2019-05-21 08:37:48.513000+00:00 2019-05-21 08:37:48.496000+00:00  383.8  \n",
       "1974 2019-05-21 08:37:49.365000+00:00 2019-05-21 08:37:49.347000+00:00  385.4  \n",
       "\n",
       "[1975 rows x 8 columns]"
      ]
     },
     "execution_count": 6,
     "metadata": {},
     "output_type": "execute_result"
    }
   ],
   "source": [
    "iet.df"
   ]
  },
  {
   "cell_type": "code",
   "execution_count": 46,
   "id": "ecfd3cdb-082c-45da-a6d0-9df3f7501509",
   "metadata": {},
   "outputs": [
    {
     "data": {
      "text/plain": [
       "[]"
      ]
     },
     "execution_count": 46,
     "metadata": {},
     "output_type": "execute_result"
    },
    {
     "data": {
      "image/png": "[encoded data removed]",
      "text/plain": [
       "<Figure size 360x1080 with 1 Axes>"
      ]
     },
     "metadata": {
      "needs_background": "light"
     },
     "output_type": "display_data"
    }
   ],
   "source": [
    "\n",
    "hydrophones = {'h1':{'depth':30, 'idx':0}\n",
    "              ,'h2':{'depth':100, 'idx':1}\n",
    "              ,'h3':{'depth':170, 'idx':2}\n",
    "              ,'h4':{'depth':240, 'idx':3}\n",
    "              ,'h5':{'depth':310, 'idx':4}\n",
    "              ,'h6':{'depth':380, 'idx':5}}\n",
    "\n",
    "x = np.zeros(6)\n",
    "h_depths = -1 * np.array([hydrophones[h]['depth'] for h in hydrophones])\n",
    "\n",
    "fig, ax = plt.subplots(figsize=(5, 15))\n",
    "\n",
    "# plot hydrophone cable axis\n",
    "ax.plot((0, 0), (0, -400), color='black')\n",
    "ax.plot(x, h_depths, marker='s', color='black')\n",
    "\n",
    "# ax.set_yticks(h_depths)\n",
    "\n",
    "# make a label for each hydrophone\n",
    "for n, h in enumerate(h_depths):\n",
    "    ax.text(s='h{n}'.format(n=n+1), x=0.005, y=h)\n",
    "\n",
    "h, e = np.histogram(iet.df.depth, bins=np.arange(0, 400, 4))\n",
    "\n",
    "# ax2 = ax.twinx()\n",
    "ax.barh(-e[:-1], width=h/(10*h.sum()), left=0.01, height=(3,)*h.shape[0], color='limegreen')\n",
    "\n",
    "# ax.plot((-10, 10), (-150, -150))\n",
    "ax.set_xticks([])"
   ]
  },
  {
   "cell_type": "code",
   "execution_count": 63,
   "id": "2712212f-14a1-4c73-9607-e61148ed91cb",
   "metadata": {},
   "outputs": [
    {
     "data": {
      "text/plain": [
       "[<matplotlib.lines.Line2D at 0x7f7c0ed276a0>]"
      ]
     },
     "execution_count": 63,
     "metadata": {},
     "output_type": "execute_result"
    },
    {
     "data": {
      "image/png": "[encoded data removed]",
      "text/plain": [
       "<Figure size 1440x720 with 1 Axes>"
      ]
     },
     "metadata": {
      "needs_background": "light"
     },
     "output_type": "display_data"
    }
   ],
   "source": [
    "fig, ax = plt.subplots(figsize=(20, 10))\n",
    "iet.df.set_index('event_times').depth.plot(ax=ax, color='limegreen', marker='o', linewidth=0)\n",
    "ax.invert_yaxis()\n",
    "ax.set_ylabel('Depth (m)', fontsize=15)\n",
    "\n",
    "x = iet.df.event_times[0]\n",
    "ax.plot((x, x), (0, 400), color='black')\n",
    "ax.plot((x,)*6, -h_depths, marker='s', color='black')"
   ]
  },
  {
   "cell_type": "code",
   "execution_count": 66,
   "id": "b909bccd-8f5c-456e-867d-3fd3a0ad2768",
   "metadata": {},
   "outputs": [
    {
     "data": {
      "text/plain": [
       "0         NaN\n",
       "1       1.318\n",
       "2       1.228\n",
       "3       1.387\n",
       "4       0.264\n",
       "        ...  \n",
       "1970    0.574\n",
       "1971    0.600\n",
       "1972    0.673\n",
       "1973    0.949\n",
       "1974    0.852\n",
       "Name: event_times, Length: 1975, dtype: float64"
      ]
     },
     "execution_count": 66,
     "metadata": {},
     "output_type": "execute_result"
    }
   ],
   "source": [
    "iet.df.event_times.diff().apply(lambda x: x.total_seconds())"
   ]
  },
  {
   "cell_type": "code",
   "execution_count": null,
   "id": "1d53d3aa-37a9-4922-931a-1067989a0897",
   "metadata": {},
   "outputs": [],
   "source": []
  },
  {
   "cell_type": "code",
   "execution_count": null,
   "id": "c68f1d61-fb4f-4b80-88e2-a4692ffea98a",
   "metadata": {},
   "outputs": [],
   "source": []
  },
  {
   "cell_type": "code",
   "execution_count": null,
   "id": "62a6d57f-1d5f-4f29-96d8-e50bbe2a3879",
   "metadata": {},
   "outputs": [],
   "source": []
  },
  {
   "cell_type": "code",
   "execution_count": null,
   "id": "e238d1f6-151b-47fc-9fb2-c3427cf33f37",
   "metadata": {
    "scrolled": true,
    "tags": []
   },
   "outputs": [],
   "source": [
    "for id in np.arange(100, 1000, 10):\n",
    "    e = Event(id=id)\n",
    "    fig, ax = e.plot('event depth')\n",
    "    fig.savefig('figures/event{id}.pdf'.format(id=id), bbox_inches='tight')"
   ]
  },
  {
   "cell_type": "code",
   "execution_count": null,
   "id": "793784c0-d630-4783-bdda-123d735d5674",
   "metadata": {},
   "outputs": [],
   "source": [
    "e.plot('waveforms')"
   ]
  },
  {
   "cell_type": "code",
   "execution_count": null,
   "id": "822f89de-1dfd-43bb-a021-4f21e04ea6fb",
   "metadata": {},
   "outputs": [],
   "source": [
    "diffs = [np.diff(aic) for aic in e.aics]\n",
    "\n",
    "fig, ax = plt.subplots()\n",
    "for diff in diffs:\n",
    "    ax.plot(diff)\n",
    "    \n",
    "maxes = [np.argmax(diff) for diff in diffs]"
   ]
  },
  {
   "cell_type": "code",
   "execution_count": null,
   "id": "1b1f64ae-9768-45ed-b1a5-7e8c1eef9183",
   "metadata": {},
   "outputs": [],
   "source": [
    "fig, axes = e.plot('waveforms')\n",
    "\n",
    "for n, max in enumerate(maxes):\n",
    "    t = e.stream[n].times('matplotlib')\n",
    "    y = e.stream[n].data\n",
    "    t = t[max]\n",
    "    y = y[max]\n",
    "    axes[n].plot((t, t), (-2000, 2000), color='gold', linewidth=2)"
   ]
  },
  {
   "cell_type": "code",
   "execution_count": null,
   "id": "b6495f0e-1784-461c-8b0b-52113a188638",
   "metadata": {},
   "outputs": [],
   "source": []
  }
 ],
 "metadata": {
  "kernelspec": {
   "display_name": "Python [conda env:borehole] *",
   "language": "python",
   "name": "conda-env-borehole-py"
  },
  "language_info": {
   "codemirror_mode": {
    "name": "ipython",
    "version": 3
   },
   "file_extension": ".py",
   "mimetype": "text/x-python",
   "name": "python",
   "nbconvert_exporter": "python",
   "pygments_lexer": "ipython3",
   "version": "3.8.12"
  }
 },
 "nbformat": 4,
 "nbformat_minor": 5
}
