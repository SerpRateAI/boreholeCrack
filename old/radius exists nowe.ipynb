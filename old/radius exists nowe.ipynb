{
 "cells": [
  {
   "cell_type": "code",
   "execution_count": 1,
   "id": "65c5660c-689f-4f4d-8113-6fd81eb52572",
   "metadata": {},
   "outputs": [],
   "source": [
    "%matplotlib inline\n",
    "import matplotlib.pyplot as plt\n",
    "import numpy as np\n",
    "import pandas as pd\n",
    "import matplotlib.dates as dates\n",
    "import obspy\n",
    "import obspy.signal.trigger as trigger\n",
    "from hydrophone_data_processing import load, useful_variables, plotting, signal_processing\n",
    "import event_detector_pipeline as edp\n",
    "from ast import literal_eval\n",
    "\n",
    "hydrophone_metadata = {\n",
    "    'h1':{\n",
    "        # start and end identifies the start time of the swarm where the amplitude magnitude is the highest\n",
    "        'start':obspy.UTCDateTime('2019-05-21T07:35:00Z')\n",
    "        ,'end':obspy.UTCDateTime('2019-5-21T07:48:00Z')\n",
    "       # obspy_idx is the index within the stream for this data (all data is sorted from top to bottom of the borehole this way in lists)\n",
    "        ,'obspy_idx':0\n",
    "        # depth of the hydrophone\n",
    "        ,'depth':30\n",
    "        ,'velocity_model':1750\n",
    "    }\n",
    "    ,    'h2':{\n",
    "        'start':obspy.UTCDateTime('2019-05-21T07:35:00Z')\n",
    "        ,'end':obspy.UTCDateTime('2019-5-21T07:48:00Z')\n",
    "        ,'obspy_idx':1\n",
    "        ,'depth':100        \n",
    "        ,'velocity_model':1750\n",
    "\n",
    "    }\n",
    "    ,    'h3':{\n",
    "        'start':obspy.UTCDateTime('2019-05-21T07:35:00Z')\n",
    "        ,'end':obspy.UTCDateTime('2019-5-21T07:48:00Z')\n",
    "        ,'obspy_idx':2\n",
    "        ,'depth':170        \n",
    "        ,'velocity_model':1750\n",
    "\n",
    "    }\n",
    "    ,'h4':{\n",
    "        'start':obspy.UTCDateTime('2019-05-21T07:48:00Z')\n",
    "        ,'end':obspy.UTCDateTime('2019-5-21T08:07:00Z')\n",
    "        ,'obspy_idx':3\n",
    "        ,'depth':240\n",
    "        ,'velocity_model':1750\n",
    "    }\n",
    "    ,'h5':{\n",
    "        'start':obspy.UTCDateTime('2019-05-21T08:07:00Z')\n",
    "        # ,'end':obspy.UTCDateTime('2019-5-21T08:34:00Z')\n",
    "        ,'end':obspy.UTCDateTime('2019-5-21T08:38:00Z')\n",
    "        ,'obspy_idx':4\n",
    "        ,'depth':310\n",
    "        ,'velocity_model':1750\n",
    "    }\n",
    "    ,'h6':{\n",
    "        'start':obspy.UTCDateTime('2019-05-21T08:34:00Z')\n",
    "        ,'end':obspy.UTCDateTime('2019-5-21T08:38:00Z')\n",
    "       ,'obspy_idx':5\n",
    "        ,'depth':380\n",
    "        ,'velocity_model':1750\n",
    "    }\n",
    "}"
   ]
  },
  {
   "cell_type": "code",
   "execution_count": 2,
   "id": "8805a27a-f638-4b6a-bdce-d0d14402166a",
   "metadata": {},
   "outputs": [],
   "source": [
    "df = pd.read_csv('precision.csv')\n",
    "# df['aic_t'] = df.aic_t.apply(lambda x: literal_eval(x))\n",
    "# df['aics'][5][7:-2].replace('\\n','')\n",
    "df['aic_t'] = df['aic_t'].apply(literal_eval)\n",
    "df['aics'] = np.array(df['aics'].apply(literal_eval))\n",
    "df['aic_maxes'] = df['aic_maxes'].apply(literal_eval)"
   ]
  },
  {
   "cell_type": "code",
   "execution_count": 3,
   "id": "36a11149-498b-4c09-a936-588e71076aac",
   "metadata": {},
   "outputs": [
    {
     "data": {
      "text/html": [
       "<div>\n",
       "<style scoped>\n",
       "    .dataframe tbody tr th:only-of-type {\n",
       "        vertical-align: middle;\n",
       "    }\n",
       "\n",
       "    .dataframe tbody tr th {\n",
       "        vertical-align: top;\n",
       "    }\n",
       "\n",
       "    .dataframe thead th {\n",
       "        text-align: right;\n",
       "    }\n",
       "</style>\n",
       "<table border=\"1\" class=\"dataframe\">\n",
       "  <thead>\n",
       "    <tr style=\"text-align: right;\">\n",
       "      <th></th>\n",
       "      <th>Unnamed: 0</th>\n",
       "      <th>id</th>\n",
       "      <th>depth</th>\n",
       "      <th>relative_depth</th>\n",
       "      <th>radius</th>\n",
       "      <th>aic_t</th>\n",
       "      <th>aics</th>\n",
       "      <th>aic_maxes</th>\n",
       "      <th>first_hydrophone</th>\n",
       "      <th>second_hydrophone</th>\n",
       "      <th>arrival_time</th>\n",
       "      <th>first_arrival</th>\n",
       "      <th>second_arrival</th>\n",
       "      <th>dt</th>\n",
       "      <th>parrival</th>\n",
       "    </tr>\n",
       "  </thead>\n",
       "  <tbody>\n",
       "    <tr>\n",
       "      <th>0</th>\n",
       "      <td>0</td>\n",
       "      <td>0</td>\n",
       "      <td>418.500</td>\n",
       "      <td>108.500</td>\n",
       "      <td>42.013533</td>\n",
       "      <td>[18037.31817321759, 18037.3181718287, 18037.31...</td>\n",
       "      <td>[-11818.919532274727, -11897.355450596328, -11...</td>\n",
       "      <td>[158, 38, 180, 225, 157, 73]</td>\n",
       "      <td>5</td>\n",
       "      <td>4</td>\n",
       "      <td>18037.318172</td>\n",
       "      <td>2019-05-21 07:38:10.081000+00:00</td>\n",
       "      <td>2019-05-21 07:38:10.165000+00:00</td>\n",
       "      <td>-0.084</td>\n",
       "      <td>2019-05-21 07:38:10.502000+00:00</td>\n",
       "    </tr>\n",
       "    <tr>\n",
       "      <th>1</th>\n",
       "      <td>1</td>\n",
       "      <td>1</td>\n",
       "      <td>345.000</td>\n",
       "      <td>35.000</td>\n",
       "      <td>38.194496</td>\n",
       "      <td>[18037.318188935187, 18037.318188599536, 18037...</td>\n",
       "      <td>[-11346.527262243402, -11411.865881482783, -11...</td>\n",
       "      <td>[198, 169, 198, 239, 77, 77]</td>\n",
       "      <td>4</td>\n",
       "      <td>5</td>\n",
       "      <td>18037.318188</td>\n",
       "      <td>2019-05-21 07:38:11.403000+00:00</td>\n",
       "      <td>2019-05-21 07:38:11.403000+00:00</td>\n",
       "      <td>0.000</td>\n",
       "      <td>2019-05-21 07:38:11.342000+00:00</td>\n",
       "    </tr>\n",
       "    <tr>\n",
       "      <th>2</th>\n",
       "      <td>2</td>\n",
       "      <td>2</td>\n",
       "      <td>345.000</td>\n",
       "      <td>35.000</td>\n",
       "      <td>38.194478</td>\n",
       "      <td>[18037.31820296296, 18037.318202974537, 18037....</td>\n",
       "      <td>[-11737.247555400698, -11802.462266548846, -11...</td>\n",
       "      <td>[182, 183, 182, 227, 49, 49]</td>\n",
       "      <td>4</td>\n",
       "      <td>5</td>\n",
       "      <td>18037.318201</td>\n",
       "      <td>2019-05-21 07:38:12.603000+00:00</td>\n",
       "      <td>2019-05-21 07:38:12.603000+00:00</td>\n",
       "      <td>0.000</td>\n",
       "      <td>2019-05-21 07:38:12.563000+00:00</td>\n",
       "    </tr>\n",
       "    <tr>\n",
       "      <th>3</th>\n",
       "      <td>3</td>\n",
       "      <td>3</td>\n",
       "      <td>345.000</td>\n",
       "      <td>35.000</td>\n",
       "      <td>38.194470</td>\n",
       "      <td>[18037.3182190625, 18037.31821888889, 18037.31...</td>\n",
       "      <td>[-11913.517606890393, -12003.978557313498, -12...</td>\n",
       "      <td>[186, 171, 184, 224, 32, 32]</td>\n",
       "      <td>4</td>\n",
       "      <td>5</td>\n",
       "      <td>18037.318217</td>\n",
       "      <td>2019-05-21 07:38:13.973000+00:00</td>\n",
       "      <td>2019-05-21 07:38:13.973000+00:00</td>\n",
       "      <td>0.000</td>\n",
       "      <td>2019-05-21 07:38:13.943000+00:00</td>\n",
       "    </tr>\n",
       "    <tr>\n",
       "      <th>4</th>\n",
       "      <td>4</td>\n",
       "      <td>4</td>\n",
       "      <td>345.000</td>\n",
       "      <td>35.000</td>\n",
       "      <td>38.194478</td>\n",
       "      <td>[18037.31822136574, 18037.318221331017, 18037....</td>\n",
       "      <td>[-11616.269152776958, -11697.80976516363, -117...</td>\n",
       "      <td>[121, 118, 116, 109, 48, 48]</td>\n",
       "      <td>4</td>\n",
       "      <td>5</td>\n",
       "      <td>18037.318221</td>\n",
       "      <td>2019-05-21 07:38:14.253000+00:00</td>\n",
       "      <td>2019-05-21 07:38:14.253000+00:00</td>\n",
       "      <td>0.000</td>\n",
       "      <td>2019-05-21 07:38:14.213000+00:00</td>\n",
       "    </tr>\n",
       "    <tr>\n",
       "      <th>...</th>\n",
       "      <td>...</td>\n",
       "      <td>...</td>\n",
       "      <td>...</td>\n",
       "      <td>...</td>\n",
       "      <td>...</td>\n",
       "      <td>...</td>\n",
       "      <td>...</td>\n",
       "      <td>...</td>\n",
       "      <td>...</td>\n",
       "      <td>...</td>\n",
       "      <td>...</td>\n",
       "      <td>...</td>\n",
       "      <td>...</td>\n",
       "      <td>...</td>\n",
       "      <td>...</td>\n",
       "    </tr>\n",
       "    <tr>\n",
       "      <th>2236</th>\n",
       "      <td>2236</td>\n",
       "      <td>2236</td>\n",
       "      <td>380.875</td>\n",
       "      <td>70.875</td>\n",
       "      <td>0.954869</td>\n",
       "      <td>[18037.359563506947, 18037.35956349537, 18037....</td>\n",
       "      <td>[-8390.5797812362, -8482.400680800536, -8496.0...</td>\n",
       "      <td>[196, 195, 344, 276, 237, 196]</td>\n",
       "      <td>5</td>\n",
       "      <td>4</td>\n",
       "      <td>18037.359564</td>\n",
       "      <td>2019-05-21 08:37:46.287000+00:00</td>\n",
       "      <td>2019-05-21 08:37:46.328000+00:00</td>\n",
       "      <td>-0.041</td>\n",
       "      <td>2019-05-21 08:37:46.278000+00:00</td>\n",
       "    </tr>\n",
       "    <tr>\n",
       "      <th>2237</th>\n",
       "      <td>2237</td>\n",
       "      <td>2237</td>\n",
       "      <td>380.000</td>\n",
       "      <td>70.000</td>\n",
       "      <td>0.000001</td>\n",
       "      <td>[18037.35957045139, 18037.35957045139, 18037.3...</td>\n",
       "      <td>[-9400.643148699695, -9478.662600436619, -9501...</td>\n",
       "      <td>[196, 196, 343, 277, 236, 196]</td>\n",
       "      <td>5</td>\n",
       "      <td>4</td>\n",
       "      <td>18037.359570</td>\n",
       "      <td>2019-05-21 08:37:46.887000+00:00</td>\n",
       "      <td>2019-05-21 08:37:46.927000+00:00</td>\n",
       "      <td>-0.040</td>\n",
       "      <td>2019-05-21 08:37:46.876000+00:00</td>\n",
       "    </tr>\n",
       "    <tr>\n",
       "      <th>2238</th>\n",
       "      <td>2238</td>\n",
       "      <td>2238</td>\n",
       "      <td>380.000</td>\n",
       "      <td>70.000</td>\n",
       "      <td>-0.000007</td>\n",
       "      <td>[18037.359578136577, 18037.359578252315, 18037...</td>\n",
       "      <td>[-11623.067589490369, -11689.294866038867, -11...</td>\n",
       "      <td>[187, 197, 341, 275, 234, 194]</td>\n",
       "      <td>5</td>\n",
       "      <td>4</td>\n",
       "      <td>18037.359578</td>\n",
       "      <td>2019-05-21 08:37:47.558000+00:00</td>\n",
       "      <td>2019-05-21 08:37:47.598000+00:00</td>\n",
       "      <td>-0.040</td>\n",
       "      <td>2019-05-21 08:37:47.619000+00:00</td>\n",
       "    </tr>\n",
       "    <tr>\n",
       "      <th>2239</th>\n",
       "      <td>2239</td>\n",
       "      <td>2239</td>\n",
       "      <td>379.125</td>\n",
       "      <td>69.125</td>\n",
       "      <td>-0.954846</td>\n",
       "      <td>[18037.35958925926, 18037.35958923611, 18037.3...</td>\n",
       "      <td>[-9139.835324588068, -9207.91714551809, -9232....</td>\n",
       "      <td>[199, 197, 345, 277, 238, 199]</td>\n",
       "      <td>5</td>\n",
       "      <td>4</td>\n",
       "      <td>18037.359589</td>\n",
       "      <td>2019-05-21 08:37:48.512000+00:00</td>\n",
       "      <td>2019-05-21 08:37:48.551000+00:00</td>\n",
       "      <td>-0.039</td>\n",
       "      <td>2019-05-21 08:37:48.494000+00:00</td>\n",
       "    </tr>\n",
       "    <tr>\n",
       "      <th>2240</th>\n",
       "      <td>2240</td>\n",
       "      <td>2240</td>\n",
       "      <td>377.375</td>\n",
       "      <td>67.375</td>\n",
       "      <td>-2.864574</td>\n",
       "      <td>[18037.35959912037, 18037.35959912037, 18037.3...</td>\n",
       "      <td>[-9003.96182018338, -9082.45873021356, -9108.9...</td>\n",
       "      <td>[199, 199, 318, 277, 236, 199]</td>\n",
       "      <td>5</td>\n",
       "      <td>4</td>\n",
       "      <td>18037.359599</td>\n",
       "      <td>2019-05-21 08:37:49.364000+00:00</td>\n",
       "      <td>2019-05-21 08:37:49.401000+00:00</td>\n",
       "      <td>-0.037</td>\n",
       "      <td>2019-05-21 08:37:49.353000+00:00</td>\n",
       "    </tr>\n",
       "  </tbody>\n",
       "</table>\n",
       "<p>2241 rows × 15 columns</p>\n",
       "</div>"
      ],
      "text/plain": [
       "      Unnamed: 0    id    depth  relative_depth     radius  \\\n",
       "0              0     0  418.500         108.500  42.013533   \n",
       "1              1     1  345.000          35.000  38.194496   \n",
       "2              2     2  345.000          35.000  38.194478   \n",
       "3              3     3  345.000          35.000  38.194470   \n",
       "4              4     4  345.000          35.000  38.194478   \n",
       "...          ...   ...      ...             ...        ...   \n",
       "2236        2236  2236  380.875          70.875   0.954869   \n",
       "2237        2237  2237  380.000          70.000   0.000001   \n",
       "2238        2238  2238  380.000          70.000  -0.000007   \n",
       "2239        2239  2239  379.125          69.125  -0.954846   \n",
       "2240        2240  2240  377.375          67.375  -2.864574   \n",
       "\n",
       "                                                  aic_t  \\\n",
       "0     [18037.31817321759, 18037.3181718287, 18037.31...   \n",
       "1     [18037.318188935187, 18037.318188599536, 18037...   \n",
       "2     [18037.31820296296, 18037.318202974537, 18037....   \n",
       "3     [18037.3182190625, 18037.31821888889, 18037.31...   \n",
       "4     [18037.31822136574, 18037.318221331017, 18037....   \n",
       "...                                                 ...   \n",
       "2236  [18037.359563506947, 18037.35956349537, 18037....   \n",
       "2237  [18037.35957045139, 18037.35957045139, 18037.3...   \n",
       "2238  [18037.359578136577, 18037.359578252315, 18037...   \n",
       "2239  [18037.35958925926, 18037.35958923611, 18037.3...   \n",
       "2240  [18037.35959912037, 18037.35959912037, 18037.3...   \n",
       "\n",
       "                                                   aics  \\\n",
       "0     [-11818.919532274727, -11897.355450596328, -11...   \n",
       "1     [-11346.527262243402, -11411.865881482783, -11...   \n",
       "2     [-11737.247555400698, -11802.462266548846, -11...   \n",
       "3     [-11913.517606890393, -12003.978557313498, -12...   \n",
       "4     [-11616.269152776958, -11697.80976516363, -117...   \n",
       "...                                                 ...   \n",
       "2236  [-8390.5797812362, -8482.400680800536, -8496.0...   \n",
       "2237  [-9400.643148699695, -9478.662600436619, -9501...   \n",
       "2238  [-11623.067589490369, -11689.294866038867, -11...   \n",
       "2239  [-9139.835324588068, -9207.91714551809, -9232....   \n",
       "2240  [-9003.96182018338, -9082.45873021356, -9108.9...   \n",
       "\n",
       "                           aic_maxes  first_hydrophone  second_hydrophone  \\\n",
       "0       [158, 38, 180, 225, 157, 73]                 5                  4   \n",
       "1       [198, 169, 198, 239, 77, 77]                 4                  5   \n",
       "2       [182, 183, 182, 227, 49, 49]                 4                  5   \n",
       "3       [186, 171, 184, 224, 32, 32]                 4                  5   \n",
       "4       [121, 118, 116, 109, 48, 48]                 4                  5   \n",
       "...                              ...               ...                ...   \n",
       "2236  [196, 195, 344, 276, 237, 196]                 5                  4   \n",
       "2237  [196, 196, 343, 277, 236, 196]                 5                  4   \n",
       "2238  [187, 197, 341, 275, 234, 194]                 5                  4   \n",
       "2239  [199, 197, 345, 277, 238, 199]                 5                  4   \n",
       "2240  [199, 199, 318, 277, 236, 199]                 5                  4   \n",
       "\n",
       "      arrival_time                     first_arrival  \\\n",
       "0     18037.318172  2019-05-21 07:38:10.081000+00:00   \n",
       "1     18037.318188  2019-05-21 07:38:11.403000+00:00   \n",
       "2     18037.318201  2019-05-21 07:38:12.603000+00:00   \n",
       "3     18037.318217  2019-05-21 07:38:13.973000+00:00   \n",
       "4     18037.318221  2019-05-21 07:38:14.253000+00:00   \n",
       "...            ...                               ...   \n",
       "2236  18037.359564  2019-05-21 08:37:46.287000+00:00   \n",
       "2237  18037.359570  2019-05-21 08:37:46.887000+00:00   \n",
       "2238  18037.359578  2019-05-21 08:37:47.558000+00:00   \n",
       "2239  18037.359589  2019-05-21 08:37:48.512000+00:00   \n",
       "2240  18037.359599  2019-05-21 08:37:49.364000+00:00   \n",
       "\n",
       "                        second_arrival     dt  \\\n",
       "0     2019-05-21 07:38:10.165000+00:00 -0.084   \n",
       "1     2019-05-21 07:38:11.403000+00:00  0.000   \n",
       "2     2019-05-21 07:38:12.603000+00:00  0.000   \n",
       "3     2019-05-21 07:38:13.973000+00:00  0.000   \n",
       "4     2019-05-21 07:38:14.253000+00:00  0.000   \n",
       "...                                ...    ...   \n",
       "2236  2019-05-21 08:37:46.328000+00:00 -0.041   \n",
       "2237  2019-05-21 08:37:46.927000+00:00 -0.040   \n",
       "2238  2019-05-21 08:37:47.598000+00:00 -0.040   \n",
       "2239  2019-05-21 08:37:48.551000+00:00 -0.039   \n",
       "2240  2019-05-21 08:37:49.401000+00:00 -0.037   \n",
       "\n",
       "                              parrival  \n",
       "0     2019-05-21 07:38:10.502000+00:00  \n",
       "1     2019-05-21 07:38:11.342000+00:00  \n",
       "2     2019-05-21 07:38:12.563000+00:00  \n",
       "3     2019-05-21 07:38:13.943000+00:00  \n",
       "4     2019-05-21 07:38:14.213000+00:00  \n",
       "...                                ...  \n",
       "2236  2019-05-21 08:37:46.278000+00:00  \n",
       "2237  2019-05-21 08:37:46.876000+00:00  \n",
       "2238  2019-05-21 08:37:47.619000+00:00  \n",
       "2239  2019-05-21 08:37:48.494000+00:00  \n",
       "2240  2019-05-21 08:37:49.353000+00:00  \n",
       "\n",
       "[2241 rows x 15 columns]"
      ]
     },
     "execution_count": 3,
     "metadata": {},
     "output_type": "execute_result"
    }
   ],
   "source": [
    "df"
   ]
  },
  {
   "cell_type": "code",
   "execution_count": 4,
   "id": "298f4c42-0db9-49a1-9369-1153776afa36",
   "metadata": {},
   "outputs": [
    {
     "data": {
      "text/plain": [
       "(-200.0, 800.0)"
      ]
     },
     "execution_count": 4,
     "metadata": {},
     "output_type": "execute_result"
    },
    {
     "data": {
      "image/png": "[encoded data removed]",
      "text/plain": [
       "<Figure size 720x576 with 2 Axes>"
      ]
     },
     "metadata": {
      "needs_background": "light"
     },
     "output_type": "display_data"
    }
   ],
   "source": [
    "fig, ax = plt.subplots(figsize=(10, 8))\n",
    "\n",
    "df.plot.scatter(x='radius', y='depth', marker='.', c='depth', ax=ax, cmap='cool')\n",
    "# ax.set_xscale('log')\n",
    "ax.set_ylim(-200, 800)"
   ]
  },
  {
   "cell_type": "code",
   "execution_count": 5,
   "id": "f25d90e4-9c2e-432a-b982-fe09b2648e69",
   "metadata": {},
   "outputs": [
    {
     "data": {
      "text/plain": [
       "<AxesSubplot:>"
      ]
     },
     "execution_count": 5,
     "metadata": {},
     "output_type": "execute_result"
    },
    {
     "data": {
      "image/png": "[encoded data removed]",
      "text/plain": [
       "<Figure size 432x288 with 1 Axes>"
      ]
     },
     "metadata": {
      "needs_background": "light"
     },
     "output_type": "display_data"
    }
   ],
   "source": [
    "df.radius.hist(bins=100)"
   ]
  },
  {
   "cell_type": "code",
   "execution_count": 6,
   "id": "1f2abc32-8326-4486-b012-80cb1d05b2ca",
   "metadata": {},
   "outputs": [
    {
     "data": {
      "text/plain": [
       "Text(0, 0.5, 'cumulative fraction of events')"
      ]
     },
     "execution_count": 6,
     "metadata": {},
     "output_type": "execute_result"
    },
    {
     "data": {
      "image/png": "[encoded data removed]",
      "text/plain": [
       "<Figure size 432x288 with 1 Axes>"
      ]
     },
     "metadata": {
      "needs_background": "light"
     },
     "output_type": "display_data"
    }
   ],
   "source": [
    "h, e = np.histogram(df.radius, bins=100)\n",
    "\n",
    "plt.plot(e[:-1], h.cumsum()/h.cumsum().max())\n",
    "plt.xlim(-100, 100)\n",
    "plt.xlabel('radius (m)', fontsize=15)\n",
    "plt.ylabel('cumulative fraction of events', fontsize=15)"
   ]
  },
  {
   "cell_type": "code",
   "execution_count": 7,
   "id": "1fedfceb-8dc8-4efc-a674-dcaa911be763",
   "metadata": {},
   "outputs": [],
   "source": [
    "# fig, ax = plt.subplots(figsize=(10, 8))\n",
    "\n",
    "# df.plot.scatter(x='radius', y='depth', marker='.', c='depth', ax=ax, cmap='cool')\n",
    "# # ax.set_xscale('log')\n",
    "# # ax.set_xlim(-1, 40)\n",
    "# # ax.set_ylim(400, 0)"
   ]
  },
  {
   "cell_type": "code",
   "execution_count": 8,
   "id": "5efbddc9-df00-40c7-abac-b44a5962637f",
   "metadata": {},
   "outputs": [],
   "source": [
    "# df.head(1)"
   ]
  },
  {
   "cell_type": "code",
   "execution_count": 9,
   "id": "585e91fc-1069-48db-91ed-ca270ac71f1b",
   "metadata": {},
   "outputs": [],
   "source": [
    "# fig, ax = plt.subplots(figsize=(10, 8))\n",
    "\n",
    "# df.plot.scatter(x='radius', y='depth', marker='.', c='arrival_time', ax=ax, cmap='cool')\n",
    "# # ax.set_xscale('log')\n",
    "# # ax.set_xlim(-1, 40)\n",
    "# # ax.set_ylim(400, 0)"
   ]
  },
  {
   "cell_type": "code",
   "execution_count": 10,
   "id": "ef3d636d-ea68-4e37-8737-8db3fbc82142",
   "metadata": {},
   "outputs": [
    {
     "data": {
      "text/plain": [
       "(-100.0, 100.0)"
      ]
     },
     "execution_count": 10,
     "metadata": {},
     "output_type": "execute_result"
    },
    {
     "data": {
      "image/png": "[encoded data removed]",
      "text/plain": [
       "<Figure size 1080x360 with 1 Axes>"
      ]
     },
     "metadata": {
      "needs_background": "light"
     },
     "output_type": "display_data"
    }
   ],
   "source": [
    "fig, ax = plt.subplots(figsize=(15, 5))\n",
    "\n",
    "df.set_index('first_arrival').radius.plot(ax=ax, marker='.', linewidth=0)\n",
    "ax.set_ylim(-100, 100)\n",
    "# ax.set_xticks([])\n",
    "# ax.set_xlabel('time ---->', fontsize=15)\n",
    "# ax.set_ylabel('radius (m)', fontsize=15)"
   ]
  },
  {
   "cell_type": "code",
   "execution_count": 30,
   "id": "cd0545e7-6444-4e0e-8e27-6176a148f9b7",
   "metadata": {},
   "outputs": [
    {
     "data": {
      "text/plain": [
       "<matplotlib.colorbar.Colorbar at 0x7fc26f6d5a90>"
      ]
     },
     "execution_count": 30,
     "metadata": {},
     "output_type": "execute_result"
    },
    {
     "data": {
      "image/png": "[encoded data removed]",
      "text/plain": [
       "<Figure size 1080x360 with 2 Axes>"
      ]
     },
     "metadata": {
      "needs_background": "light"
     },
     "output_type": "display_data"
    }
   ],
   "source": [
    "x = df.first_arrival.values\n",
    "y = np.abs(df.radius.values)\n",
    "c = df.depth.values\n",
    "\n",
    "fig, ax = plt.subplots(figsize=(15, 5))\n",
    "cbar = ax.scatter(x, y, marker='.', c=c, vmin=150, vmax=400, cmap='cool')\n",
    "ax.set_xticks([])\n",
    "ax.set_ylim(-10, 60)\n",
    "ax.set_xlabel('time ---->', fontsize=15)\n",
    "ax.set_ylabel('radius (m)', fontsize=15)\n",
    "fig.colorbar(cbar, label='depth (m)')"
   ]
  },
  {
   "cell_type": "code",
   "execution_count": 19,
   "id": "950c6bde-fb75-463e-b6b5-484ba47aad34",
   "metadata": {},
   "outputs": [
    {
     "data": {
      "text/html": [
       "<div>\n",
       "<style scoped>\n",
       "    .dataframe tbody tr th:only-of-type {\n",
       "        vertical-align: middle;\n",
       "    }\n",
       "\n",
       "    .dataframe tbody tr th {\n",
       "        vertical-align: top;\n",
       "    }\n",
       "\n",
       "    .dataframe thead th {\n",
       "        text-align: right;\n",
       "    }\n",
       "</style>\n",
       "<table border=\"1\" class=\"dataframe\">\n",
       "  <thead>\n",
       "    <tr style=\"text-align: right;\">\n",
       "      <th></th>\n",
       "      <th>Unnamed: 0</th>\n",
       "      <th>id</th>\n",
       "      <th>depth</th>\n",
       "      <th>relative_depth</th>\n",
       "      <th>radius</th>\n",
       "      <th>first_hydrophone</th>\n",
       "      <th>second_hydrophone</th>\n",
       "      <th>arrival_time</th>\n",
       "      <th>dt</th>\n",
       "    </tr>\n",
       "  </thead>\n",
       "  <tbody>\n",
       "    <tr>\n",
       "      <th>Unnamed: 0</th>\n",
       "      <td>1.000000</td>\n",
       "      <td>1.000000</td>\n",
       "      <td>0.301246</td>\n",
       "      <td>-0.145989</td>\n",
       "      <td>-0.243825</td>\n",
       "      <td>0.604117</td>\n",
       "      <td>0.532111</td>\n",
       "      <td>0.991537</td>\n",
       "      <td>-0.121919</td>\n",
       "    </tr>\n",
       "    <tr>\n",
       "      <th>id</th>\n",
       "      <td>1.000000</td>\n",
       "      <td>1.000000</td>\n",
       "      <td>0.301246</td>\n",
       "      <td>-0.145989</td>\n",
       "      <td>-0.243825</td>\n",
       "      <td>0.604117</td>\n",
       "      <td>0.532111</td>\n",
       "      <td>0.991537</td>\n",
       "      <td>-0.121919</td>\n",
       "    </tr>\n",
       "    <tr>\n",
       "      <th>depth</th>\n",
       "      <td>0.301246</td>\n",
       "      <td>0.301246</td>\n",
       "      <td>1.000000</td>\n",
       "      <td>0.807601</td>\n",
       "      <td>0.691810</td>\n",
       "      <td>0.822284</td>\n",
       "      <td>0.191265</td>\n",
       "      <td>0.307127</td>\n",
       "      <td>0.309902</td>\n",
       "    </tr>\n",
       "    <tr>\n",
       "      <th>relative_depth</th>\n",
       "      <td>-0.145989</td>\n",
       "      <td>-0.145989</td>\n",
       "      <td>0.807601</td>\n",
       "      <td>1.000000</td>\n",
       "      <td>0.779914</td>\n",
       "      <td>0.489742</td>\n",
       "      <td>-0.346793</td>\n",
       "      <td>-0.154939</td>\n",
       "      <td>0.261910</td>\n",
       "    </tr>\n",
       "    <tr>\n",
       "      <th>radius</th>\n",
       "      <td>-0.243825</td>\n",
       "      <td>-0.243825</td>\n",
       "      <td>0.691810</td>\n",
       "      <td>0.779914</td>\n",
       "      <td>1.000000</td>\n",
       "      <td>0.157944</td>\n",
       "      <td>0.002187</td>\n",
       "      <td>-0.224597</td>\n",
       "      <td>0.451398</td>\n",
       "    </tr>\n",
       "    <tr>\n",
       "      <th>first_hydrophone</th>\n",
       "      <td>0.604117</td>\n",
       "      <td>0.604117</td>\n",
       "      <td>0.822284</td>\n",
       "      <td>0.489742</td>\n",
       "      <td>0.157944</td>\n",
       "      <td>1.000000</td>\n",
       "      <td>0.259832</td>\n",
       "      <td>0.597005</td>\n",
       "      <td>0.068042</td>\n",
       "    </tr>\n",
       "    <tr>\n",
       "      <th>second_hydrophone</th>\n",
       "      <td>0.532111</td>\n",
       "      <td>0.532111</td>\n",
       "      <td>0.191265</td>\n",
       "      <td>-0.346793</td>\n",
       "      <td>0.002187</td>\n",
       "      <td>0.259832</td>\n",
       "      <td>1.000000</td>\n",
       "      <td>0.572089</td>\n",
       "      <td>-0.016178</td>\n",
       "    </tr>\n",
       "    <tr>\n",
       "      <th>arrival_time</th>\n",
       "      <td>0.991537</td>\n",
       "      <td>0.991537</td>\n",
       "      <td>0.307127</td>\n",
       "      <td>-0.154939</td>\n",
       "      <td>-0.224597</td>\n",
       "      <td>0.597005</td>\n",
       "      <td>0.572089</td>\n",
       "      <td>1.000000</td>\n",
       "      <td>-0.115065</td>\n",
       "    </tr>\n",
       "    <tr>\n",
       "      <th>dt</th>\n",
       "      <td>-0.121919</td>\n",
       "      <td>-0.121919</td>\n",
       "      <td>0.309902</td>\n",
       "      <td>0.261910</td>\n",
       "      <td>0.451398</td>\n",
       "      <td>0.068042</td>\n",
       "      <td>-0.016178</td>\n",
       "      <td>-0.115065</td>\n",
       "      <td>1.000000</td>\n",
       "    </tr>\n",
       "  </tbody>\n",
       "</table>\n",
       "</div>"
      ],
      "text/plain": [
       "                   Unnamed: 0        id     depth  relative_depth    radius  \\\n",
       "Unnamed: 0           1.000000  1.000000  0.301246       -0.145989 -0.243825   \n",
       "id                   1.000000  1.000000  0.301246       -0.145989 -0.243825   \n",
       "depth                0.301246  0.301246  1.000000        0.807601  0.691810   \n",
       "relative_depth      -0.145989 -0.145989  0.807601        1.000000  0.779914   \n",
       "radius              -0.243825 -0.243825  0.691810        0.779914  1.000000   \n",
       "first_hydrophone     0.604117  0.604117  0.822284        0.489742  0.157944   \n",
       "second_hydrophone    0.532111  0.532111  0.191265       -0.346793  0.002187   \n",
       "arrival_time         0.991537  0.991537  0.307127       -0.154939 -0.224597   \n",
       "dt                  -0.121919 -0.121919  0.309902        0.261910  0.451398   \n",
       "\n",
       "                   first_hydrophone  second_hydrophone  arrival_time        dt  \n",
       "Unnamed: 0                 0.604117           0.532111      0.991537 -0.121919  \n",
       "id                         0.604117           0.532111      0.991537 -0.121919  \n",
       "depth                      0.822284           0.191265      0.307127  0.309902  \n",
       "relative_depth             0.489742          -0.346793     -0.154939  0.261910  \n",
       "radius                     0.157944           0.002187     -0.224597  0.451398  \n",
       "first_hydrophone           1.000000           0.259832      0.597005  0.068042  \n",
       "second_hydrophone          0.259832           1.000000      0.572089 -0.016178  \n",
       "arrival_time               0.597005           0.572089      1.000000 -0.115065  \n",
       "dt                         0.068042          -0.016178     -0.115065  1.000000  "
      ]
     },
     "execution_count": 19,
     "metadata": {},
     "output_type": "execute_result"
    }
   ],
   "source": [
    "df.corr()"
   ]
  },
  {
   "cell_type": "code",
   "execution_count": 29,
   "id": "0e39f275-d8de-4a4c-8b0c-29662b363cd9",
   "metadata": {},
   "outputs": [
    {
     "data": {
      "text/html": [
       "<div>\n",
       "<style scoped>\n",
       "    .dataframe tbody tr th:only-of-type {\n",
       "        vertical-align: middle;\n",
       "    }\n",
       "\n",
       "    .dataframe tbody tr th {\n",
       "        vertical-align: top;\n",
       "    }\n",
       "\n",
       "    .dataframe thead th {\n",
       "        text-align: right;\n",
       "    }\n",
       "</style>\n",
       "<table border=\"1\" class=\"dataframe\">\n",
       "  <thead>\n",
       "    <tr style=\"text-align: right;\">\n",
       "      <th></th>\n",
       "      <th>Unnamed: 0</th>\n",
       "      <th>id</th>\n",
       "      <th>depth</th>\n",
       "      <th>relative_depth</th>\n",
       "      <th>radius</th>\n",
       "      <th>aic_t</th>\n",
       "      <th>aics</th>\n",
       "      <th>aic_maxes</th>\n",
       "      <th>first_hydrophone</th>\n",
       "      <th>second_hydrophone</th>\n",
       "      <th>arrival_time</th>\n",
       "      <th>first_arrival</th>\n",
       "      <th>second_arrival</th>\n",
       "      <th>dt</th>\n",
       "      <th>parrival</th>\n",
       "    </tr>\n",
       "  </thead>\n",
       "  <tbody>\n",
       "    <tr>\n",
       "      <th>240</th>\n",
       "      <td>240</td>\n",
       "      <td>240</td>\n",
       "      <td>240.875</td>\n",
       "      <td>0.875</td>\n",
       "      <td>0.954869</td>\n",
       "      <td>[18037.3224712963, 18037.32247133102, 18037.32...</td>\n",
       "      <td>[-12034.606831587025, -12122.983373379415, -12...</td>\n",
       "      <td>[58, 61, 197, 100, 139, 181]</td>\n",
       "      <td>3</td>\n",
       "      <td>4</td>\n",
       "      <td>18037.322472</td>\n",
       "      <td>2019-05-21 07:44:21.562000+00:00</td>\n",
       "      <td>2019-05-21 07:44:21.601000+00:00</td>\n",
       "      <td>-0.039</td>\n",
       "      <td>2019-05-21 07:44:21.553000+00:00</td>\n",
       "    </tr>\n",
       "    <tr>\n",
       "      <th>944</th>\n",
       "      <td>944</td>\n",
       "      <td>944</td>\n",
       "      <td>240.000</td>\n",
       "      <td>70.000</td>\n",
       "      <td>-0.000014</td>\n",
       "      <td>[18037.33834287037, 18037.338342916668, 18037....</td>\n",
       "      <td>[-12103.154827562355, -12174.005220578358, -12...</td>\n",
       "      <td>[81, 85, 145, 105, 197, 151]</td>\n",
       "      <td>3</td>\n",
       "      <td>2</td>\n",
       "      <td>18037.338343</td>\n",
       "      <td>2019-05-21 08:07:12.848000+00:00</td>\n",
       "      <td>2019-05-21 08:07:12.888000+00:00</td>\n",
       "      <td>-0.040</td>\n",
       "      <td>2019-05-21 08:07:12.971000+00:00</td>\n",
       "    </tr>\n",
       "    <tr>\n",
       "      <th>2134</th>\n",
       "      <td>2134</td>\n",
       "      <td>2134</td>\n",
       "      <td>240.000</td>\n",
       "      <td>70.000</td>\n",
       "      <td>-0.000006</td>\n",
       "      <td>[18037.358886331018, 18037.358885474536, 18037...</td>\n",
       "      <td>[-12004.583292986488, -12073.811733615528, -12...</td>\n",
       "      <td>[103, 29, 51, 11, 186, 151]</td>\n",
       "      <td>3</td>\n",
       "      <td>2</td>\n",
       "      <td>18037.358885</td>\n",
       "      <td>2019-05-21 08:36:47.687000+00:00</td>\n",
       "      <td>2019-05-21 08:36:47.727000+00:00</td>\n",
       "      <td>-0.040</td>\n",
       "      <td>2019-05-21 08:36:47.740000+00:00</td>\n",
       "    </tr>\n",
       "    <tr>\n",
       "      <th>2161</th>\n",
       "      <td>2161</td>\n",
       "      <td>2161</td>\n",
       "      <td>240.000</td>\n",
       "      <td>0.000</td>\n",
       "      <td>-0.000006</td>\n",
       "      <td>[18037.359121805555, 18037.359122916667, 18037...</td>\n",
       "      <td>[-12273.642307435079, -12347.737354889621, -12...</td>\n",
       "      <td>[32, 128, 77, 28, 58, 48]</td>\n",
       "      <td>3</td>\n",
       "      <td>5</td>\n",
       "      <td>18037.359122</td>\n",
       "      <td>2019-05-21 08:37:08.120000+00:00</td>\n",
       "      <td>2019-05-21 08:37:08.140000+00:00</td>\n",
       "      <td>-0.020</td>\n",
       "      <td>2019-05-21 08:37:08.177000+00:00</td>\n",
       "    </tr>\n",
       "  </tbody>\n",
       "</table>\n",
       "</div>"
      ],
      "text/plain": [
       "      Unnamed: 0    id    depth  relative_depth    radius  \\\n",
       "240          240   240  240.875           0.875  0.954869   \n",
       "944          944   944  240.000          70.000 -0.000014   \n",
       "2134        2134  2134  240.000          70.000 -0.000006   \n",
       "2161        2161  2161  240.000           0.000 -0.000006   \n",
       "\n",
       "                                                  aic_t  \\\n",
       "240   [18037.3224712963, 18037.32247133102, 18037.32...   \n",
       "944   [18037.33834287037, 18037.338342916668, 18037....   \n",
       "2134  [18037.358886331018, 18037.358885474536, 18037...   \n",
       "2161  [18037.359121805555, 18037.359122916667, 18037...   \n",
       "\n",
       "                                                   aics  \\\n",
       "240   [-12034.606831587025, -12122.983373379415, -12...   \n",
       "944   [-12103.154827562355, -12174.005220578358, -12...   \n",
       "2134  [-12004.583292986488, -12073.811733615528, -12...   \n",
       "2161  [-12273.642307435079, -12347.737354889621, -12...   \n",
       "\n",
       "                         aic_maxes  first_hydrophone  second_hydrophone  \\\n",
       "240   [58, 61, 197, 100, 139, 181]                 3                  4   \n",
       "944   [81, 85, 145, 105, 197, 151]                 3                  2   \n",
       "2134   [103, 29, 51, 11, 186, 151]                 3                  2   \n",
       "2161     [32, 128, 77, 28, 58, 48]                 3                  5   \n",
       "\n",
       "      arrival_time                     first_arrival  \\\n",
       "240   18037.322472  2019-05-21 07:44:21.562000+00:00   \n",
       "944   18037.338343  2019-05-21 08:07:12.848000+00:00   \n",
       "2134  18037.358885  2019-05-21 08:36:47.687000+00:00   \n",
       "2161  18037.359122  2019-05-21 08:37:08.120000+00:00   \n",
       "\n",
       "                        second_arrival     dt  \\\n",
       "240   2019-05-21 07:44:21.601000+00:00 -0.039   \n",
       "944   2019-05-21 08:07:12.888000+00:00 -0.040   \n",
       "2134  2019-05-21 08:36:47.727000+00:00 -0.040   \n",
       "2161  2019-05-21 08:37:08.140000+00:00 -0.020   \n",
       "\n",
       "                              parrival  \n",
       "240   2019-05-21 07:44:21.553000+00:00  \n",
       "944   2019-05-21 08:07:12.971000+00:00  \n",
       "2134  2019-05-21 08:36:47.740000+00:00  \n",
       "2161  2019-05-21 08:37:08.177000+00:00  "
      ]
     },
     "execution_count": 29,
     "metadata": {},
     "output_type": "execute_result"
    }
   ],
   "source": [
    "df[df.depth.between(239, 241)]"
   ]
  },
  {
   "cell_type": "code",
   "execution_count": 37,
   "id": "0d84686e-d062-41e0-8bc3-fd417cb73a4c",
   "metadata": {},
   "outputs": [
    {
     "data": {
      "text/plain": [
       "<AxesSubplot:>"
      ]
     },
     "execution_count": 37,
     "metadata": {},
     "output_type": "execute_result"
    },
    {
     "data": {
      "image/png": "[encoded data removed]",
      "text/plain": [
       "<Figure size 432x288 with 1 Axes>"
      ]
     },
     "metadata": {
      "needs_background": "light"
     },
     "output_type": "display_data"
    }
   ],
   "source": [
    "(pd.to_datetime(df.parrival) - pd.to_datetime(df.first_arrival)).abs().apply(lambda x: x.total_seconds()).hist(bins=np.linspace(0, 0.1, 100))"
   ]
  },
  {
   "cell_type": "code",
   "execution_count": 72,
   "id": "ddd5c5cc-b5fe-4f02-a6be-0c74820b89e8",
   "metadata": {},
   "outputs": [
    {
     "data": {
      "text/plain": [
       "(0.0, 170.0)"
      ]
     },
     "execution_count": 72,
     "metadata": {},
     "output_type": "execute_result"
    },
    {
     "data": {
      "image/png": "[encoded data removed]",
      "text/plain": [
       "<Figure size 432x288 with 1 Axes>"
      ]
     },
     "metadata": {
      "needs_background": "light"
     },
     "output_type": "display_data"
    }
   ],
   "source": [
    "# testing the velocity if the events are right on top of the borehole\n",
    "df2 = df.copy()\n",
    "df2['v_next'] = (df2.relative_depth/df2.dt)\n",
    "df2.replace([np.inf, -np.inf], np.nan, inplace=True)\n",
    "df2.dropna(subset=['v_next'], inplace=True)\n",
    "df2['v_next'] = df2.v_next.abs()\n",
    "fig, ax = plt.subplots()\n",
    "# h, e = np.histogram(df2.v_next.values, bins=np.linspace(0, 10000, 50))\n",
    "df2.v_next.hist(bins=np.linspace(0, 10000, 50), grid=False, color='limegreen')\n",
    "# ax.plot(e[:-1], h/h.sum())\n",
    "ax.set_xlabel('Velocity (m/s)', fontsize=15)\n",
    "ax.plot((1750, 1750), (0, 170), color='purple', linewidth=2, linestyle='--')\n",
    "ax.set_ylim(0, 170)"
   ]
  },
  {
   "cell_type": "code",
   "execution_count": 105,
   "id": "7f1bda2d-f64e-4133-ab5b-3e888ee207ce",
   "metadata": {},
   "outputs": [
    {
     "data": {
      "text/plain": [
       "Text(0.5, 0, 'velocity (m/s)')"
      ]
     },
     "execution_count": 105,
     "metadata": {},
     "output_type": "execute_result"
    },
    {
     "data": {
      "image/png": "[encoded data removed]",
      "text/plain": [
       "<Figure size 432x288 with 1 Axes>"
      ]
     },
     "metadata": {
      "needs_background": "light"
     },
     "output_type": "display_data"
    }
   ],
   "source": [
    "dx = df.relative_depth\n",
    "dt = (pd.to_datetime(df.first_arrival) - pd.to_datetime(df.parrival)).apply(lambda x: x.total_seconds())\n",
    "df3 = (dx/dt)\n",
    "df3.replace([np.inf, -np.inf], np.nan, inplace=True)\n",
    "df3.dropna(inplace=True)\n",
    "df3 = df3.abs()\n",
    "fig, ax = plt.subplots()\n",
    "df3.hist(bins=np.linspace(0, 20000, 100), grid=False)\n",
    "ax.set_xlabel('velocity (m/s)', fontsize=15)"
   ]
  },
  {
   "cell_type": "code",
   "execution_count": 46,
   "id": "7eb2d9ba-7607-4e82-ad04-ea735ccdc8f6",
   "metadata": {},
   "outputs": [],
   "source": [
    "# fig = plt.figure(figsize=(10, 10))\n",
    "# ax = plt.axes(projection='3d')"
   ]
  },
  {
   "cell_type": "code",
   "execution_count": null,
   "id": "8668bc46-3af8-40c1-8e19-b2cf0c33a7cb",
   "metadata": {},
   "outputs": [],
   "source": []
  }
 ],
 "metadata": {
  "kernelspec": {
   "display_name": "Python [conda env:borehole] *",
   "language": "python",
   "name": "conda-env-borehole-py"
  },
  "language_info": {
   "codemirror_mode": {
    "name": "ipython",
    "version": 3
   },
   "file_extension": ".py",
   "mimetype": "text/x-python",
   "name": "python",
   "nbconvert_exporter": "python",
   "pygments_lexer": "ipython3",
   "version": "3.8.12"
  }
 },
 "nbformat": 4,
 "nbformat_minor": 5
}
