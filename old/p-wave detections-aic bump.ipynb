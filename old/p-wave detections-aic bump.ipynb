{
 "cells": [
  {
   "cell_type": "code",
   "execution_count": 1,
   "id": "1a0dbea5-ca1e-4937-bf78-16a9db1aebe8",
   "metadata": {},
   "outputs": [
    {
     "ename": "ModuleNotFoundError",
     "evalue": "No module named 'event_detector_pipeline'",
     "output_type": "error",
     "traceback": [
      "\u001b[0;31m---------------------------------------------------------------------------\u001b[0m",
      "\u001b[0;31mModuleNotFoundError\u001b[0m                       Traceback (most recent call last)",
      "Cell \u001b[0;32mIn[1], line 9\u001b[0m\n\u001b[1;32m      7\u001b[0m \u001b[38;5;28;01mimport\u001b[39;00m \u001b[38;5;21;01mobspy\u001b[39;00m\u001b[38;5;21;01m.\u001b[39;00m\u001b[38;5;21;01msignal\u001b[39;00m\u001b[38;5;21;01m.\u001b[39;00m\u001b[38;5;21;01mtrigger\u001b[39;00m \u001b[38;5;28;01mas\u001b[39;00m \u001b[38;5;21;01mtrigger\u001b[39;00m\n\u001b[1;32m      8\u001b[0m \u001b[38;5;28;01mfrom\u001b[39;00m \u001b[38;5;21;01mhydrophone_data_processing\u001b[39;00m \u001b[38;5;28;01mimport\u001b[39;00m load, useful_variables, plotting, signal_processing\n\u001b[0;32m----> 9\u001b[0m \u001b[38;5;28;01mimport\u001b[39;00m \u001b[38;5;21;01mevent_detector_pipeline\u001b[39;00m \u001b[38;5;28;01mas\u001b[39;00m \u001b[38;5;21;01medp\u001b[39;00m\n\u001b[1;32m     10\u001b[0m \u001b[38;5;28;01mfrom\u001b[39;00m \u001b[38;5;21;01mast\u001b[39;00m \u001b[38;5;28;01mimport\u001b[39;00m literal_eval\n\u001b[1;32m     12\u001b[0m hydrophone_metadata \u001b[38;5;241m=\u001b[39m {\n\u001b[1;32m     13\u001b[0m     \u001b[38;5;124m'\u001b[39m\u001b[38;5;124mh1\u001b[39m\u001b[38;5;124m'\u001b[39m:{\n\u001b[1;32m     14\u001b[0m         \u001b[38;5;66;03m# start and end identifies the start time of the swarm where the amplitude magnitude is the highest\u001b[39;00m\n\u001b[0;32m   (...)\u001b[0m\n\u001b[1;32m     60\u001b[0m     }\n\u001b[1;32m     61\u001b[0m }\n",
      "\u001b[0;31mModuleNotFoundError\u001b[0m: No module named 'event_detector_pipeline'"
     ]
    }
   ],
   "source": [
    "%matplotlib inline\n",
    "import matplotlib.pyplot as plt\n",
    "import numpy as np\n",
    "import pandas as pd\n",
    "import matplotlib.dates as dates\n",
    "import obspy\n",
    "import obspy.signal.trigger as trigger\n",
    "from hydrophone_data_processing import load, useful_variables, plotting, signal_processing\n",
    "import event_detector_pipeline as edp\n",
    "from ast import literal_eval\n",
    "\n",
    "hydrophone_metadata = {\n",
    "    'h1':{\n",
    "        # start and end identifies the start time of the swarm where the amplitude magnitude is the highest\n",
    "        'start':obspy.UTCDateTime('2019-05-21T07:35:00Z')\n",
    "        ,'end':obspy.UTCDateTime('2019-5-21T07:48:00Z')\n",
    "       # obspy_idx is the index within the stream for this data (all data is sorted from top to bottom of the borehole this way in lists)\n",
    "        ,'obspy_idx':0\n",
    "        # depth of the hydrophone\n",
    "        ,'depth':30\n",
    "        ,'velocity_model':1750\n",
    "    }\n",
    "    ,    'h2':{\n",
    "        'start':obspy.UTCDateTime('2019-05-21T07:35:00Z')\n",
    "        ,'end':obspy.UTCDateTime('2019-5-21T07:48:00Z')\n",
    "        ,'obspy_idx':1\n",
    "        ,'depth':100        \n",
    "        ,'velocity_model':1750\n",
    "\n",
    "    }\n",
    "    ,    'h3':{\n",
    "        'start':obspy.UTCDateTime('2019-05-21T07:35:00Z')\n",
    "        ,'end':obspy.UTCDateTime('2019-5-21T07:48:00Z')\n",
    "        ,'obspy_idx':2\n",
    "        ,'depth':170        \n",
    "        ,'velocity_model':1750\n",
    "\n",
    "    }\n",
    "    ,'h4':{\n",
    "        'start':obspy.UTCDateTime('2019-05-21T07:48:00Z')\n",
    "        ,'end':obspy.UTCDateTime('2019-5-21T08:07:00Z')\n",
    "        ,'obspy_idx':3\n",
    "        ,'depth':240\n",
    "        ,'velocity_model':1750\n",
    "    }\n",
    "    ,'h5':{\n",
    "        'start':obspy.UTCDateTime('2019-05-21T08:07:00Z')\n",
    "        # ,'end':obspy.UTCDateTime('2019-5-21T08:34:00Z')\n",
    "        ,'end':obspy.UTCDateTime('2019-5-21T08:38:00Z')\n",
    "        ,'obspy_idx':4\n",
    "        ,'depth':310\n",
    "        ,'velocity_model':1750\n",
    "    }\n",
    "    ,'h6':{\n",
    "        'start':obspy.UTCDateTime('2019-05-21T08:34:00Z')\n",
    "        ,'end':obspy.UTCDateTime('2019-5-21T08:38:00Z')\n",
    "       ,'obspy_idx':5\n",
    "        ,'depth':380\n",
    "        ,'velocity_model':1750\n",
    "    }\n",
    "}"
   ]
  },
  {
   "cell_type": "code",
   "execution_count": null,
   "id": "640d67bd-802a-4330-b006-1a136f4ab3c6",
   "metadata": {},
   "outputs": [],
   "source": [
    "df = pd.read_csv('precision.csv')\n",
    "# df['aic_t'] = df.aic_t.apply(lambda x: literal_eval(x))\n",
    "# df['aics'][5][7:-2].replace('\\n','')\n",
    "df['aic_t'] = df['aic_t'].apply(literal_eval)\n",
    "df['aics'] = np.array(df['aics'].apply(literal_eval))\n",
    "df['aic_maxes'] = df['aic_maxes'].apply(literal_eval)"
   ]
  },
  {
   "cell_type": "code",
   "execution_count": null,
   "id": "181ccf89-9c9a-4b1e-ba25-88b4a3d24865",
   "metadata": {},
   "outputs": [],
   "source": [
    "paths = useful_variables.make_hydrophone_data_paths(borehole='a', year=2019, julian_day=141)\n",
    "waveforms = load.import_corrected_data_for_single_day(paths=paths)\n",
    "swarm_starttime = obspy.UTCDateTime('2019-05-21T07:30:00')\n",
    "swarm_endtime = obspy.UTCDateTime('2019-05-21T08:38:30')\n",
    "waveforms = waveforms.trim(starttime=swarm_starttime, endtime=swarm_endtime)"
   ]
  },
  {
   "cell_type": "code",
   "execution_count": null,
   "id": "3fcf4c9f-7b62-42f3-81fb-20f742a9814d",
   "metadata": {},
   "outputs": [],
   "source": [
    "# # event = df.iloc[1000]\n",
    "# event = df.iloc[2200]\n",
    "# starttime = obspy.UTCDateTime(pd.to_datetime(event.first_arrival))\n",
    "# # need to make this conform to the aic data\n",
    "# window_start = starttime - 0.2\n",
    "# window_end = starttime + 0.3\n",
    "\n",
    "# window = waveforms.copy().trim(starttime=window_start, endtime=window_end)\n",
    "# raw = window.copy()\n",
    "# window.filter(type='bandpass', freqmin=200, freqmax=500, zerophase=False, corners=1)\n",
    "\n",
    "# p_waveforms = window.copy()\n",
    "# endtime = obspy.UTCDateTime(dates.num2date(event.arrival_time))\n",
    "# p_waveforms.trim(starttime=window_start, endtime=endtime)\n",
    "\n",
    "# fig, ax = plt.subplots(2, 1, figsize=(15, 10), sharex=True)\n",
    "\n",
    "# for n, tr in enumerate(raw[event.first_hydrophone:]):\n",
    "#     ax[n].plot(tr.times('matplotlib'), tr.data, color='black', linewidth=0.5)\n",
    "#     break\n",
    "\n",
    "# for n, tr in enumerate(p_waveforms[event.first_hydrophone:]):\n",
    "#     ax[n].plot(tr.times('matplotlib'), tr.data, color='blue', linewidth=1.5)\n",
    "#     break\n",
    "    \n",
    "# for n, tr in enumerate(window[event.first_hydrophone:]):\n",
    "#     ax[n].plot(tr.times('matplotlib'), tr.data, color='dodgerblue', linewidth=1.5, alpha=0.5)\n",
    "#     break\n",
    "\n",
    "# ax[1].plot(window[event.first_hydrophone].times('matplotlib'), event.aics, color='limegreen')\n",
    "\n",
    "\n",
    "# ax[1].xaxis.set_major_formatter(plotting.PrecisionDateFormatter(\"%H:%M:%S.{ms}\"))\n",
    "\n",
    "# ax[1].plot((event.arrival_time, event.arrival_time), (min(event.aics), max(event.aics)))\n",
    "\n",
    "# ax2 = ax[1].twinx()\n",
    "# aic2 = trigger.aic_simple(p_waveforms[event.first_hydrophone])\n",
    "# t = p_waveforms[event.first_hydrophone].times('matplotlib')\n",
    "# ax2.plot(t, aic2)\n",
    "\n",
    "\n",
    "# # ax[1].set_xlim(event.first_arrival, event.arrival_time)\n",
    "\n",
    "# parrival = t[np.argmin(aic2)]\n",
    "\n",
    "# ax[0].vlines(x=parrival, ymin=-0.75, ymax=0.75, color='red', label='p-arrival')\n",
    "# ax[0].vlines(x=event.arrival_time, ymin=-0.75, ymax=0.75, color='red', label='trapped mode arrival', linewidth=2, zorder=20, linestyle='--')\n",
    "\n",
    "# # ax[0].set_xlim([starttime+0.05, endtime])\n",
    "# ax[0].set_ylim(-0.75, 0.75)\n",
    "# ax[0].legend(fontsize=15)\n",
    "\n",
    "# fig.tight_layout()\n",
    "\n",
    "# # you can make this more sophisticated, make it find all the peaks in the aic curve then pick the earliest peak, and you know you can control the onset window a bit as well\n"
   ]
  },
  {
   "cell_type": "code",
   "execution_count": null,
   "id": "cc3d2243-f457-4c96-a48f-9cc6435aa2b0",
   "metadata": {},
   "outputs": [],
   "source": [
    "### GETS TEH DATA FOR THE EVENT\n",
    "\n",
    "# event = df.iloc[1000]\n",
    "event = df.iloc[1318]\n",
    "starttime = obspy.UTCDateTime(pd.to_datetime(event.first_arrival))\n",
    "# need to make this conform to the aic data\n",
    "window_start = starttime - 0.2\n",
    "window_end = starttime + 0.3\n",
    "\n",
    "window = waveforms.copy().trim(starttime=window_start, endtime=window_end)\n",
    "raw = window.copy()\n",
    "window.filter(type='bandpass', freqmin=200, freqmax=500, zerophase=False, corners=1)\n",
    "\n",
    "### REDUCE THE WINDOW TO DATA ONLY BEFOFRE THE DETECTION\n",
    "\n",
    "p_waveforms = window.copy()\n",
    "endtime = obspy.UTCDateTime(dates.num2date(event.arrival_time))\n",
    "p_waveforms.trim(starttime=window_start, endtime=endtime)\n",
    "\n",
    "### CALCULATE AIC ON REDUCED WINDOW\n",
    "\n",
    "aic2 = trigger.aic_simple(p_waveforms[event.first_hydrophone])\n",
    "t = p_waveforms[event.first_hydrophone].times('matplotlib')\n",
    "\n",
    "### GET MINIMUM AIC AND USE IT TO IDENTIFY TIME POINT WHERE THAT IS\n",
    "parrival = t[np.argmin(aic2)]\n",
    "\n",
    "\n",
    "### CALCULATE RADIUS\n",
    "\n",
    "parrival_t = dates.num2date(parrival)\n",
    "mode_t = dates.num2date(event.arrival_time)\n",
    "\n",
    "# relative_depth = event.depth - 310\n",
    "print(hydrophone_metadata['h'+str(event.first_hydrophone+1)]['depth'])\n",
    "relative_depth = event.depth - hydrophone_metadata['h'+str(event.first_hydrophone+1)]['depth']\n",
    "\n",
    "# should i be using absolute value?\n",
    "radius = np.sqrt(abs(1750**2 * (mode_t - parrival_t).total_seconds()**2 - relative_depth**2))\n",
    "print(radius)"
   ]
  },
  {
   "cell_type": "code",
   "execution_count": null,
   "id": "5e314afe-1c84-4b40-bb53-8c3d87e76dfe",
   "metadata": {},
   "outputs": [],
   "source": [
    "fig, ax = plt.subplots(2, 1, figsize=(15, 10), sharex=True)\n",
    "\n",
    "for n, tr in enumerate(raw[event.first_hydrophone:]):\n",
    "    ax[n].plot(tr.times('matplotlib'), tr.data, color='black', linewidth=0.5)\n",
    "    break\n",
    "\n",
    "for n, tr in enumerate(p_waveforms[event.first_hydrophone:]):\n",
    "    ax[n].plot(tr.times('matplotlib'), tr.data, color='blue', linewidth=1.5)\n",
    "    break\n",
    "    \n",
    "for n, tr in enumerate(window[event.first_hydrophone:]):\n",
    "    ax[n].plot(tr.times('matplotlib'), tr.data, color='dodgerblue', linewidth=1.5, alpha=0.5)\n",
    "    break\n",
    "\n",
    "ax[1].plot(window[event.first_hydrophone].times('matplotlib'), event.aics, color='limegreen')\n",
    "\n",
    "\n",
    "ax[1].xaxis.set_major_formatter(plotting.PrecisionDateFormatter(\"%H:%M:%S.{ms}\"))\n",
    "\n",
    "ax[1].plot((event.arrival_time, event.arrival_time), (min(event.aics), max(event.aics)))\n",
    "\n",
    "ax2 = ax[1].twinx()\n",
    "\n",
    "ax2.plot(t, aic2)\n",
    "\n",
    "\n",
    "# ax[1].set_xlim(event.first_arrival, event.arrival_time)\n",
    "\n",
    "\n",
    "ax[0].vlines(x=parrival, ymin=-0.75, ymax=0.75, color='red', label='p-arrival')\n",
    "ax[0].vlines(x=event.arrival_time, ymin=-0.75, ymax=0.75, color='red', label='trapped mode arrival', linewidth=2, zorder=20, linestyle='--')\n",
    "\n",
    "# ax[0].set_xlim([starttime+0.05, endtime])\n",
    "ax[0].set_ylim(-0.75, 0.75)\n",
    "ax[0].legend(fontsize=15)\n",
    "\n",
    "fig.tight_layout()\n",
    "\n",
    "# you can make this more sophisticated, make it find all the peaks in the aic curve then pick the earliest peak, and you know you can control the onset window a bit as well"
   ]
  },
  {
   "cell_type": "code",
   "execution_count": null,
   "id": "91814e1d-f892-4b71-9322-0b46a440e710",
   "metadata": {},
   "outputs": [],
   "source": [
    "(mode_t - parrival_t).total_seconds()"
   ]
  },
  {
   "cell_type": "code",
   "execution_count": null,
   "id": "8e39ddfa-621a-4f9a-8902-bf4eef5b6aa1",
   "metadata": {},
   "outputs": [],
   "source": [
    "vrock = 5500 # m/s\n",
    "vtm = 1750 # m/s\n",
    "# dz = event.depth - 310 # relative depth\n",
    "dz = event.depth - hydrophone_metadata['h'+str(event.first_hydrophone+1)]['depth']\n",
    "\n",
    "parrival_t = dates.num2date(parrival)\n",
    "mode_t = dates.num2date(event.arrival_time)\n",
    "\n",
    "dt = (mode_t - parrival_t).total_seconds()\n",
    "\n",
    "dr = - 0.5 * (dz**2 - ((dt - dz * vtm)/(vrock))**2) * ((vrock)/(dt - dz * vtm))\n",
    "dr"
   ]
  },
  {
   "cell_type": "code",
   "execution_count": null,
   "id": "76a1f74b-1aca-4ccf-9ec2-d316e3ac5169",
   "metadata": {},
   "outputs": [],
   "source": [
    "event"
   ]
  },
  {
   "cell_type": "code",
   "execution_count": null,
   "id": "82fe6558-c119-4b1f-947d-a1c0269859b2",
   "metadata": {},
   "outputs": [],
   "source": [
    "hydrophone_metadata['h'+str(event.first_hydrophone+1)]['depth']"
   ]
  },
  {
   "cell_type": "code",
   "execution_count": null,
   "id": "5c32f0c8-914d-4e8c-927e-006cc8809e83",
   "metadata": {},
   "outputs": [],
   "source": []
  },
  {
   "cell_type": "code",
   "execution_count": null,
   "id": "0a390e9f-f907-48c0-8e49-7e615c070121",
   "metadata": {},
   "outputs": [],
   "source": [
    "# todo: do a pythagorean theorem distance calculation here\n",
    "parrival_t = dates.num2date(parrival)\n",
    "mode_t = dates.num2date(event.arrival_time)\n",
    "\n",
    "(mode_t - parrival_t).total_seconds()\n",
    "1750**2 * (mode_t - parrival_t).total_seconds()**2"
   ]
  },
  {
   "cell_type": "code",
   "execution_count": null,
   "id": "d419d2f5-1223-425f-8908-a575f819c317",
   "metadata": {},
   "outputs": [],
   "source": [
    "relative_depth = event.depth - 310\n",
    "# np.sqrt(1750**2 * (mode_t - parrival_t).total_seconds()**2 - relative_depth**2)\n",
    "\n",
    "# should i be using absolute value?\n",
    "np.sqrt(abs(1750**2 * (mode_t - parrival_t).total_seconds()**2 - relative_depth**2))"
   ]
  },
  {
   "cell_type": "code",
   "execution_count": null,
   "id": "b58eec7f-93e6-4ac1-b714-a9eca742e9fd",
   "metadata": {},
   "outputs": [],
   "source": [
    "np.sqrt(abs(1750**2 * (pd.to_datetime(event.first_arrival) - parrival_t).total_seconds()**2 - relative_depth**2))"
   ]
  },
  {
   "cell_type": "code",
   "execution_count": null,
   "id": "b185fdeb-a045-424f-b0d2-bb74c803651d",
   "metadata": {},
   "outputs": [],
   "source": [
    "# TODO : calculate radius for all values and plot along with depth\n",
    "event.depth"
   ]
  },
  {
   "cell_type": "code",
   "execution_count": null,
   "id": "d5c589f3-bd68-40b8-ac98-1c0cc80160f6",
   "metadata": {},
   "outputs": [],
   "source": [
    "np.sqrt(abs(150.0625 - 275.125))"
   ]
  },
  {
   "cell_type": "code",
   "execution_count": null,
   "id": "3da7a477-f101-4310-ae9a-6ac112e23c22",
   "metadata": {},
   "outputs": [],
   "source": [
    "hydrophone_metadata['h5']"
   ]
  },
  {
   "cell_type": "code",
   "execution_count": null,
   "id": "6723c7e4-ff5b-447f-b6fc-e8810a4c3e27",
   "metadata": {},
   "outputs": [],
   "source": [
    "event"
   ]
  },
  {
   "cell_type": "code",
   "execution_count": null,
   "id": "70506177-e742-425b-b041-0f073702bdfb",
   "metadata": {},
   "outputs": [],
   "source": []
  },
  {
   "cell_type": "code",
   "execution_count": null,
   "id": "4dc4048b-f139-4a67-a6f5-023feb7af3ff",
   "metadata": {},
   "outputs": [],
   "source": []
  }
 ],
 "metadata": {
  "kernelspec": {
   "display_name": "Python 3 (ipykernel)",
   "language": "python",
   "name": "python3"
  },
  "language_info": {
   "codemirror_mode": {
    "name": "ipython",
    "version": 3
   },
   "file_extension": ".py",
   "mimetype": "text/x-python",
   "name": "python",
   "nbconvert_exporter": "python",
   "pygments_lexer": "ipython3",
   "version": "3.11.5"
  }
 },
 "nbformat": 4,
 "nbformat_minor": 5
}
