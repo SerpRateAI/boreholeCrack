{
 "cells": [
  {
   "cell_type": "code",
   "execution_count": 1,
   "id": "6fcd61bb-08ed-420c-84f4-dd1eb2c1a07c",
   "metadata": {},
   "outputs": [],
   "source": [
    "%matplotlib inline\n",
    "import numpy as np\n",
    "import pandas as pd\n",
    "import matplotlib.pyplot as plt\n",
    "\n",
    "import numpy.linalg as lin\n",
    "from multiprocessing import Pool"
   ]
  },
  {
   "cell_type": "code",
   "execution_count": 9,
   "id": "287ed2ef-305b-49f4-ab4e-e175016bac44",
   "metadata": {},
   "outputs": [],
   "source": [
    "#originally I try +/- 500m but i think its better if i try smaller radius\n",
    "# x = np.arange(-500, 500, 10)\n",
    "# y = np.arange(0, 400, 10)\n",
    "# z = np.arange(-500, 500, 10)\n",
    "# x.shape\n",
    "\n",
    "# x = np.arange(-200, 200, 1)\n",
    "# y = np.arange(0, 400, 1)\n",
    "# z = np.arange(-200, 200, 1)\n",
    "# xx, yy, zz = np.meshgrid(x, y, z)\n",
    "\n",
    "x = np.arange(-100, 100, 10)\n",
    "y = np.arange(0, 400, 10)\n",
    "z = np.arange(-100, 100, 10)\n",
    "xx, yy, zz = np.meshgrid(x, y, z)\n",
    "\n",
    "# x,z are horizontal plane\n",
    "# y is depth\n",
    "\n",
    "# calculates distance from every grid point to every hydrophone location\n",
    "dx_h3 = np.sqrt(xx**2 + (yy-170)**2 + zz**2)\n",
    "dx_h4 = np.sqrt(xx**2 + (yy-240)**2 + zz**2)\n",
    "dx_h5 = np.sqrt(xx**2 + (yy-310)**2 + zz**2)\n",
    "dx_h6 = np.sqrt(xx**2 + (yy-380)**2 + zz**2)\n",
    "\n",
    "# set velocity model to be the same everywhere\n",
    "vp = np.zeros_like(xx) + 6000\n",
    "\n",
    "# calculate perfect travel times to each hydrophone\n",
    "t_h3 = dx_h3/vp\n",
    "t_h4 = dx_h4/vp\n",
    "t_h5 = dx_h5/vp\n",
    "t_h6 = dx_h6/vp"
   ]
  },
  {
   "cell_type": "code",
   "execution_count": 10,
   "id": "bc96255e-d060-474a-a34b-264c7ef88cf4",
   "metadata": {},
   "outputs": [
    {
     "data": {
      "text/plain": [
       "[0.05100000000000002, 0.0, 0.02500000000000001, 0.067]"
      ]
     },
     "execution_count": 10,
     "metadata": {},
     "output_type": "execute_result"
    }
   ],
   "source": [
    "hydrophones = ['h3', 'h4', 'h5', 'h6']\n",
    "true_arrivals = [0.137-0.086, 0.086-0.086, 0.111-0.086, 0.153-0.086]\n",
    "true_arrivals"
   ]
  },
  {
   "cell_type": "code",
   "execution_count": 11,
   "id": "4045ea55-1ded-48a5-aacb-36cd89fa6eaa",
   "metadata": {},
   "outputs": [],
   "source": [
    "# h6 0.153\n",
    "# h5 0.111\n",
    "# h4 first 0.086\n",
    "# h3 0.137\n",
    "# starttime 2019-05-21T08:05:17.933000Z"
   ]
  },
  {
   "cell_type": "code",
   "execution_count": 12,
   "id": "e24ecd24-d2f7-437b-b3b6-bd7eb32de922",
   "metadata": {},
   "outputs": [
    {
     "data": {
      "text/plain": [
       "[318.07, 318.019, 318.044, 318.086]"
      ]
     },
     "execution_count": 12,
     "metadata": {},
     "output_type": "execute_result"
    }
   ],
   "source": [
    "event_time = pd.to_datetime('2019-05-21 08:05:17.933')\n",
    "\n",
    "true_arrivals = [0.137, 0.086, 0.111, 0.153]\n",
    "\n",
    "event_times = []\n",
    "for t in true_arrivals:\n",
    "    et = event_time - event_time.floor('H') + pd.Timedelta(t*1e9)\n",
    "    event_times.append(et.seconds + et.microseconds*1e-6)\n",
    "    \n",
    "# event_time - event_time.floor('H') + pd.Timedelta(0.137e9)\n",
    "# event_times[0].seconds + event_times[0].microseconds*1e-6\n",
    "event_times"
   ]
  },
  {
   "cell_type": "code",
   "execution_count": 13,
   "id": "59244f99-fb55-4395-801c-0ab4c03900bb",
   "metadata": {},
   "outputs": [
    {
     "data": {
      "text/plain": [
       "(40, 20, 20)"
      ]
     },
     "execution_count": 13,
     "metadata": {},
     "output_type": "execute_result"
    }
   ],
   "source": [
    "xx.shape"
   ]
  },
  {
   "cell_type": "code",
   "execution_count": 15,
   "id": "b6d0ca39-a66f-4bc2-a850-287ea2eb83bf",
   "metadata": {},
   "outputs": [],
   "source": [
    "# i = 20\n",
    "# j = 20\n",
    "# k = 20\n",
    "\n",
    "# t_h3[i, j, k]"
   ]
  },
  {
   "cell_type": "code",
   "execution_count": 17,
   "id": "287c9ca2-a59b-43cf-901a-57ca4950845b",
   "metadata": {},
   "outputs": [],
   "source": [
    "# theoretical_arrivals = [\n",
    "#     t_h3[i, j, k]\n",
    "#     ,t_h4[i, j, k]\n",
    "#     ,t_h5[i, j, k]\n",
    "#     ,t_h6[i, j, k]\n",
    "# ]\n",
    "# theoretical_arrivals"
   ]
  },
  {
   "cell_type": "code",
   "execution_count": 18,
   "id": "91d4da1c-98d1-410d-8687-97e8831bf858",
   "metadata": {},
   "outputs": [],
   "source": [
    "# t_h3.shape"
   ]
  },
  {
   "cell_type": "code",
   "execution_count": 31,
   "id": "98879572-b293-4296-bd5f-4af6f847b2cc",
   "metadata": {},
   "outputs": [
    {
     "name": "stderr",
     "output_type": "stream",
     "text": [
      "/tmp/ipykernel_31211/746220066.py:36: FutureWarning: `rcond` parameter will change to the default of machine precision times ``max(M, N)`` where M and N are the input matrix dimensions.\n",
      "To use the future default and silence this warning we advise to pass `rcond=None`, to keep using the old, explicitly pass `rcond=-1`.\n",
      "  t0 = np.linalg.lstsq(t0_top, t0_bottom)[0]\n"
     ]
    },
    {
     "data": {
      "text/plain": [
       "0.02427680179319597"
      ]
     },
     "execution_count": 31,
     "metadata": {},
     "output_type": "execute_result"
    }
   ],
   "source": [
    "event_time = pd.to_datetime('2019-05-21 08:05:17.933')\n",
    "\n",
    "true_arrivals = [0.137, 0.086, 0.111, 0.153]\n",
    "\n",
    "event_times = []\n",
    "for t in true_arrivals:\n",
    "    et = event_time - event_time.floor('H') + pd.Timedelta(t*1e9)\n",
    "    event_times.append(et.seconds + et.microseconds*1e-6)\n",
    "    \n",
    "# event_time - event_time.floor('H') + pd.Timedelta(0.137e9)\n",
    "# event_times[0].seconds + event_times[0].microseconds*1e-6\n",
    "event_times\n",
    "\n",
    "i = 10\n",
    "j = 10\n",
    "k = 15\n",
    "theoretical_arrivals = [\n",
    "    t_h3[i, j, k]\n",
    "    ,t_h4[i, j, k]\n",
    "    ,t_h5[i, j, k]\n",
    "    ,t_h6[i, j, k]\n",
    "]\n",
    "\n",
    "# per grid point\n",
    "good_picks = np.diag(np.array([1, 1, 1, 1])) #this is different from gvec because it can have zeros whne there is no pick\n",
    "\n",
    "dvec = np.vstack(np.array(event_times)) - np.vstack(np.array(theoretical_arrivals))\n",
    "\n",
    "wmat = np.vstack(0.1*good_picks)\n",
    "gvec = np.ones_like(good_picks).astype(float)\n",
    "\n",
    "t0_top = gvec.transpose().dot(wmat).dot(gvec)\n",
    "t0_bottom = gvec.dot(wmat).dot(dvec)\n",
    "\n",
    "# linalg returns x, residuals, rank, s, we only want x, the solution\n",
    "t0 = np.linalg.lstsq(t0_top, t0_bottom)[0]\n",
    "\n",
    "evec = np.zeros_like(good_picks)\n",
    "evec = dvec - gvec.dot(t0)\n",
    "np.sqrt(evec.transpose().dot(wmat).dot(evec) / np.sum(np.diag(wmat)))[0][0]\n",
    "\n",
    "[1, 2]\n",
    "[3, 4]\n",
    "\n",
    "[5, 6]\n",
    "[7, 8]\n",
    "\n"
   ]
  },
  {
   "cell_type": "code",
   "execution_count": 25,
   "id": "88853a1d-4ecd-4eff-83c2-06aa12f43e17",
   "metadata": {},
   "outputs": [
    {
     "data": {
      "text/plain": [
       "Timedelta('0 days 00:05:18.086000')"
      ]
     },
     "execution_count": 25,
     "metadata": {},
     "output_type": "execute_result"
    }
   ],
   "source": [
    "event_time - event_time.floor('H') + pd.Timedelta(t*1e9)"
   ]
  },
  {
   "cell_type": "code",
   "execution_count": 20,
   "id": "76621da8-7f80-4db2-83b8-748fff627852",
   "metadata": {},
   "outputs": [
    {
     "name": "stderr",
     "output_type": "stream",
     "text": [
      "/tmp/ipykernel_31211/1500801712.py:39: FutureWarning: `rcond` parameter will change to the default of machine precision times ``max(M, N)`` where M and N are the input matrix dimensions.\n",
      "To use the future default and silence this warning we advise to pass `rcond=None`, to keep using the old, explicitly pass `rcond=-1`.\n",
      "  t0 = np.linalg.lstsq(t0_top, t0_bottom)[0]\n"
     ]
    }
   ],
   "source": [
    "event_time = pd.to_datetime('2019-05-21 08:05:17.933')\n",
    "\n",
    "true_arrivals = [0.137, 0.086, 0.111, 0.153]\n",
    "\n",
    "event_times = []\n",
    "for t in true_arrivals:\n",
    "    et = event_time - event_time.floor('H') + pd.Timedelta(t*1e9)\n",
    "    event_times.append(et.seconds + et.microseconds*1e-6)\n",
    "    \n",
    "# event_time - event_time.floor('H') + pd.Timedelta(0.137e9)\n",
    "# event_times[0].seconds + event_times[0].microseconds*1e-6\n",
    "event_times\n",
    "\n",
    "i_s = np.arange(0, t_h3.shape[0], 1)\n",
    "j_s = np.arange(0, t_h3.shape[1], 1)\n",
    "k_s = np.arange(0, t_h3.shape[2], 1)\n",
    "\n",
    "rms_cube = np.zeros_like(t_h3)\n",
    "\n",
    "for i in i_s:\n",
    "    for j in j_s:\n",
    "        for k in k_s:\n",
    "            theoretical_arrivals = [\n",
    "                t_h3[i, j, k]\n",
    "                ,t_h4[i, j, k]\n",
    "                ,t_h5[i, j, k]\n",
    "                ,t_h6[i, j, k]\n",
    "            ]\n",
    "\n",
    "            # per grid point\n",
    "            good_picks = np.diag(np.array([1, 1, 1, 1])) #this is different from gvec because it can have zeros whne there is no pick\n",
    "            dvec = np.vstack(np.array(event_times)) - np.vstack(np.array(theoretical_arrivals))\n",
    "            wmat = np.vstack(0.1*good_picks)\n",
    "            gvec = np.ones_like(good_picks).astype(float)\n",
    "            t0_top = gvec.transpose().dot(wmat).dot(gvec)\n",
    "            t0_bottom = gvec.dot(wmat).dot(dvec)\n",
    "\n",
    "            # linalg returns x, residuals, rank, s, we only want x, the solution\n",
    "            t0 = np.linalg.lstsq(t0_top, t0_bottom)[0]\n",
    "\n",
    "            evec = np.zeros_like(good_picks)\n",
    "            evec = dvec - gvec.dot(t0)\n",
    "            rms_cube[i,j,k] = np.sqrt(evec.transpose().dot(wmat).dot(evec) / np.sum(np.diag(wmat)))[0][0]\n"
   ]
  },
  {
   "cell_type": "code",
   "execution_count": 22,
   "id": "57d0cda3-2e97-4329-91e4-39f0afb79088",
   "metadata": {},
   "outputs": [
    {
     "data": {
      "text/plain": [
       "array([[490]])"
      ]
     },
     "execution_count": 22,
     "metadata": {},
     "output_type": "execute_result"
    },
    {
     "data": {
      "image/png": "[encoded data removed]",
      "text/plain": [
       "<Figure size 864x720 with 2 Axes>"
      ]
     },
     "metadata": {
      "needs_background": "light"
     },
     "output_type": "display_data"
    }
   ],
   "source": [
    "fig, ax = plt.subplots(figsize=(12, 10))\n",
    "\n",
    "Z = rms_cube[:,10,:].copy().astype(np.float64)\n",
    "cbar = ax.pcolormesh(x, -y, Z, cmap='nipy_spectral_r',shading='auto')\n",
    "fig.colorbar(cbar)\n",
    "\n",
    "hdepths = np.array([-10, 30, 100, 170, 240, 310, 380])\n",
    "ax.plot(np.zeros_like(hdepths), -hdepths, color='black', marker='s')\n",
    "ax.set_ylim(-400, 0)\n",
    "ax.set_xlim(-200, 200)\n",
    "Z.argmin(keepdims=True)"
   ]
  },
  {
   "cell_type": "code",
   "execution_count": null,
   "id": "c341901e-6bf7-4527-a69d-cf1257e34cca",
   "metadata": {},
   "outputs": [],
   "source": [
    "# plt.hist(rms_cube.flatten(), bins=100)"
   ]
  },
  {
   "cell_type": "code",
   "execution_count": null,
   "id": "1db87274-8634-4f07-b82b-7ddbd7ac118c",
   "metadata": {},
   "outputs": [],
   "source": [
    "# np.diag(dvec.flatten())"
   ]
  },
  {
   "cell_type": "code",
   "execution_count": null,
   "id": "5702ca06-9073-44b9-bad7-d22b7a6d2632",
   "metadata": {},
   "outputs": [],
   "source": [
    "# g = gvec.copy()\n",
    "# w = wmat.copy()\n",
    "# d = np.diag(dvec.flatten()).copy()\n",
    "# np.matmul(g, w, d)"
   ]
  },
  {
   "cell_type": "code",
   "execution_count": null,
   "id": "faeceaea-a603-4c5c-ae79-f9f3eb5374e1",
   "metadata": {},
   "outputs": [],
   "source": [
    "# np.matmul(gvec.transpose(), wmat, gvec)"
   ]
  },
  {
   "cell_type": "code",
   "execution_count": null,
   "id": "90326c4a-39c1-4eb4-b57a-dd274bb9abe0",
   "metadata": {},
   "outputs": [],
   "source": [
    "# a = np.array([[1, 2], [3, 4]])\n",
    "# b = np.array([[5, 6], [7, 8]])\n",
    "\n",
    "# print(a)\n",
    "# print(b)\n",
    "# print(a*b)\n",
    "# print(np.matmul(a, b))\n",
    "# print(a.dot(b))"
   ]
  },
  {
   "cell_type": "code",
   "execution_count": null,
   "id": "c260ae92-f985-44cc-8ddf-ccc12835932d",
   "metadata": {},
   "outputs": [],
   "source": [
    "# evec = dvec - gvec*t0\n",
    "# np.sqrt(evec.transpose()*wmat*evec / np.sum(np.diag(wmat)))[0][0]"
   ]
  },
  {
   "cell_type": "code",
   "execution_count": null,
   "id": "79b9a897-cefe-47ae-97a9-ab2f65d1c568",
   "metadata": {},
   "outputs": [],
   "source": [
    "# print(np.sqrt(evec.transpose().dot(wmat).dot(evec)/np.sum(np.diag(wmat))))\n"
   ]
  }
 ],
 "metadata": {
  "kernelspec": {
   "display_name": "Python [conda env:borehole] *",
   "language": "python",
   "name": "conda-env-borehole-py"
  },
  "language_info": {
   "codemirror_mode": {
    "name": "ipython",
    "version": 3
   },
   "file_extension": ".py",
   "mimetype": "text/x-python",
   "name": "python",
   "nbconvert_exporter": "python",
   "pygments_lexer": "ipython3",
   "version": "3.8.12"
  }
 },
 "nbformat": 4,
 "nbformat_minor": 5
}
