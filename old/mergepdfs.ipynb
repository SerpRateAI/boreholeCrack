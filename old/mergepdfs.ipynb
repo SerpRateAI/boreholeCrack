{
 "cells": [
  {
   "cell_type": "code",
   "execution_count": 1,
   "id": "46cab679-790a-4418-9102-c27f7e2cfc47",
   "metadata": {},
   "outputs": [
    {
     "name": "stdout",
     "output_type": "stream",
     "text": [
      "Requirement already satisfied: PyPDF2 in /home/john/anaconda3/envs/borehole/lib/python3.8/site-packages (2.11.1)\n",
      "Requirement already satisfied: typing-extensions>=3.10.0.0 in /home/john/anaconda3/envs/borehole/lib/python3.8/site-packages (from PyPDF2) (4.1.1)\n",
      "\u001b[33mWARNING: You are using pip version 22.0.4; however, version 22.3 is available.\n",
      "You should consider upgrading via the '/home/john/anaconda3/envs/borehole/bin/python3.8 -m pip install --upgrade pip' command.\u001b[0m\u001b[33m\n",
      "\u001b[0m"
     ]
    }
   ],
   "source": [
    "!pip install PyPDF2"
   ]
  },
  {
   "cell_type": "code",
   "execution_count": 2,
   "id": "774ed650-be84-483c-877d-99d41a61fe33",
   "metadata": {},
   "outputs": [],
   "source": [
    "from PyPDF2 import PdfMerger"
   ]
  },
  {
   "cell_type": "code",
   "execution_count": 3,
   "id": "bf1d3b40-0096-46fe-a2ad-cb435ee418f3",
   "metadata": {},
   "outputs": [],
   "source": [
    "pdfs = !ls everyday/b"
   ]
  },
  {
   "cell_type": "code",
   "execution_count": 4,
   "id": "7c847dc4-bbe4-4279-9f83-166a5484e574",
   "metadata": {},
   "outputs": [
    {
     "data": {
      "text/plain": [
       "['2019.121.pdf',\n",
       " '2019.122.pdf',\n",
       " '2019.123.pdf',\n",
       " '2019.124.pdf',\n",
       " '2019.125.pdf']"
      ]
     },
     "execution_count": 4,
     "metadata": {},
     "output_type": "execute_result"
    }
   ],
   "source": [
    "pdfs[0:5]"
   ]
  },
  {
   "cell_type": "code",
   "execution_count": 6,
   "id": "97c787f6-6190-49a0-8619-56f6505655b0",
   "metadata": {},
   "outputs": [],
   "source": [
    "merger = PdfMerger()\n",
    "\n",
    "for pdf in pdfs:\n",
    "    # merger.append('everyday/'+pdf)\n",
    "    merger.append('everyday/b/'+pdf)\n",
    "    \n",
    "# merger.write('everyday_a.pdf')\n",
    "merger.write('everyday_b.pdf')\n",
    "merger.close()"
   ]
  },
  {
   "cell_type": "code",
   "execution_count": null,
   "id": "aa81afeb-c52d-4a81-a9c2-d6a50ac664ff",
   "metadata": {},
   "outputs": [],
   "source": []
  }
 ],
 "metadata": {
  "kernelspec": {
   "display_name": "Python [conda env:borehole] *",
   "language": "python",
   "name": "conda-env-borehole-py"
  },
  "language_info": {
   "codemirror_mode": {
    "name": "ipython",
    "version": 3
   },
   "file_extension": ".py",
   "mimetype": "text/x-python",
   "name": "python",
   "nbconvert_exporter": "python",
   "pygments_lexer": "ipython3",
   "version": "3.8.12"
  }
 },
 "nbformat": 4,
 "nbformat_minor": 5
}
