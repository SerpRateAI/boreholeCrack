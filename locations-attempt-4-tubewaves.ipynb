{
 "cells": [
  {
   "cell_type": "code",
   "execution_count": 1,
   "id": "ce154633-6139-4620-9adc-5880393f867e",
   "metadata": {},
   "outputs": [
    {
     "name": "stdout",
     "output_type": "stream",
     "text": [
      "number of events detected: (1975, 7)\n"
     ]
    },
    {
     "data": {
      "text/html": [
       "<div>\n",
       "<style scoped>\n",
       "    .dataframe tbody tr th:only-of-type {\n",
       "        vertical-align: middle;\n",
       "    }\n",
       "\n",
       "    .dataframe tbody tr th {\n",
       "        vertical-align: top;\n",
       "    }\n",
       "\n",
       "    .dataframe thead th {\n",
       "        text-align: right;\n",
       "    }\n",
       "</style>\n",
       "<table border=\"1\" class=\"dataframe\">\n",
       "  <thead>\n",
       "    <tr style=\"text-align: right;\">\n",
       "      <th></th>\n",
       "      <th>index</th>\n",
       "      <th>event_times (mpl)</th>\n",
       "      <th>event_times (abs)</th>\n",
       "      <th>hphone_idx</th>\n",
       "      <th>ones</th>\n",
       "      <th>event_times</th>\n",
       "      <th>p_arrival_hphone_idx</th>\n",
       "    </tr>\n",
       "  </thead>\n",
       "  <tbody>\n",
       "    <tr>\n",
       "      <th>0</th>\n",
       "      <td>0</td>\n",
       "      <td>18037.318174</td>\n",
       "      <td>2019-05-21T07:38:10.208000Z</td>\n",
       "      <td>h3</td>\n",
       "      <td>1</td>\n",
       "      <td>2019-05-21 07:38:10.208000+00:00</td>\n",
       "      <td>2019-05-21 07:38:10.186000+00:00</td>\n",
       "    </tr>\n",
       "    <tr>\n",
       "      <th>1</th>\n",
       "      <td>1</td>\n",
       "      <td>18037.318189</td>\n",
       "      <td>2019-05-21T07:38:11.526000Z</td>\n",
       "      <td>h3</td>\n",
       "      <td>1</td>\n",
       "      <td>2019-05-21 07:38:11.526000+00:00</td>\n",
       "      <td>2019-05-21 07:38:11.517000+00:00</td>\n",
       "    </tr>\n",
       "    <tr>\n",
       "      <th>2</th>\n",
       "      <td>2</td>\n",
       "      <td>18037.318203</td>\n",
       "      <td>2019-05-21T07:38:12.754000Z</td>\n",
       "      <td>h3</td>\n",
       "      <td>1</td>\n",
       "      <td>2019-05-21 07:38:12.754000+00:00</td>\n",
       "      <td>2019-05-21 07:38:12.723000+00:00</td>\n",
       "    </tr>\n",
       "    <tr>\n",
       "      <th>3</th>\n",
       "      <td>3</td>\n",
       "      <td>18037.318219</td>\n",
       "      <td>2019-05-21T07:38:14.141000Z</td>\n",
       "      <td>h3</td>\n",
       "      <td>1</td>\n",
       "      <td>2019-05-21 07:38:14.141000+00:00</td>\n",
       "      <td>2019-05-21 07:38:14.107000+00:00</td>\n",
       "    </tr>\n",
       "    <tr>\n",
       "      <th>4</th>\n",
       "      <td>4</td>\n",
       "      <td>18037.318222</td>\n",
       "      <td>2019-05-21T07:38:14.405000Z</td>\n",
       "      <td>h3</td>\n",
       "      <td>1</td>\n",
       "      <td>2019-05-21 07:38:14.405000+00:00</td>\n",
       "      <td>2019-05-21 07:38:14.592000+00:00</td>\n",
       "    </tr>\n",
       "  </tbody>\n",
       "</table>\n",
       "</div>"
      ],
      "text/plain": [
       "   index  event_times (mpl)            event_times (abs) hphone_idx  ones  \\\n",
       "0      0       18037.318174  2019-05-21T07:38:10.208000Z         h3     1   \n",
       "1      1       18037.318189  2019-05-21T07:38:11.526000Z         h3     1   \n",
       "2      2       18037.318203  2019-05-21T07:38:12.754000Z         h3     1   \n",
       "3      3       18037.318219  2019-05-21T07:38:14.141000Z         h3     1   \n",
       "4      4       18037.318222  2019-05-21T07:38:14.405000Z         h3     1   \n",
       "\n",
       "                       event_times             p_arrival_hphone_idx  \n",
       "0 2019-05-21 07:38:10.208000+00:00 2019-05-21 07:38:10.186000+00:00  \n",
       "1 2019-05-21 07:38:11.526000+00:00 2019-05-21 07:38:11.517000+00:00  \n",
       "2 2019-05-21 07:38:12.754000+00:00 2019-05-21 07:38:12.723000+00:00  \n",
       "3 2019-05-21 07:38:14.141000+00:00 2019-05-21 07:38:14.107000+00:00  \n",
       "4 2019-05-21 07:38:14.405000+00:00 2019-05-21 07:38:14.592000+00:00  "
      ]
     },
     "execution_count": 1,
     "metadata": {},
     "output_type": "execute_result"
    }
   ],
   "source": [
    "# %matplotlib inline\n",
    "%matplotlib widget\n",
    "\n",
    "import obspy\n",
    "import obspy.signal.trigger as trigger\n",
    "import matplotlib.pyplot as plt\n",
    "import numpy as np\n",
    "from hydrophone_data_processing import load, preprocessing, tempmatch, useful_variables, plotting\n",
    "from matplotlib.dates import num2date\n",
    "import event_times as iet\n",
    "iet.df.head()"
   ]
  },
  {
   "cell_type": "markdown",
   "id": "3cec8dd1-0a08-4f1e-8d49-638347a5d075",
   "metadata": {},
   "source": [
    "# my first notebook!\n",
    "\n",
    "yay here you go"
   ]
  },
  {
   "cell_type": "code",
   "execution_count": 2,
   "id": "febad026-43f3-4054-aa64-18aada71cd4b",
   "metadata": {},
   "outputs": [],
   "source": [
    "# first arrival hydrophone ID : event number : time\n",
    "# h3 : 420  : 2019-05-21T07:44:43.613000Z\n",
    "# h3 : 365  : 2019-05-21T07:44:06.043000Z\n",
    "# h3 : 75   : 2019-05-21T07:38:59.981000Z\n",
    "# h4 : 750  : 2019-05-21T07:51:53.199000Z\n",
    "# h5 : 1250 : 2019-05-21T08:13:02.569000Z\n",
    "# h4 : 1552 : 2019-05-21T08:20:35.557000Z\n",
    "# h5 : 2001 : 2019-05-21T08:31:18.593000Z\n",
    "# h6 : 2300 : 2019-05-21T08:36:56.497000Z"
   ]
  },
  {
   "cell_type": "code",
   "execution_count": 3,
   "id": "3f411e87-e3b7-4acb-b533-1c1654233b40",
   "metadata": {},
   "outputs": [
    {
     "data": {
      "text/plain": [
       "6 Trace(s) in Stream:\n",
       "7F.A00.01.GDH | 2019-05-21T00:00:04.958000Z - 2019-05-22T00:00:04.625000Z | 1000.0 Hz, 86399668 samples\n",
       "7F.A00.02.GDH | 2019-05-21T00:00:02.689000Z - 2019-05-22T00:00:03.978000Z | 1000.0 Hz, 86401290 samples\n",
       "7F.A00.03.GDH | 2019-05-21T00:00:00.991000Z - 2019-05-22T00:00:00.009000Z | 1000.0 Hz, 86399019 samples\n",
       "7F.A00.04.GDH | 2019-05-21T00:00:00.295000Z - 2019-05-22T00:00:03.398000Z | 1000.0 Hz, 86403104 samples\n",
       "7F.A00.05.GDH | 2019-05-21T00:00:00.964000Z - 2019-05-22T00:00:01.155000Z | 1000.0 Hz, 86400192 samples\n",
       "7F.A00.06.GDH | 2019-05-21T00:00:01.824000Z - 2019-05-22T00:00:02.773000Z | 1000.0 Hz, 86400950 samples"
      ]
     },
     "execution_count": 3,
     "metadata": {},
     "output_type": "execute_result"
    }
   ],
   "source": [
    "paths = useful_variables.make_hydrophone_data_paths(borehole='a', year=2019, julian_day=141)\n",
    "data = load.get_raw_stream(paths=paths)\n",
    "data.filter(type='highpass', freq=50, corners=1, zerophase=False)"
   ]
  },
  {
   "cell_type": "code",
   "execution_count": 4,
   "id": "31785550-f8fd-40be-b194-8e2991186704",
   "metadata": {},
   "outputs": [],
   "source": [
    "def aic_pick(event):\n",
    "    \"\"\"\n",
    "    Uses obspy aic_simple to pick the start time of an event\n",
    "    \n",
    "    Parameters\n",
    "    --------------------\n",
    "    event : obspy.Stream\n",
    "        an obspy stream with traces inside. the expected data\n",
    "        will be only for a single event, not the whole data set\n",
    "        \n",
    "    Returns\n",
    "    --------------------\n",
    "    aic_t : list\n",
    "        the times per hydrophone for each aic picked event\n",
    "    aics : list\n",
    "        the raw aics calculated for each event\n",
    "    \"\"\"\n",
    "    \n",
    "    # calculates aic score\n",
    "    aics = [trigger.aic_simple(tr.data) for tr in event]\n",
    "    \n",
    "    # finds minimum and returns index for aic scores\n",
    "    aic_t_idx = [aic.argmin() for aic in aics]\n",
    "    \n",
    "    # uses minimum index to retrieve the timestamp\n",
    "    aic_t = [event[n].times('matplotlib')[i] for n, i in enumerate(aic_t_idx)]\n",
    "    \n",
    "    return aic_t, aics"
   ]
  },
  {
   "cell_type": "code",
   "execution_count": 5,
   "id": "e86c7b95-8c8b-4bd7-b91e-e91a81c7e4be",
   "metadata": {},
   "outputs": [
    {
     "ename": "NameError",
     "evalue": "name 'event1' is not defined",
     "output_type": "error",
     "traceback": [
      "\u001b[0;31m---------------------------------------------------------------------------\u001b[0m",
      "\u001b[0;31mNameError\u001b[0m                                 Traceback (most recent call last)",
      "\u001b[0;32m/tmp/ipykernel_7814/3967029271.py\u001b[0m in \u001b[0;36m<module>\u001b[0;34m\u001b[0m\n\u001b[0;32m----> 1\u001b[0;31m \u001b[0mevent1\u001b[0m\u001b[0;34m.\u001b[0m\u001b[0mcount\u001b[0m\u001b[0;34m(\u001b[0m\u001b[0;34m)\u001b[0m\u001b[0;34m\u001b[0m\u001b[0;34m\u001b[0m\u001b[0m\n\u001b[0m",
      "\u001b[0;31mNameError\u001b[0m: name 'event1' is not defined"
     ]
    }
   ],
   "source": [
    "event1.count()"
   ]
  },
  {
   "cell_type": "code",
   "execution_count": null,
   "id": "aa8c88e1-1ae6-492c-9923-e165a0da1fd9",
   "metadata": {},
   "outputs": [],
   "source": [
    "starttime = obspy.UTCDateTime('2019-05-21T07:44:43.613000Z') - 0.25\n",
    "endtime = starttime + 0.75\n",
    "\n",
    "event1 = data.copy().trim(starttime=starttime, endtime=endtime)\n",
    "\n",
    "# aics = [trigger.aic_simple(tr.data) for tr in event1]\n",
    "aic_t, aics = aic_pick(event1)\n",
    "\n",
    "# x = event1.plot()\n",
    "fig, axes = plotting.plot_waveforms(event1, color='black')\n",
    "\n",
    "for n, ax in enumerate(axes):\n",
    "    ax2 = ax.twinx()\n",
    "    t = event1[n].times('matplotlib')\n",
    "    aic = aics[n]\n",
    "    ax2.plot(t, aic, color='red')\n",
    "    ax.plot((aic_t[n], aic_t[n]), (-2000, 2000), color='dodgerblue')\n",
    "    \n",
    "t_A = num2date(aic_t[2])\n",
    "t_B = num2date(aic_t[3])\n",
    "dt = (t_A - t_B).total_seconds()\n",
    "v_TAB = 1600\n",
    "dz_A = 35 + (1/2) * v_TAB * dt\n",
    "dz_B = 70 - dz_A\n",
    "print('arrival depth A:', dz_A)\n",
    "print('estimated depth (meters):', 170 + dz_A)"
   ]
  },
  {
   "cell_type": "code",
   "execution_count": null,
   "id": "653c9912-8a3c-4321-9424-acdabd1d9e49",
   "metadata": {},
   "outputs": [],
   "source": [
    "starttime = obspy.UTCDateTime('2019-05-21T07:44:06.043000Z') - 0.15\n",
    "endtime = starttime + 0.5\n",
    "\n",
    "event2 = data.copy().trim(starttime=starttime, endtime=endtime)\n",
    "\n",
    "# aics = [trigger.aic_simple(tr.data) for tr in event1]\n",
    "aic_t, aics = aic_pick(event2)\n",
    "\n",
    "# x = event1.plot()\n",
    "fig, axes = plotting.plot_waveforms(event2, color='black')\n",
    "\n",
    "for n, ax in enumerate(axes):\n",
    "    ax2 = ax.twinx()\n",
    "    t = event2[n].times('matplotlib')\n",
    "    aic = aics[n]\n",
    "    ax2.plot(t, aic, color='red')\n",
    "    # ax.plot((aic_t[n], aic_t[n]), (-2000, 2000), color='dodgerblue')\n",
    "    # ax2.set_ylim(3000, 6000)\n",
    "    \n",
    "t_A = num2date(aic_t[2])\n",
    "t_B = num2date(aic_t[3])\n",
    "dt = (t_A - t_B).total_seconds()\n",
    "v_TAB = 1600\n",
    "dz_A = 35 + (1/2) * v_TAB * dt\n",
    "dz_B = 70 - dz_A\n",
    "print('arrival depth A:', dz_A)\n",
    "print('estimated depth (meters):', 170 + dz_A)"
   ]
  },
  {
   "cell_type": "code",
   "execution_count": null,
   "id": "33826faa-da2a-4d9f-9206-f3f2c2a7d1b4",
   "metadata": {},
   "outputs": [],
   "source": [
    "starttime = obspy.UTCDateTime('2019-05-21T07:38:59.981000Z') - 0.15\n",
    "endtime = starttime + 0.5\n",
    "\n",
    "event2 = data.copy().trim(starttime=starttime, endtime=endtime)\n",
    "\n",
    "# aics = [trigger.aic_simple(tr.data) for tr in event1]\n",
    "aic_t, aics = aic_pick(event2)\n",
    "\n",
    "# x = event1.plot()\n",
    "fig, axes = plotting.plot_waveforms(event2, color='black')\n",
    "\n",
    "for n, ax in enumerate(axes):\n",
    "    ax2 = ax.twinx()\n",
    "    t = event2[n].times('matplotlib')\n",
    "    aic = aics[n]\n",
    "    ax2.plot(t, aic, color='red')\n",
    "    # ax.plot((aic_t[n], aic_t[n]), (-2000, 2000), color='dodgerblue')\n",
    "    # ax2.set_ylim(3000, 6000)\n",
    "    \n",
    "t_A = num2date(aic_t[2])\n",
    "t_B = num2date(aic_t[3])\n",
    "dt = (t_A - t_B).total_seconds()\n",
    "v_TAB = 1600\n",
    "dz_A = 35 + (1/2) * v_TAB * dt\n",
    "dz_B = 70 - dz_A\n",
    "print('arrival depth A:', dz_A)\n",
    "print('estimated depth (meters):', 170 + dz_A)"
   ]
  },
  {
   "cell_type": "code",
   "execution_count": null,
   "id": "4872898b-1337-4470-b319-ef5e35d4996d",
   "metadata": {},
   "outputs": [],
   "source": []
  }
 ],
 "metadata": {
  "kernelspec": {
   "display_name": "Python [conda env:borehole] *",
   "language": "python",
   "name": "conda-env-borehole-py"
  },
  "language_info": {
   "codemirror_mode": {
    "name": "ipython",
    "version": 3
   },
   "file_extension": ".py",
   "mimetype": "text/x-python",
   "name": "python",
   "nbconvert_exporter": "python",
   "pygments_lexer": "ipython3",
   "version": "3.8.12"
  }
 },
 "nbformat": 4,
 "nbformat_minor": 5
}
