{
 "cells": [
  {
   "cell_type": "code",
   "execution_count": 1,
   "id": "b4f3e41b-ab58-4abb-b666-51c315eef1ac",
   "metadata": {},
   "outputs": [],
   "source": [
    "%matplotlib inline\n",
    "import matplotlib.pyplot as plt\n",
    "import numpy as np\n",
    "import pandas as pd\n",
    "import matplotlib.dates as dates\n",
    "import obspy\n",
    "from hydrophone_data_processing import load, useful_variables, plotting, signal_processing\n",
    "import event_detector_pipeline as edp"
   ]
  },
  {
   "cell_type": "code",
   "execution_count": 17,
   "id": "8e468055-28e3-4f9b-bb62-955885fd8b85",
   "metadata": {},
   "outputs": [],
   "source": [
    "def get_data(year, day):\n",
    "    paths = useful_variables.make_hydrophone_data_paths(borehole='a', year=year, julian_day=day)\n",
    "    waveforms = load.import_corrected_data_for_single_day(paths=paths)\n",
    "    return waveforms\n",
    "\n",
    "def plot_day(waveforms, year, day):\n",
    "    fig, ax = plt.subplots(6, 1, figsize=(15, 15), sharex=True, sharey=True)\n",
    "    for n, tr in enumerate(waveforms):\n",
    "        ax[n].plot(tr.times('matplotlib'), tr.data, color='black', linewidth=0.5)\n",
    "    ax[n].set_ylim(-10, 10)\n",
    "    ax[n].xaxis.set_major_formatter(plotting.PrecisionDateFormatter(\"%H:%M:%S.{ms}\"))\n",
    "    ax[0].set_title('year:{y} day:{d}'.format(y=year, d=day), fontsize=15)\n",
    "    fig.tight_layout()\n",
    "    fig.savefig('everyday/{y}.{d}.pdf'.format(y=year, d=day), bbox_inches='tight')\n",
    "    plt.close()"
   ]
  },
  {
   "cell_type": "code",
   "execution_count": 18,
   "id": "155517ba-5471-41ab-a597-0ddec28d17b9",
   "metadata": {},
   "outputs": [],
   "source": [
    "# year = 2019\n",
    "# day = 142\n",
    "# waveforms = get_data(year=year, day=day)\n",
    "# plot_day(waveforms=waveforms, year=year, day=day)"
   ]
  },
  {
   "cell_type": "code",
   "execution_count": null,
   "id": "8e3018fd-6653-4e94-8189-3534dbef8d40",
   "metadata": {},
   "outputs": [],
   "source": [
    "for year in (2019, 2020):\n",
    "    for day in np.arange(1, 366, 1):\n",
    "        try:\n",
    "            waveforms = get_data(year=year, day=day)\n",
    "            plot_day(waveforms=waveforms, year=year, day=day)\n",
    "            del waveforms\n",
    "        except:\n",
    "            if year == 2019:\n",
    "                pass\n",
    "            elif year == 2020 and day < 90:\n",
    "                pass\n",
    "            else:\n",
    "                break"
   ]
  },
  {
   "cell_type": "code",
   "execution_count": null,
   "id": "c4f9e046-8375-472a-b767-05b083d45629",
   "metadata": {},
   "outputs": [],
   "source": [
    "paths = useful_variables.make_hydrophone_data_paths(borehole='a', year=2019, julian_day=141)\n",
    "waveforms = load.import_corrected_data_for_single_day(paths=paths)\n",
    "swarm_starttime = obspy.UTCDateTime('2019-05-21T07:30:00')\n",
    "swarm_endtime = obspy.UTCDateTime('2019-05-21T08:38:30')\n",
    "waveforms = waveforms.trim(starttime=swarm_starttime, endtime=swarm_endtime)"
   ]
  }
 ],
 "metadata": {
  "kernelspec": {
   "display_name": "Python [conda env:borehole] *",
   "language": "python",
   "name": "conda-env-borehole-py"
  },
  "language_info": {
   "codemirror_mode": {
    "name": "ipython",
    "version": 3
   },
   "file_extension": ".py",
   "mimetype": "text/x-python",
   "name": "python",
   "nbconvert_exporter": "python",
   "pygments_lexer": "ipython3",
   "version": "3.8.12"
  }
 },
 "nbformat": 4,
 "nbformat_minor": 5
}
