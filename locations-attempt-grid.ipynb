{
 "cells": [
  {
   "cell_type": "code",
   "execution_count": 1,
   "id": "dac7e9a8-3854-433e-bcd4-b6accf8c8bfb",
   "metadata": {},
   "outputs": [],
   "source": [
    "%matplotlib inline\n",
    "import numpy as np\n",
    "import pandas as pd\n",
    "import matplotlib.pyplot as plt\n",
    "from grid import Grid"
   ]
  },
  {
   "cell_type": "code",
   "execution_count": 2,
   "id": "ba6b98a5-f831-41b8-b20b-899a8c2333c6",
   "metadata": {},
   "outputs": [
    {
     "name": "stdout",
     "output_type": "stream",
     "text": [
      "using provided velocity model.\n"
     ]
    }
   ],
   "source": [
    "g = Grid(radius=50, gridscale=1, velocity_model=6000, depth=400)"
   ]
  },
  {
   "cell_type": "code",
   "execution_count": 3,
   "id": "263957c0-92c1-46d3-a8bd-3bcf413203e4",
   "metadata": {},
   "outputs": [
    {
     "data": {
      "text/plain": [
       "[318.07, 318.019, 318.044, 318.086]"
      ]
     },
     "execution_count": 3,
     "metadata": {},
     "output_type": "execute_result"
    }
   ],
   "source": [
    "event_time = pd.to_datetime('2019-05-21 08:05:17.933')\n",
    "\n",
    "true_arrivals = [0.137, 0.086, 0.111, 0.153]\n",
    "\n",
    "event_times = []\n",
    "for t in true_arrivals:\n",
    "    et = event_time - event_time.floor('H') + pd.Timedelta(t*1e9)\n",
    "    event_times.append(et.seconds + et.microseconds*1e-6)\n",
    "    \n",
    "# event_time - event_time.floor('H') + pd.Timedelta(0.137e9)\n",
    "# event_times[0].seconds + event_times[0].microseconds*1e-6\n",
    "event_times"
   ]
  },
  {
   "cell_type": "code",
   "execution_count": 5,
   "id": "531151bb-85fb-451c-a421-34a1645f7165",
   "metadata": {},
   "outputs": [
    {
     "data": {
      "text/plain": [
       "array([[ 58.30951895,  57.45432969,  56.60388679, ...,  55.75840744,\n",
       "         56.60388679,  57.45432969],\n",
       "       [ 57.80138407,  56.93856338,  56.08029957, ...,  55.22680509,\n",
       "         56.08029957,  56.93856338],\n",
       "       [ 57.30619513,  56.43580424,  55.56977596, ...,  54.70831747,\n",
       "         55.56977596,  56.43580424],\n",
       "       ...,\n",
       "       [370.39033465, 370.25666773, 370.12565434, ..., 369.99729729,\n",
       "        370.12565434, 370.25666773],\n",
       "       [371.38120577, 371.24789562, 371.11723215, ..., 370.98921817,\n",
       "        371.11723215, 371.24789562],\n",
       "       [372.3721257 , 372.23917043, 372.10885504, ..., 371.98118232,\n",
       "        372.10885504, 372.23917043]])"
      ]
     },
     "execution_count": 5,
     "metadata": {},
     "output_type": "execute_result"
    }
   ],
   "source": [
    "g.get_grid_midslice(grid=g.dr['h1'])"
   ]
  }
 ],
 "metadata": {
  "kernelspec": {
   "display_name": "Python [conda env:borehole] *",
   "language": "python",
   "name": "conda-env-borehole-py"
  },
  "language_info": {
   "codemirror_mode": {
    "name": "ipython",
    "version": 3
   },
   "file_extension": ".py",
   "mimetype": "text/x-python",
   "name": "python",
   "nbconvert_exporter": "python",
   "pygments_lexer": "ipython3",
   "version": "3.8.12"
  }
 },
 "nbformat": 4,
 "nbformat_minor": 5
}
