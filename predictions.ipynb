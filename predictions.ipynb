{
 "cells": [
  {
   "cell_type": "code",
   "execution_count": 2,
   "id": "5079d7de-df7e-455a-94cd-bf739277e836",
   "metadata": {},
   "outputs": [],
   "source": [
    "%matplotlib inline\n",
    "import catboost as cb\n",
    "import numpy as np\n",
    "import pandas as pd\n",
    "import matplotlib.pyplot as plt\n",
    "from sklearn.metrics import mean_squared_error, r2_score\n",
    "from sklearn.model_selection import train_test_split\n",
    "# import catboost as cb\n",
    "# import numpy as np\n",
    "# import matplotlib.pyplot as plt\n",
    "from sklearn.metrics import mean_squared_error, mean_absolute_error, r2_score\n",
    "from catboost import Pool"
   ]
  },
  {
   "cell_type": "code",
   "execution_count": 3,
   "id": "24293d5b-5161-41bc-9bc0-74383104d202",
   "metadata": {},
   "outputs": [],
   "source": [
    "# !pip install catboost"
   ]
  },
  {
   "cell_type": "code",
   "execution_count": 4,
   "id": "b6542aff-139f-478e-a82f-4d959f9b17d0",
   "metadata": {},
   "outputs": [],
   "source": [
    "hp_df = pd.read_csv('BA1hydro_HeatpulseFM_7MAY_run9_pass1_picktime_and_flow_values.txt',skiprows=1)"
   ]
  },
  {
   "cell_type": "code",
   "execution_count": 5,
   "id": "49090ede-916b-46ea-99e8-4a661a26fa96",
   "metadata": {},
   "outputs": [
    {
     "data": {
      "image/png": "[encoded data removed]",
      "text/plain": [
       "<Figure size 432x288 with 1 Axes>"
      ]
     },
     "metadata": {
      "needs_background": "light"
     },
     "output_type": "display_data"
    }
   ],
   "source": [
    "ax=hp_df.set_index('m')['Gal./min.'].plot()"
   ]
  },
  {
   "cell_type": "code",
   "execution_count": 6,
   "id": "3e4e0c7f-7fa8-485b-a8ba-175a8a3858a6",
   "metadata": {},
   "outputs": [
    {
     "data": {
      "text/plain": [
       "<AxesSubplot:xlabel='m'>"
      ]
     },
     "execution_count": 6,
     "metadata": {},
     "output_type": "execute_result"
    },
    {
     "data": {
      "image/png": "[encoded data removed]",
      "text/plain": [
       "<Figure size 432x288 with 1 Axes>"
      ]
     },
     "metadata": {
      "needs_background": "light"
     },
     "output_type": "display_data"
    }
   ],
   "source": [
    "gb = hp_df.groupby('m')\n",
    "gb.mean()['Gal./min.'].plot()"
   ]
  },
  {
   "cell_type": "code",
   "execution_count": 7,
   "id": "0b3b20e6-3825-4793-b7ad-76189cdb48ef",
   "metadata": {},
   "outputs": [
    {
     "data": {
      "text/html": [
       "<div>\n",
       "<style scoped>\n",
       "    .dataframe tbody tr th:only-of-type {\n",
       "        vertical-align: middle;\n",
       "    }\n",
       "\n",
       "    .dataframe tbody tr th {\n",
       "        vertical-align: top;\n",
       "    }\n",
       "\n",
       "    .dataframe thead th {\n",
       "        text-align: right;\n",
       "    }\n",
       "</style>\n",
       "<table border=\"1\" class=\"dataframe\">\n",
       "  <thead>\n",
       "    <tr style=\"text-align: right;\">\n",
       "      <th></th>\n",
       "      <th>depth</th>\n",
       "      <th>s</th>\n",
       "      <th>flowrate</th>\n",
       "    </tr>\n",
       "  </thead>\n",
       "  <tbody>\n",
       "    <tr>\n",
       "      <th>0</th>\n",
       "      <td>1.13538</td>\n",
       "      <td>0.95000</td>\n",
       "      <td>0.490107</td>\n",
       "    </tr>\n",
       "    <tr>\n",
       "      <th>1</th>\n",
       "      <td>25.99140</td>\n",
       "      <td>34.57500</td>\n",
       "      <td>-0.009195</td>\n",
       "    </tr>\n",
       "    <tr>\n",
       "      <th>2</th>\n",
       "      <td>25.99180</td>\n",
       "      <td>45.94750</td>\n",
       "      <td>-0.006870</td>\n",
       "    </tr>\n",
       "    <tr>\n",
       "      <th>3</th>\n",
       "      <td>26.51580</td>\n",
       "      <td>33.20000</td>\n",
       "      <td>0.007283</td>\n",
       "    </tr>\n",
       "    <tr>\n",
       "      <th>4</th>\n",
       "      <td>26.99530</td>\n",
       "      <td>26.95000</td>\n",
       "      <td>0.009035</td>\n",
       "    </tr>\n",
       "    <tr>\n",
       "      <th>...</th>\n",
       "      <td>...</td>\n",
       "      <td>...</td>\n",
       "      <td>...</td>\n",
       "    </tr>\n",
       "    <tr>\n",
       "      <th>75</th>\n",
       "      <td>394.00300</td>\n",
       "      <td>0.30000</td>\n",
       "      <td>0.127810</td>\n",
       "    </tr>\n",
       "    <tr>\n",
       "      <th>76</th>\n",
       "      <td>396.00100</td>\n",
       "      <td>28.81744</td>\n",
       "      <td>0.008743</td>\n",
       "    </tr>\n",
       "    <tr>\n",
       "      <th>77</th>\n",
       "      <td>398.00100</td>\n",
       "      <td>25.70000</td>\n",
       "      <td>0.009754</td>\n",
       "    </tr>\n",
       "    <tr>\n",
       "      <th>78</th>\n",
       "      <td>400.00000</td>\n",
       "      <td>27.65000</td>\n",
       "      <td>0.008793</td>\n",
       "    </tr>\n",
       "    <tr>\n",
       "      <th>79</th>\n",
       "      <td>400.00100</td>\n",
       "      <td>25.91250</td>\n",
       "      <td>0.009487</td>\n",
       "    </tr>\n",
       "  </tbody>\n",
       "</table>\n",
       "<p>80 rows × 3 columns</p>\n",
       "</div>"
      ],
      "text/plain": [
       "        depth         s  flowrate\n",
       "0     1.13538   0.95000  0.490107\n",
       "1    25.99140  34.57500 -0.009195\n",
       "2    25.99180  45.94750 -0.006870\n",
       "3    26.51580  33.20000  0.007283\n",
       "4    26.99530  26.95000  0.009035\n",
       "..        ...       ...       ...\n",
       "75  394.00300   0.30000  0.127810\n",
       "76  396.00100  28.81744  0.008743\n",
       "77  398.00100  25.70000  0.009754\n",
       "78  400.00000  27.65000  0.008793\n",
       "79  400.00100  25.91250  0.009487\n",
       "\n",
       "[80 rows x 3 columns]"
      ]
     },
     "execution_count": 7,
     "metadata": {},
     "output_type": "execute_result"
    }
   ],
   "source": [
    "flows = gb.mean().reset_index()\n",
    "flows.columns = ['depth', 's', 'flowrate'] # Gallons/minute\n",
    "flows"
   ]
  },
  {
   "cell_type": "code",
   "execution_count": 8,
   "id": "f6803b23-e704-4516-a86e-b4f4079852b9",
   "metadata": {},
   "outputs": [
    {
     "data": {
      "text/html": [
       "<div>\n",
       "<style scoped>\n",
       "    .dataframe tbody tr th:only-of-type {\n",
       "        vertical-align: middle;\n",
       "    }\n",
       "\n",
       "    .dataframe tbody tr th {\n",
       "        vertical-align: top;\n",
       "    }\n",
       "\n",
       "    .dataframe thead th {\n",
       "        text-align: right;\n",
       "    }\n",
       "</style>\n",
       "<table border=\"1\" class=\"dataframe\">\n",
       "  <thead>\n",
       "    <tr style=\"text-align: right;\">\n",
       "      <th></th>\n",
       "      <th>TOP_DEPTH</th>\n",
       "      <th>LAG_DEPTH</th>\n",
       "      <th>UNIT_CLASS</th>\n",
       "      <th>MUD_TYPE</th>\n",
       "      <th>UNIT_DESC3_1</th>\n",
       "      <th>UNIT_DESC3_3</th>\n",
       "      <th>UNIT_DESC3_4</th>\n",
       "      <th>REMARKS_1</th>\n",
       "      <th>REMARKS_2</th>\n",
       "      <th>REMARKS_3</th>\n",
       "      <th>...</th>\n",
       "      <th>UNIT_DESC4_2_Cutting Rock Type: Gabbro::Cutting Minerals: Serpentine</th>\n",
       "      <th>UNIT_DESC4_2_Cutting Rock Type: Harzburgite</th>\n",
       "      <th>UNIT_DESC4_2_Cutting Rock Type: Harzburgite::Cutting Minerals: Carbonate</th>\n",
       "      <th>UNIT_DESC4_2_Cutting Rock Type: Harzburgite::Cutting Minerals: Carbonate; Orthopyroxene; Serpentine</th>\n",
       "      <th>UNIT_DESC4_2_Cutting Rock Type: Harzburgite::Cutting Minerals: Carbonate; Serpentine</th>\n",
       "      <th>UNIT_DESC4_2_Cutting Rock Type: Harzburgite::Cutting Minerals: Orthopyroxene</th>\n",
       "      <th>UNIT_DESC4_2_Cutting Rock Type: Harzburgite::Cutting Minerals: Serpentine</th>\n",
       "      <th>UNIT_DESC4_2_Cutting Rock Type: Harzburgite; Alluvium::Cutting Minerals: Serpentine</th>\n",
       "      <th>UNIT_DESC4_2_Cutting Rock Type: Harzburgite; Serpentinite::</th>\n",
       "      <th>UNIT_DESC4_2_Cutting Rock Type: Serpentinite</th>\n",
       "    </tr>\n",
       "  </thead>\n",
       "  <tbody>\n",
       "    <tr>\n",
       "      <th>0</th>\n",
       "      <td>0</td>\n",
       "      <td>15</td>\n",
       "      <td>OPHIO</td>\n",
       "      <td>CU</td>\n",
       "      <td>Cutting Rock Type: Harzburgite::</td>\n",
       "      <td>NaN</td>\n",
       "      <td>NaN</td>\n",
       "      <td>NN</td>\n",
       "      <td>NN</td>\n",
       "      <td>NN</td>\n",
       "      <td>...</td>\n",
       "      <td>0</td>\n",
       "      <td>0</td>\n",
       "      <td>0</td>\n",
       "      <td>0</td>\n",
       "      <td>0</td>\n",
       "      <td>0</td>\n",
       "      <td>0</td>\n",
       "      <td>0</td>\n",
       "      <td>0</td>\n",
       "      <td>0</td>\n",
       "    </tr>\n",
       "    <tr>\n",
       "      <th>1</th>\n",
       "      <td>15</td>\n",
       "      <td>16</td>\n",
       "      <td>OPHIO</td>\n",
       "      <td>CU</td>\n",
       "      <td>Cutting Rock Type: Harzburgite; Alluvium::</td>\n",
       "      <td>NaN</td>\n",
       "      <td>NaN</td>\n",
       "      <td>NN</td>\n",
       "      <td>NN</td>\n",
       "      <td>NN</td>\n",
       "      <td>...</td>\n",
       "      <td>0</td>\n",
       "      <td>0</td>\n",
       "      <td>0</td>\n",
       "      <td>0</td>\n",
       "      <td>0</td>\n",
       "      <td>0</td>\n",
       "      <td>0</td>\n",
       "      <td>0</td>\n",
       "      <td>0</td>\n",
       "      <td>0</td>\n",
       "    </tr>\n",
       "    <tr>\n",
       "      <th>2</th>\n",
       "      <td>16</td>\n",
       "      <td>17</td>\n",
       "      <td>OPHIO</td>\n",
       "      <td>CU</td>\n",
       "      <td>Cutting Rock Type: Harzburgite; Alluvium::</td>\n",
       "      <td>NaN</td>\n",
       "      <td>NaN</td>\n",
       "      <td>Dominantly partially serpentinized Harzburgite</td>\n",
       "      <td>NN</td>\n",
       "      <td>NN</td>\n",
       "      <td>...</td>\n",
       "      <td>0</td>\n",
       "      <td>0</td>\n",
       "      <td>0</td>\n",
       "      <td>0</td>\n",
       "      <td>0</td>\n",
       "      <td>0</td>\n",
       "      <td>0</td>\n",
       "      <td>0</td>\n",
       "      <td>0</td>\n",
       "      <td>0</td>\n",
       "    </tr>\n",
       "    <tr>\n",
       "      <th>3</th>\n",
       "      <td>17</td>\n",
       "      <td>18</td>\n",
       "      <td>OPHIO</td>\n",
       "      <td>CU</td>\n",
       "      <td>Cutting Rock Type: Harzburgite; Alluvium::</td>\n",
       "      <td>NaN</td>\n",
       "      <td>NaN</td>\n",
       "      <td>Dominantly paratially serpentinized harzburgite</td>\n",
       "      <td>NN</td>\n",
       "      <td>NN</td>\n",
       "      <td>...</td>\n",
       "      <td>0</td>\n",
       "      <td>0</td>\n",
       "      <td>0</td>\n",
       "      <td>0</td>\n",
       "      <td>0</td>\n",
       "      <td>0</td>\n",
       "      <td>0</td>\n",
       "      <td>0</td>\n",
       "      <td>0</td>\n",
       "      <td>0</td>\n",
       "    </tr>\n",
       "    <tr>\n",
       "      <th>4</th>\n",
       "      <td>18</td>\n",
       "      <td>19</td>\n",
       "      <td>OPHIO</td>\n",
       "      <td>CU</td>\n",
       "      <td>Cutting Rock Type: Harzburgite</td>\n",
       "      <td>Cutting Minerals: Serpentine</td>\n",
       "      <td>NaN</td>\n",
       "      <td>NN</td>\n",
       "      <td>NN</td>\n",
       "      <td>serpentine veins</td>\n",
       "      <td>...</td>\n",
       "      <td>0</td>\n",
       "      <td>0</td>\n",
       "      <td>0</td>\n",
       "      <td>0</td>\n",
       "      <td>0</td>\n",
       "      <td>0</td>\n",
       "      <td>0</td>\n",
       "      <td>0</td>\n",
       "      <td>0</td>\n",
       "      <td>0</td>\n",
       "    </tr>\n",
       "  </tbody>\n",
       "</table>\n",
       "<p>5 rows × 48 columns</p>\n",
       "</div>"
      ],
      "text/plain": [
       "   TOP_DEPTH  LAG_DEPTH UNIT_CLASS MUD_TYPE  \\\n",
       "0          0         15      OPHIO       CU   \n",
       "1         15         16      OPHIO       CU   \n",
       "2         16         17      OPHIO       CU   \n",
       "3         17         18      OPHIO       CU   \n",
       "4         18         19      OPHIO       CU   \n",
       "\n",
       "                                 UNIT_DESC3_1                  UNIT_DESC3_3  \\\n",
       "0            Cutting Rock Type: Harzburgite::                           NaN   \n",
       "1  Cutting Rock Type: Harzburgite; Alluvium::                           NaN   \n",
       "2  Cutting Rock Type: Harzburgite; Alluvium::                           NaN   \n",
       "3  Cutting Rock Type: Harzburgite; Alluvium::                           NaN   \n",
       "4              Cutting Rock Type: Harzburgite  Cutting Minerals: Serpentine   \n",
       "\n",
       "  UNIT_DESC3_4                                        REMARKS_1 REMARKS_2  \\\n",
       "0          NaN                                               NN        NN   \n",
       "1          NaN                                               NN        NN   \n",
       "2          NaN   Dominantly partially serpentinized Harzburgite        NN   \n",
       "3          NaN  Dominantly paratially serpentinized harzburgite        NN   \n",
       "4          NaN                                               NN        NN   \n",
       "\n",
       "          REMARKS_3  ...  \\\n",
       "0                NN  ...   \n",
       "1                NN  ...   \n",
       "2                NN  ...   \n",
       "3                NN  ...   \n",
       "4  serpentine veins  ...   \n",
       "\n",
       "  UNIT_DESC4_2_Cutting Rock Type: Gabbro::Cutting Minerals: Serpentine  \\\n",
       "0                                                  0                     \n",
       "1                                                  0                     \n",
       "2                                                  0                     \n",
       "3                                                  0                     \n",
       "4                                                  0                     \n",
       "\n",
       "  UNIT_DESC4_2_Cutting Rock Type: Harzburgite  \\\n",
       "0                                           0   \n",
       "1                                           0   \n",
       "2                                           0   \n",
       "3                                           0   \n",
       "4                                           0   \n",
       "\n",
       "  UNIT_DESC4_2_Cutting Rock Type: Harzburgite::Cutting Minerals: Carbonate  \\\n",
       "0                                                  0                         \n",
       "1                                                  0                         \n",
       "2                                                  0                         \n",
       "3                                                  0                         \n",
       "4                                                  0                         \n",
       "\n",
       "  UNIT_DESC4_2_Cutting Rock Type: Harzburgite::Cutting Minerals: Carbonate; Orthopyroxene; Serpentine  \\\n",
       "0                                                  0                                                    \n",
       "1                                                  0                                                    \n",
       "2                                                  0                                                    \n",
       "3                                                  0                                                    \n",
       "4                                                  0                                                    \n",
       "\n",
       "  UNIT_DESC4_2_Cutting Rock Type: Harzburgite::Cutting Minerals: Carbonate; Serpentine  \\\n",
       "0                                                  0                                     \n",
       "1                                                  0                                     \n",
       "2                                                  0                                     \n",
       "3                                                  0                                     \n",
       "4                                                  0                                     \n",
       "\n",
       "  UNIT_DESC4_2_Cutting Rock Type: Harzburgite::Cutting Minerals: Orthopyroxene  \\\n",
       "0                                                  0                             \n",
       "1                                                  0                             \n",
       "2                                                  0                             \n",
       "3                                                  0                             \n",
       "4                                                  0                             \n",
       "\n",
       "   UNIT_DESC4_2_Cutting Rock Type: Harzburgite::Cutting Minerals: Serpentine  \\\n",
       "0                                                  0                           \n",
       "1                                                  0                           \n",
       "2                                                  0                           \n",
       "3                                                  0                           \n",
       "4                                                  0                           \n",
       "\n",
       "   UNIT_DESC4_2_Cutting Rock Type: Harzburgite; Alluvium::Cutting Minerals: Serpentine  \\\n",
       "0                                                  0                                     \n",
       "1                                                  0                                     \n",
       "2                                                  0                                     \n",
       "3                                                  0                                     \n",
       "4                                                  0                                     \n",
       "\n",
       "   UNIT_DESC4_2_Cutting Rock Type: Harzburgite; Serpentinite::  \\\n",
       "0                                                  0             \n",
       "1                                                  0             \n",
       "2                                                  0             \n",
       "3                                                  0             \n",
       "4                                                  0             \n",
       "\n",
       "   UNIT_DESC4_2_Cutting Rock Type: Serpentinite  \n",
       "0                                             0  \n",
       "1                                             0  \n",
       "2                                             0  \n",
       "3                                             0  \n",
       "4                                             0  \n",
       "\n",
       "[5 rows x 48 columns]"
      ]
     },
     "execution_count": 8,
     "metadata": {},
     "output_type": "execute_result"
    }
   ],
   "source": [
    "lithdf = pd.read_excel('Dataset_BA1A.xlsx')\n",
    "lithdf.head()"
   ]
  },
  {
   "cell_type": "code",
   "execution_count": 9,
   "id": "59cda8d8-f15a-487f-96b5-7825d16579d9",
   "metadata": {},
   "outputs": [
    {
     "name": "stderr",
     "output_type": "stream",
     "text": [
      "/tmp/ipykernel_9914/927888300.py:2: FutureWarning: Dropping of nuisance columns in DataFrame reductions (with 'numeric_only=None') is deprecated; in a future version this will raise TypeError.  Select only valid columns before calling the reduction.\n",
      "  lithdf.sum()\n"
     ]
    },
    {
     "data": {
      "text/plain": [
       "'UNIT_DESC4_2_Cutting Minerals: Serpentine'"
      ]
     },
     "execution_count": 9,
     "metadata": {},
     "output_type": "execute_result"
    }
   ],
   "source": [
    "# lithdf.sum(axis=0)\n",
    "lithdf.sum()\n",
    "'UNIT_DESC4_2_Cutting Minerals: Serpentine'"
   ]
  },
  {
   "cell_type": "code",
   "execution_count": 10,
   "id": "0d066d26-26dd-42f4-9b73-a6600df12ce5",
   "metadata": {},
   "outputs": [
    {
     "data": {
      "text/html": [
       "<div>\n",
       "<style scoped>\n",
       "    .dataframe tbody tr th:only-of-type {\n",
       "        vertical-align: middle;\n",
       "    }\n",
       "\n",
       "    .dataframe tbody tr th {\n",
       "        vertical-align: top;\n",
       "    }\n",
       "\n",
       "    .dataframe thead th {\n",
       "        text-align: right;\n",
       "    }\n",
       "</style>\n",
       "<table border=\"1\" class=\"dataframe\">\n",
       "  <thead>\n",
       "    <tr style=\"text-align: right;\">\n",
       "      <th></th>\n",
       "      <th>tn-1</th>\n",
       "      <th>tn+1</th>\n",
       "      <th>depth</th>\n",
       "      <th>maxamp</th>\n",
       "      <th>swarm_n</th>\n",
       "      <th>cummaxamp</th>\n",
       "      <th>cumtime</th>\n",
       "      <th>depthdiff</th>\n",
       "      <th>flowrate</th>\n",
       "      <th>serpentine</th>\n",
       "    </tr>\n",
       "  </thead>\n",
       "  <tbody>\n",
       "    <tr>\n",
       "      <th>count</th>\n",
       "      <td>4410.000000</td>\n",
       "      <td>4410.000000</td>\n",
       "      <td>4410.000000</td>\n",
       "      <td>4410.000000</td>\n",
       "      <td>4410.000000</td>\n",
       "      <td>4410.000000</td>\n",
       "      <td>4410.000000</td>\n",
       "      <td>4410.000000</td>\n",
       "      <td>4410.000000</td>\n",
       "      <td>4410.000000</td>\n",
       "    </tr>\n",
       "    <tr>\n",
       "      <th>mean</th>\n",
       "      <td>3.570652</td>\n",
       "      <td>3.653415</td>\n",
       "      <td>272.044471</td>\n",
       "      <td>4.935448</td>\n",
       "      <td>1.810204</td>\n",
       "      <td>2735.157635</td>\n",
       "      <td>2382.917145</td>\n",
       "      <td>0.262103</td>\n",
       "      <td>-0.175556</td>\n",
       "      <td>0.957143</td>\n",
       "    </tr>\n",
       "    <tr>\n",
       "      <th>std</th>\n",
       "      <td>16.684277</td>\n",
       "      <td>18.344548</td>\n",
       "      <td>63.167373</td>\n",
       "      <td>17.998357</td>\n",
       "      <td>0.872729</td>\n",
       "      <td>2034.006030</td>\n",
       "      <td>1200.067236</td>\n",
       "      <td>33.082060</td>\n",
       "      <td>0.322068</td>\n",
       "      <td>0.202558</td>\n",
       "    </tr>\n",
       "    <tr>\n",
       "      <th>min</th>\n",
       "      <td>0.000001</td>\n",
       "      <td>0.000001</td>\n",
       "      <td>103.500000</td>\n",
       "      <td>0.101230</td>\n",
       "      <td>1.000000</td>\n",
       "      <td>0.259065</td>\n",
       "      <td>8.738000</td>\n",
       "      <td>-280.875000</td>\n",
       "      <td>-0.748852</td>\n",
       "      <td>0.000000</td>\n",
       "    </tr>\n",
       "    <tr>\n",
       "      <th>25%</th>\n",
       "      <td>0.446000</td>\n",
       "      <td>0.446000</td>\n",
       "      <td>219.000000</td>\n",
       "      <td>0.594587</td>\n",
       "      <td>1.000000</td>\n",
       "      <td>1085.649657</td>\n",
       "      <td>1512.761250</td>\n",
       "      <td>-0.875000</td>\n",
       "      <td>0.004457</td>\n",
       "      <td>1.000000</td>\n",
       "    </tr>\n",
       "    <tr>\n",
       "      <th>50%</th>\n",
       "      <td>0.663000</td>\n",
       "      <td>0.660999</td>\n",
       "      <td>267.125000</td>\n",
       "      <td>1.330682</td>\n",
       "      <td>2.000000</td>\n",
       "      <td>2203.662213</td>\n",
       "      <td>2445.800000</td>\n",
       "      <td>0.000000</td>\n",
       "      <td>0.008486</td>\n",
       "      <td>1.000000</td>\n",
       "    </tr>\n",
       "    <tr>\n",
       "      <th>75%</th>\n",
       "      <td>1.258000</td>\n",
       "      <td>1.252500</td>\n",
       "      <td>328.156250</td>\n",
       "      <td>3.682804</td>\n",
       "      <td>2.000000</td>\n",
       "      <td>3863.624413</td>\n",
       "      <td>3198.128250</td>\n",
       "      <td>0.875000</td>\n",
       "      <td>0.010394</td>\n",
       "      <td>1.000000</td>\n",
       "    </tr>\n",
       "    <tr>\n",
       "      <th>max</th>\n",
       "      <td>579.597001</td>\n",
       "      <td>579.597001</td>\n",
       "      <td>414.125000</td>\n",
       "      <td>557.253460</td>\n",
       "      <td>4.000000</td>\n",
       "      <td>8443.321285</td>\n",
       "      <td>6094.117999</td>\n",
       "      <td>392.875000</td>\n",
       "      <td>0.011873</td>\n",
       "      <td>1.000000</td>\n",
       "    </tr>\n",
       "  </tbody>\n",
       "</table>\n",
       "</div>"
      ],
      "text/plain": [
       "              tn-1         tn+1        depth       maxamp      swarm_n  \\\n",
       "count  4410.000000  4410.000000  4410.000000  4410.000000  4410.000000   \n",
       "mean      3.570652     3.653415   272.044471     4.935448     1.810204   \n",
       "std      16.684277    18.344548    63.167373    17.998357     0.872729   \n",
       "min       0.000001     0.000001   103.500000     0.101230     1.000000   \n",
       "25%       0.446000     0.446000   219.000000     0.594587     1.000000   \n",
       "50%       0.663000     0.660999   267.125000     1.330682     2.000000   \n",
       "75%       1.258000     1.252500   328.156250     3.682804     2.000000   \n",
       "max     579.597001   579.597001   414.125000   557.253460     4.000000   \n",
       "\n",
       "         cummaxamp      cumtime    depthdiff     flowrate   serpentine  \n",
       "count  4410.000000  4410.000000  4410.000000  4410.000000  4410.000000  \n",
       "mean   2735.157635  2382.917145     0.262103    -0.175556     0.957143  \n",
       "std    2034.006030  1200.067236    33.082060     0.322068     0.202558  \n",
       "min       0.259065     8.738000  -280.875000    -0.748852     0.000000  \n",
       "25%    1085.649657  1512.761250    -0.875000     0.004457     1.000000  \n",
       "50%    2203.662213  2445.800000     0.000000     0.008486     1.000000  \n",
       "75%    3863.624413  3198.128250     0.875000     0.010394     1.000000  \n",
       "max    8443.321285  6094.117999   392.875000     0.011873     1.000000  "
      ]
     },
     "execution_count": 10,
     "metadata": {},
     "output_type": "execute_result"
    }
   ],
   "source": [
    "df = pd.read_csv('mldata.csv')\n",
    "\n",
    "# this finds the closet depth to this depth\n",
    "df['flowrate'] = df.depth.apply(lambda d: flows['flowrate'].iloc[np.abs(flows.depth.values - d).argmin()])\n",
    "\n",
    "df['serpentine'] = df.depth.apply(lambda d: lithdf['UNIT_DESC4_2_Cutting Minerals: Serpentine'].iloc[np.abs(lithdf.TOP_DEPTH - d).argmin()])\n",
    "\n",
    "df['rocktype'] = df.depth.apply(lambda d: lithdf['UNIT_DESC3_1'].iloc[np.abs(lithdf.TOP_DEPTH - d).argmin()])\n",
    "df['rocktype'] = df['rocktype'].astype('category')\n",
    "\n",
    "df = df[df.depth.between(100, 420)]\n",
    "\n",
    "df.reset_index(drop=True, inplace=True)\n",
    "\n",
    "df.sort_values('tn', inplace=True)\n",
    "\n",
    "df.describe()"
   ]
  },
  {
   "cell_type": "code",
   "execution_count": 11,
   "id": "94b46177-f5e1-403a-90a1-030cb1274956",
   "metadata": {},
   "outputs": [
    {
     "data": {
      "text/plain": [
       "<AxesSubplot:>"
      ]
     },
     "execution_count": 11,
     "metadata": {},
     "output_type": "execute_result"
    },
    {
     "data": {
      "image/png": "[encoded data removed]",
      "text/plain": [
       "<Figure size 432x288 with 1 Axes>"
      ]
     },
     "metadata": {
      "needs_background": "light"
     },
     "output_type": "display_data"
    }
   ],
   "source": [
    "df['tn+1'].hist(bins=np.linspace(0, 2.5, 100))"
   ]
  },
  {
   "cell_type": "code",
   "execution_count": 12,
   "id": "afa21856-7fee-4236-b2e9-358d775fff49",
   "metadata": {},
   "outputs": [
    {
     "data": {
      "text/html": [
       "<div>\n",
       "<style scoped>\n",
       "    .dataframe tbody tr th:only-of-type {\n",
       "        vertical-align: middle;\n",
       "    }\n",
       "\n",
       "    .dataframe tbody tr th {\n",
       "        vertical-align: top;\n",
       "    }\n",
       "\n",
       "    .dataframe thead th {\n",
       "        text-align: right;\n",
       "    }\n",
       "</style>\n",
       "<table border=\"1\" class=\"dataframe\">\n",
       "  <thead>\n",
       "    <tr style=\"text-align: right;\">\n",
       "      <th></th>\n",
       "      <th>tn-1</th>\n",
       "      <th>tn+1</th>\n",
       "      <th>depth</th>\n",
       "      <th>maxamp</th>\n",
       "      <th>swarm_n</th>\n",
       "      <th>cummaxamp</th>\n",
       "      <th>cumtime</th>\n",
       "      <th>depthdiff</th>\n",
       "      <th>flowrate</th>\n",
       "      <th>serpentine</th>\n",
       "    </tr>\n",
       "  </thead>\n",
       "  <tbody>\n",
       "    <tr>\n",
       "      <th>count</th>\n",
       "      <td>4410.000000</td>\n",
       "      <td>4410.000000</td>\n",
       "      <td>4410.000000</td>\n",
       "      <td>4410.000000</td>\n",
       "      <td>4410.000000</td>\n",
       "      <td>4410.000000</td>\n",
       "      <td>4410.000000</td>\n",
       "      <td>4410.000000</td>\n",
       "      <td>4410.000000</td>\n",
       "      <td>4410.000000</td>\n",
       "    </tr>\n",
       "    <tr>\n",
       "      <th>mean</th>\n",
       "      <td>3.570652</td>\n",
       "      <td>3.653415</td>\n",
       "      <td>272.044471</td>\n",
       "      <td>4.935448</td>\n",
       "      <td>1.810204</td>\n",
       "      <td>2735.157635</td>\n",
       "      <td>2382.917145</td>\n",
       "      <td>0.262103</td>\n",
       "      <td>-0.175556</td>\n",
       "      <td>0.957143</td>\n",
       "    </tr>\n",
       "    <tr>\n",
       "      <th>std</th>\n",
       "      <td>16.684277</td>\n",
       "      <td>18.344548</td>\n",
       "      <td>63.167373</td>\n",
       "      <td>17.998357</td>\n",
       "      <td>0.872729</td>\n",
       "      <td>2034.006030</td>\n",
       "      <td>1200.067236</td>\n",
       "      <td>33.082060</td>\n",
       "      <td>0.322068</td>\n",
       "      <td>0.202558</td>\n",
       "    </tr>\n",
       "    <tr>\n",
       "      <th>min</th>\n",
       "      <td>0.000001</td>\n",
       "      <td>0.000001</td>\n",
       "      <td>103.500000</td>\n",
       "      <td>0.101230</td>\n",
       "      <td>1.000000</td>\n",
       "      <td>0.259065</td>\n",
       "      <td>8.738000</td>\n",
       "      <td>-280.875000</td>\n",
       "      <td>-0.748852</td>\n",
       "      <td>0.000000</td>\n",
       "    </tr>\n",
       "    <tr>\n",
       "      <th>25%</th>\n",
       "      <td>0.446000</td>\n",
       "      <td>0.446000</td>\n",
       "      <td>219.000000</td>\n",
       "      <td>0.594587</td>\n",
       "      <td>1.000000</td>\n",
       "      <td>1085.649657</td>\n",
       "      <td>1512.761250</td>\n",
       "      <td>-0.875000</td>\n",
       "      <td>0.004457</td>\n",
       "      <td>1.000000</td>\n",
       "    </tr>\n",
       "    <tr>\n",
       "      <th>50%</th>\n",
       "      <td>0.663000</td>\n",
       "      <td>0.660999</td>\n",
       "      <td>267.125000</td>\n",
       "      <td>1.330682</td>\n",
       "      <td>2.000000</td>\n",
       "      <td>2203.662213</td>\n",
       "      <td>2445.800000</td>\n",
       "      <td>0.000000</td>\n",
       "      <td>0.008486</td>\n",
       "      <td>1.000000</td>\n",
       "    </tr>\n",
       "    <tr>\n",
       "      <th>75%</th>\n",
       "      <td>1.258000</td>\n",
       "      <td>1.252500</td>\n",
       "      <td>328.156250</td>\n",
       "      <td>3.682804</td>\n",
       "      <td>2.000000</td>\n",
       "      <td>3863.624413</td>\n",
       "      <td>3198.128250</td>\n",
       "      <td>0.875000</td>\n",
       "      <td>0.010394</td>\n",
       "      <td>1.000000</td>\n",
       "    </tr>\n",
       "    <tr>\n",
       "      <th>max</th>\n",
       "      <td>579.597001</td>\n",
       "      <td>579.597001</td>\n",
       "      <td>414.125000</td>\n",
       "      <td>557.253460</td>\n",
       "      <td>4.000000</td>\n",
       "      <td>8443.321285</td>\n",
       "      <td>6094.117999</td>\n",
       "      <td>392.875000</td>\n",
       "      <td>0.011873</td>\n",
       "      <td>1.000000</td>\n",
       "    </tr>\n",
       "  </tbody>\n",
       "</table>\n",
       "</div>"
      ],
      "text/plain": [
       "              tn-1         tn+1        depth       maxamp      swarm_n  \\\n",
       "count  4410.000000  4410.000000  4410.000000  4410.000000  4410.000000   \n",
       "mean      3.570652     3.653415   272.044471     4.935448     1.810204   \n",
       "std      16.684277    18.344548    63.167373    17.998357     0.872729   \n",
       "min       0.000001     0.000001   103.500000     0.101230     1.000000   \n",
       "25%       0.446000     0.446000   219.000000     0.594587     1.000000   \n",
       "50%       0.663000     0.660999   267.125000     1.330682     2.000000   \n",
       "75%       1.258000     1.252500   328.156250     3.682804     2.000000   \n",
       "max     579.597001   579.597001   414.125000   557.253460     4.000000   \n",
       "\n",
       "         cummaxamp      cumtime    depthdiff     flowrate   serpentine  \n",
       "count  4410.000000  4410.000000  4410.000000  4410.000000  4410.000000  \n",
       "mean   2735.157635  2382.917145     0.262103    -0.175556     0.957143  \n",
       "std    2034.006030  1200.067236    33.082060     0.322068     0.202558  \n",
       "min       0.259065     8.738000  -280.875000    -0.748852     0.000000  \n",
       "25%    1085.649657  1512.761250    -0.875000     0.004457     1.000000  \n",
       "50%    2203.662213  2445.800000     0.000000     0.008486     1.000000  \n",
       "75%    3863.624413  3198.128250     0.875000     0.010394     1.000000  \n",
       "max    8443.321285  6094.117999   392.875000     0.011873     1.000000  "
      ]
     },
     "execution_count": 12,
     "metadata": {},
     "output_type": "execute_result"
    }
   ],
   "source": [
    "df.describe()"
   ]
  },
  {
   "cell_type": "code",
   "execution_count": 13,
   "id": "33095f06-c79a-4a09-bd83-f0ce8c6b529f",
   "metadata": {},
   "outputs": [
    {
     "name": "stdout",
     "output_type": "stream",
     "text": [
      "max lag: 4\n"
     ]
    },
    {
     "data": {
      "text/plain": [
       "17"
      ]
     },
     "execution_count": 13,
     "metadata": {},
     "output_type": "execute_result"
    },
    {
     "data": {
      "image/png": "[encoded data removed]",
      "text/plain": [
       "<Figure size 432x288 with 1 Axes>"
      ]
     },
     "metadata": {
      "needs_background": "light"
     },
     "output_type": "display_data"
    }
   ],
   "source": [
    "acs = []\n",
    "lags = np.arange(1, 100, 1)\n",
    "for n in lags:\n",
    "    ac = df['tn-1'].autocorr(lag=n)\n",
    "    acs.append(ac)\n",
    "\n",
    "acs = np.array(acs)\n",
    "fig, ax = plt.subplots()\n",
    "ax.plot(lags, acs)\n",
    "print('max lag:',lags[np.argmax(acs)])\n",
    "np.max(np.where(acs>0.10))"
   ]
  },
  {
   "cell_type": "code",
   "execution_count": 14,
   "id": "8e54e4a7-5b26-4b3f-8bf1-6f35d3022121",
   "metadata": {},
   "outputs": [
    {
     "name": "stdout",
     "output_type": "stream",
     "text": [
      "max lag: 4\n"
     ]
    },
    {
     "data": {
      "text/plain": [
       "80"
      ]
     },
     "execution_count": 14,
     "metadata": {},
     "output_type": "execute_result"
    },
    {
     "data": {
      "image/png": "[encoded data removed]",
      "text/plain": [
       "<Figure size 432x288 with 1 Axes>"
      ]
     },
     "metadata": {
      "needs_background": "light"
     },
     "output_type": "display_data"
    }
   ],
   "source": [
    "acs = []\n",
    "lags = np.arange(1, 300, 1)\n",
    "for n in lags:\n",
    "    ac = df['maxamp'].autocorr(lag=n)\n",
    "    acs.append(ac)\n",
    "    \n",
    "acs = np.array(acs)\n",
    "fig, ax = plt.subplots()\n",
    "ax.plot(lags, acs)\n",
    "print('max lag:',lags[np.argmax(acs)])\n",
    "np.max(np.where(acs>0.20))"
   ]
  },
  {
   "cell_type": "code",
   "execution_count": 15,
   "id": "44a059b9-ae8e-4b57-b128-2d6251068b35",
   "metadata": {},
   "outputs": [
    {
     "name": "stdout",
     "output_type": "stream",
     "text": [
      "max lag: 20\n"
     ]
    },
    {
     "data": {
      "image/png": "[encoded data removed]",
      "text/plain": [
       "<Figure size 432x288 with 1 Axes>"
      ]
     },
     "metadata": {
      "needs_background": "light"
     },
     "output_type": "display_data"
    }
   ],
   "source": [
    "acs = []\n",
    "lags = np.arange(1, 100, 1)\n",
    "for n in lags:\n",
    "    ac = df['depthdiff'].autocorr(lag=n)\n",
    "    acs.append(ac)\n",
    "    \n",
    "fig, ax = plt.subplots()\n",
    "ax.plot(lags, acs)\n",
    "print('max lag:',lags[np.argmax(acs)])\n"
   ]
  },
  {
   "cell_type": "code",
   "execution_count": 16,
   "id": "40281b41-dc60-435c-84a9-2e17904dd966",
   "metadata": {},
   "outputs": [
    {
     "name": "stdout",
     "output_type": "stream",
     "text": [
      "max lag: 1\n"
     ]
    },
    {
     "data": {
      "image/png": "[encoded data removed]",
      "text/plain": [
       "<Figure size 432x288 with 1 Axes>"
      ]
     },
     "metadata": {
      "needs_background": "light"
     },
     "output_type": "display_data"
    }
   ],
   "source": [
    "acs = []\n",
    "lags = np.arange(1, 100, 1)\n",
    "for n in lags:\n",
    "    ac = df['flowrate'].autocorr(lag=n)\n",
    "    acs.append(ac)\n",
    "    \n",
    "fig, ax = plt.subplots()\n",
    "ax.plot(lags, acs)\n",
    "print('max lag:',lags[np.argmax(acs)])\n"
   ]
  },
  {
   "cell_type": "code",
   "execution_count": 17,
   "id": "833b8914-d4aa-42c2-9245-d8b6da709444",
   "metadata": {},
   "outputs": [
    {
     "name": "stdout",
     "output_type": "stream",
     "text": [
      "max lag: 1\n"
     ]
    },
    {
     "data": {
      "text/plain": [
       "294"
      ]
     },
     "execution_count": 17,
     "metadata": {},
     "output_type": "execute_result"
    },
    {
     "data": {
      "image/png": "[encoded data removed]",
      "text/plain": [
       "<Figure size 432x288 with 1 Axes>"
      ]
     },
     "metadata": {
      "needs_background": "light"
     },
     "output_type": "display_data"
    }
   ],
   "source": [
    "acs = []\n",
    "lags = np.arange(1, 300, 1)\n",
    "for n in lags:\n",
    "    ac = df['depth'].autocorr(lag=n)\n",
    "    acs.append(ac)\n",
    "    \n",
    "acs = np.array(acs)\n",
    "fig, ax = plt.subplots()\n",
    "ax.plot(lags, acs)\n",
    "print('max lag:',lags[np.argmax(acs)])\n",
    "np.max(np.where(acs>0.20))"
   ]
  },
  {
   "cell_type": "code",
   "execution_count": 18,
   "id": "700f3f73-a6c1-4c18-afcb-d84ec1584a96",
   "metadata": {},
   "outputs": [
    {
     "data": {
      "text/plain": [
       "array([0., 0., 0., 0., 0., 0., 0., 0., 0., 0., 0., 0., 0., 0., 0., 0., 0.,\n",
       "       0., 0., 0., 0., 0., 0.])"
      ]
     },
     "execution_count": 18,
     "metadata": {},
     "output_type": "execute_result"
    }
   ],
   "source": [
    "np.zeros(23)"
   ]
  },
  {
   "cell_type": "code",
   "execution_count": 19,
   "id": "036e6632-4574-4813-9433-43da3920a4f3",
   "metadata": {},
   "outputs": [],
   "source": [
    "idx = 1250\n",
    "df.iloc[idx-24:idx]\n",
    "\n",
    "# TODO: Make a function that creates new columns based on a lag value\n",
    "#.      and adds them to the dataframe inplace\n",
    "\n",
    "def get_autoregressive_vals(df, idx, col, lags):\n",
    "    # ar_df = df.iloc[idx-lags:idx][col]\n",
    "    # # print(ar_df.shape)\n",
    "    # if ar_df.values.shape[0] == 0:\n",
    "    #     return np.zeros(lags)+np.nan\n",
    "    # else:\n",
    "    #     return ar_df.values\n",
    "    if idx < lags:\n",
    "        return np.zeros(lags)+np.nan\n",
    "    else:\n",
    "        return df.iloc[idx-lags:idx][col]\n",
    "    \n",
    "def get_autoregressive_cols(df, lags, col):\n",
    "    vals = np.zeros([df.shape[0], lags])\n",
    "    for idx in df.index:\n",
    "        ar_val = get_autoregressive_vals(df=df, idx=idx, col=col, lags=lags)\n",
    "        vals[idx] += ar_val\n",
    "    return pd.DataFrame(vals, columns=[f'{col}_lag_{lag+1}' for lag in range(lags)])\n",
    "\n",
    "def make_df_with_ar_cols(df, col, lags):\n",
    "    df = df.copy()\n",
    "    df.reset_index(drop=True, inplace=True)\n",
    "    df_ar = get_autoregressive_cols(df=df, lags=lags, col=col)\n",
    "    return df.join(df_ar)\n",
    "\n",
    "lags = 80\n",
    "# df_1 = df[df.swarm_n==1].join(get_autoregressive_cols(df=df[df.swarm_n==1], lags=lags, col='maxamp'))\n",
    "df_1 = make_df_with_ar_cols(df=df[df.swarm_n==1], lags=lags, col='maxamp')\n",
    "df_2 = make_df_with_ar_cols(df=df[df.swarm_n==2], lags=lags, col='maxamp')\n",
    "df_3 = make_df_with_ar_cols(df=df[df.swarm_n==3], lags=lags, col='maxamp')\n",
    "df_4 = make_df_with_ar_cols(df=df[df.swarm_n==4], lags=lags, col='maxamp')\n",
    "\n",
    "data_for_catboost = pd.concat([df_1, df_2, df_3, df_4])\n",
    "# df_2.describe()\n",
    "# df_1.describe()"
   ]
  },
  {
   "cell_type": "code",
   "execution_count": 20,
   "id": "7c6d7557-036c-4962-9348-ebcae82659f4",
   "metadata": {},
   "outputs": [
    {
     "data": {
      "text/html": [
       "<div>\n",
       "<style scoped>\n",
       "    .dataframe tbody tr th:only-of-type {\n",
       "        vertical-align: middle;\n",
       "    }\n",
       "\n",
       "    .dataframe tbody tr th {\n",
       "        vertical-align: top;\n",
       "    }\n",
       "\n",
       "    .dataframe thead th {\n",
       "        text-align: right;\n",
       "    }\n",
       "</style>\n",
       "<table border=\"1\" class=\"dataframe\">\n",
       "  <thead>\n",
       "    <tr style=\"text-align: right;\">\n",
       "      <th></th>\n",
       "      <th>tn-1</th>\n",
       "      <th>tn</th>\n",
       "      <th>tn+1</th>\n",
       "      <th>depth</th>\n",
       "      <th>maxamp</th>\n",
       "      <th>swarm_n</th>\n",
       "      <th>cummaxamp</th>\n",
       "      <th>cumtime</th>\n",
       "      <th>depthdiff</th>\n",
       "      <th>flowrate</th>\n",
       "      <th>...</th>\n",
       "      <th>maxamp_lag_71</th>\n",
       "      <th>maxamp_lag_72</th>\n",
       "      <th>maxamp_lag_73</th>\n",
       "      <th>maxamp_lag_74</th>\n",
       "      <th>maxamp_lag_75</th>\n",
       "      <th>maxamp_lag_76</th>\n",
       "      <th>maxamp_lag_77</th>\n",
       "      <th>maxamp_lag_78</th>\n",
       "      <th>maxamp_lag_79</th>\n",
       "      <th>maxamp_lag_80</th>\n",
       "    </tr>\n",
       "  </thead>\n",
       "  <tbody>\n",
       "    <tr>\n",
       "      <th>0</th>\n",
       "      <td>10.204</td>\n",
       "      <td>2019-05-21 07:38:57.152000</td>\n",
       "      <td>3.180000</td>\n",
       "      <td>184.000</td>\n",
       "      <td>0.285077</td>\n",
       "      <td>1</td>\n",
       "      <td>0.285077</td>\n",
       "      <td>10.204</td>\n",
       "      <td>0.000</td>\n",
       "      <td>0.011873</td>\n",
       "      <td>...</td>\n",
       "      <td>NaN</td>\n",
       "      <td>NaN</td>\n",
       "      <td>NaN</td>\n",
       "      <td>NaN</td>\n",
       "      <td>NaN</td>\n",
       "      <td>NaN</td>\n",
       "      <td>NaN</td>\n",
       "      <td>NaN</td>\n",
       "      <td>NaN</td>\n",
       "      <td>NaN</td>\n",
       "    </tr>\n",
       "    <tr>\n",
       "      <th>1</th>\n",
       "      <td>3.180</td>\n",
       "      <td>2019-05-21 07:38:57.607000</td>\n",
       "      <td>0.455000</td>\n",
       "      <td>170.875</td>\n",
       "      <td>7.151964</td>\n",
       "      <td>1</td>\n",
       "      <td>7.437041</td>\n",
       "      <td>13.384</td>\n",
       "      <td>-13.125</td>\n",
       "      <td>0.008532</td>\n",
       "      <td>...</td>\n",
       "      <td>NaN</td>\n",
       "      <td>NaN</td>\n",
       "      <td>NaN</td>\n",
       "      <td>NaN</td>\n",
       "      <td>NaN</td>\n",
       "      <td>NaN</td>\n",
       "      <td>NaN</td>\n",
       "      <td>NaN</td>\n",
       "      <td>NaN</td>\n",
       "      <td>NaN</td>\n",
       "    </tr>\n",
       "    <tr>\n",
       "      <th>2</th>\n",
       "      <td>0.455</td>\n",
       "      <td>2019-05-21 07:39:00.080000</td>\n",
       "      <td>2.473000</td>\n",
       "      <td>171.750</td>\n",
       "      <td>43.556691</td>\n",
       "      <td>1</td>\n",
       "      <td>50.993732</td>\n",
       "      <td>13.839</td>\n",
       "      <td>0.875</td>\n",
       "      <td>0.008532</td>\n",
       "      <td>...</td>\n",
       "      <td>NaN</td>\n",
       "      <td>NaN</td>\n",
       "      <td>NaN</td>\n",
       "      <td>NaN</td>\n",
       "      <td>NaN</td>\n",
       "      <td>NaN</td>\n",
       "      <td>NaN</td>\n",
       "      <td>NaN</td>\n",
       "      <td>NaN</td>\n",
       "      <td>NaN</td>\n",
       "    </tr>\n",
       "    <tr>\n",
       "      <th>3</th>\n",
       "      <td>2.473</td>\n",
       "      <td>2019-05-21 07:39:00.926000</td>\n",
       "      <td>0.846000</td>\n",
       "      <td>170.875</td>\n",
       "      <td>81.321380</td>\n",
       "      <td>1</td>\n",
       "      <td>132.315111</td>\n",
       "      <td>16.312</td>\n",
       "      <td>-0.875</td>\n",
       "      <td>0.008532</td>\n",
       "      <td>...</td>\n",
       "      <td>NaN</td>\n",
       "      <td>NaN</td>\n",
       "      <td>NaN</td>\n",
       "      <td>NaN</td>\n",
       "      <td>NaN</td>\n",
       "      <td>NaN</td>\n",
       "      <td>NaN</td>\n",
       "      <td>NaN</td>\n",
       "      <td>NaN</td>\n",
       "      <td>NaN</td>\n",
       "    </tr>\n",
       "    <tr>\n",
       "      <th>4</th>\n",
       "      <td>0.846</td>\n",
       "      <td>2019-05-21 07:39:07.065001</td>\n",
       "      <td>6.139001</td>\n",
       "      <td>170.875</td>\n",
       "      <td>2.485894</td>\n",
       "      <td>1</td>\n",
       "      <td>134.801006</td>\n",
       "      <td>17.158</td>\n",
       "      <td>0.000</td>\n",
       "      <td>0.008532</td>\n",
       "      <td>...</td>\n",
       "      <td>NaN</td>\n",
       "      <td>NaN</td>\n",
       "      <td>NaN</td>\n",
       "      <td>NaN</td>\n",
       "      <td>NaN</td>\n",
       "      <td>NaN</td>\n",
       "      <td>NaN</td>\n",
       "      <td>NaN</td>\n",
       "      <td>NaN</td>\n",
       "      <td>NaN</td>\n",
       "    </tr>\n",
       "    <tr>\n",
       "      <th>...</th>\n",
       "      <td>...</td>\n",
       "      <td>...</td>\n",
       "      <td>...</td>\n",
       "      <td>...</td>\n",
       "      <td>...</td>\n",
       "      <td>...</td>\n",
       "      <td>...</td>\n",
       "      <td>...</td>\n",
       "      <td>...</td>\n",
       "      <td>...</td>\n",
       "      <td>...</td>\n",
       "      <td>...</td>\n",
       "      <td>...</td>\n",
       "      <td>...</td>\n",
       "      <td>...</td>\n",
       "      <td>...</td>\n",
       "      <td>...</td>\n",
       "      <td>...</td>\n",
       "      <td>...</td>\n",
       "      <td>...</td>\n",
       "      <td>...</td>\n",
       "    </tr>\n",
       "    <tr>\n",
       "      <th>245</th>\n",
       "      <td>2.662</td>\n",
       "      <td>2019-07-30 23:00:11.177999</td>\n",
       "      <td>10.801000</td>\n",
       "      <td>379.125</td>\n",
       "      <td>36.376443</td>\n",
       "      <td>4</td>\n",
       "      <td>8184.572344</td>\n",
       "      <td>1521.846</td>\n",
       "      <td>140.000</td>\n",
       "      <td>0.010894</td>\n",
       "      <td>...</td>\n",
       "      <td>36.614856</td>\n",
       "      <td>35.496830</td>\n",
       "      <td>64.283263</td>\n",
       "      <td>24.263796</td>\n",
       "      <td>15.360378</td>\n",
       "      <td>170.523931</td>\n",
       "      <td>0.288056</td>\n",
       "      <td>0.383841</td>\n",
       "      <td>0.524237</td>\n",
       "      <td>0.906981</td>\n",
       "    </tr>\n",
       "    <tr>\n",
       "      <th>246</th>\n",
       "      <td>10.801</td>\n",
       "      <td>2019-07-30 23:00:27.113999</td>\n",
       "      <td>15.936000</td>\n",
       "      <td>380.000</td>\n",
       "      <td>1.537374</td>\n",
       "      <td>4</td>\n",
       "      <td>8186.109718</td>\n",
       "      <td>1532.647</td>\n",
       "      <td>0.875</td>\n",
       "      <td>0.010894</td>\n",
       "      <td>...</td>\n",
       "      <td>35.496830</td>\n",
       "      <td>64.283263</td>\n",
       "      <td>24.263796</td>\n",
       "      <td>15.360378</td>\n",
       "      <td>170.523931</td>\n",
       "      <td>0.288056</td>\n",
       "      <td>0.383841</td>\n",
       "      <td>0.524237</td>\n",
       "      <td>0.906981</td>\n",
       "      <td>36.376443</td>\n",
       "    </tr>\n",
       "    <tr>\n",
       "      <th>247</th>\n",
       "      <td>15.936</td>\n",
       "      <td>2019-07-30 23:00:36.726999</td>\n",
       "      <td>9.613000</td>\n",
       "      <td>387.875</td>\n",
       "      <td>0.245740</td>\n",
       "      <td>4</td>\n",
       "      <td>8186.355457</td>\n",
       "      <td>1548.583</td>\n",
       "      <td>7.875</td>\n",
       "      <td>0.010894</td>\n",
       "      <td>...</td>\n",
       "      <td>64.283263</td>\n",
       "      <td>24.263796</td>\n",
       "      <td>15.360378</td>\n",
       "      <td>170.523931</td>\n",
       "      <td>0.288056</td>\n",
       "      <td>0.383841</td>\n",
       "      <td>0.524237</td>\n",
       "      <td>0.906981</td>\n",
       "      <td>36.376443</td>\n",
       "      <td>1.537374</td>\n",
       "    </tr>\n",
       "    <tr>\n",
       "      <th>248</th>\n",
       "      <td>9.613</td>\n",
       "      <td>2019-07-30 23:00:46.209999</td>\n",
       "      <td>9.483000</td>\n",
       "      <td>379.125</td>\n",
       "      <td>24.298655</td>\n",
       "      <td>4</td>\n",
       "      <td>8210.654112</td>\n",
       "      <td>1558.196</td>\n",
       "      <td>-8.750</td>\n",
       "      <td>0.010894</td>\n",
       "      <td>...</td>\n",
       "      <td>24.263796</td>\n",
       "      <td>15.360378</td>\n",
       "      <td>170.523931</td>\n",
       "      <td>0.288056</td>\n",
       "      <td>0.383841</td>\n",
       "      <td>0.524237</td>\n",
       "      <td>0.906981</td>\n",
       "      <td>36.376443</td>\n",
       "      <td>1.537374</td>\n",
       "      <td>0.245740</td>\n",
       "    </tr>\n",
       "    <tr>\n",
       "      <th>249</th>\n",
       "      <td>9.483</td>\n",
       "      <td>2019-07-30 23:00:59.706999</td>\n",
       "      <td>13.497000</td>\n",
       "      <td>215.500</td>\n",
       "      <td>2.420915</td>\n",
       "      <td>4</td>\n",
       "      <td>8213.075028</td>\n",
       "      <td>1567.679</td>\n",
       "      <td>-163.625</td>\n",
       "      <td>0.008486</td>\n",
       "      <td>...</td>\n",
       "      <td>15.360378</td>\n",
       "      <td>170.523931</td>\n",
       "      <td>0.288056</td>\n",
       "      <td>0.383841</td>\n",
       "      <td>0.524237</td>\n",
       "      <td>0.906981</td>\n",
       "      <td>36.376443</td>\n",
       "      <td>1.537374</td>\n",
       "      <td>0.245740</td>\n",
       "      <td>24.298655</td>\n",
       "    </tr>\n",
       "  </tbody>\n",
       "</table>\n",
       "<p>4410 rows × 92 columns</p>\n",
       "</div>"
      ],
      "text/plain": [
       "       tn-1                          tn       tn+1    depth     maxamp  \\\n",
       "0    10.204  2019-05-21 07:38:57.152000   3.180000  184.000   0.285077   \n",
       "1     3.180  2019-05-21 07:38:57.607000   0.455000  170.875   7.151964   \n",
       "2     0.455  2019-05-21 07:39:00.080000   2.473000  171.750  43.556691   \n",
       "3     2.473  2019-05-21 07:39:00.926000   0.846000  170.875  81.321380   \n",
       "4     0.846  2019-05-21 07:39:07.065001   6.139001  170.875   2.485894   \n",
       "..      ...                         ...        ...      ...        ...   \n",
       "245   2.662  2019-07-30 23:00:11.177999  10.801000  379.125  36.376443   \n",
       "246  10.801  2019-07-30 23:00:27.113999  15.936000  380.000   1.537374   \n",
       "247  15.936  2019-07-30 23:00:36.726999   9.613000  387.875   0.245740   \n",
       "248   9.613  2019-07-30 23:00:46.209999   9.483000  379.125  24.298655   \n",
       "249   9.483  2019-07-30 23:00:59.706999  13.497000  215.500   2.420915   \n",
       "\n",
       "     swarm_n    cummaxamp   cumtime  depthdiff  flowrate  ...  maxamp_lag_71  \\\n",
       "0          1     0.285077    10.204      0.000  0.011873  ...            NaN   \n",
       "1          1     7.437041    13.384    -13.125  0.008532  ...            NaN   \n",
       "2          1    50.993732    13.839      0.875  0.008532  ...            NaN   \n",
       "3          1   132.315111    16.312     -0.875  0.008532  ...            NaN   \n",
       "4          1   134.801006    17.158      0.000  0.008532  ...            NaN   \n",
       "..       ...          ...       ...        ...       ...  ...            ...   \n",
       "245        4  8184.572344  1521.846    140.000  0.010894  ...      36.614856   \n",
       "246        4  8186.109718  1532.647      0.875  0.010894  ...      35.496830   \n",
       "247        4  8186.355457  1548.583      7.875  0.010894  ...      64.283263   \n",
       "248        4  8210.654112  1558.196     -8.750  0.010894  ...      24.263796   \n",
       "249        4  8213.075028  1567.679   -163.625  0.008486  ...      15.360378   \n",
       "\n",
       "    maxamp_lag_72  maxamp_lag_73  maxamp_lag_74  maxamp_lag_75  maxamp_lag_76  \\\n",
       "0             NaN            NaN            NaN            NaN            NaN   \n",
       "1             NaN            NaN            NaN            NaN            NaN   \n",
       "2             NaN            NaN            NaN            NaN            NaN   \n",
       "3             NaN            NaN            NaN            NaN            NaN   \n",
       "4             NaN            NaN            NaN            NaN            NaN   \n",
       "..            ...            ...            ...            ...            ...   \n",
       "245     35.496830      64.283263      24.263796      15.360378     170.523931   \n",
       "246     64.283263      24.263796      15.360378     170.523931       0.288056   \n",
       "247     24.263796      15.360378     170.523931       0.288056       0.383841   \n",
       "248     15.360378     170.523931       0.288056       0.383841       0.524237   \n",
       "249    170.523931       0.288056       0.383841       0.524237       0.906981   \n",
       "\n",
       "     maxamp_lag_77  maxamp_lag_78  maxamp_lag_79  maxamp_lag_80  \n",
       "0              NaN            NaN            NaN            NaN  \n",
       "1              NaN            NaN            NaN            NaN  \n",
       "2              NaN            NaN            NaN            NaN  \n",
       "3              NaN            NaN            NaN            NaN  \n",
       "4              NaN            NaN            NaN            NaN  \n",
       "..             ...            ...            ...            ...  \n",
       "245       0.288056       0.383841       0.524237       0.906981  \n",
       "246       0.383841       0.524237       0.906981      36.376443  \n",
       "247       0.524237       0.906981      36.376443       1.537374  \n",
       "248       0.906981      36.376443       1.537374       0.245740  \n",
       "249      36.376443       1.537374       0.245740      24.298655  \n",
       "\n",
       "[4410 rows x 92 columns]"
      ]
     },
     "execution_count": 20,
     "metadata": {},
     "output_type": "execute_result"
    }
   ],
   "source": [
    "pd.concat([df_1, df_2, df_3, df_4])"
   ]
  },
  {
   "cell_type": "code",
   "execution_count": 21,
   "id": "476e69e7-4cab-4e43-90d6-abc6a6730b12",
   "metadata": {},
   "outputs": [
    {
     "data": {
      "text/plain": [
       "<AxesSubplot:xlabel='tn+1', ylabel='maxamp'>"
      ]
     },
     "execution_count": 21,
     "metadata": {},
     "output_type": "execute_result"
    },
    {
     "data": {
      "image/png": "[encoded data removed]",
      "text/plain": [
       "<Figure size 432x288 with 2 Axes>"
      ]
     },
     "metadata": {
      "needs_background": "light"
     },
     "output_type": "display_data"
    }
   ],
   "source": [
    "df.plot.scatter(x='tn+1', y='maxamp', c='flowrate', cmap='Spectral')"
   ]
  },
  {
   "cell_type": "code",
   "execution_count": 22,
   "id": "8dd490ff-18d5-4f01-a578-750ac25d7ed3",
   "metadata": {},
   "outputs": [
    {
     "data": {
      "text/plain": [
       "Index(['tn-1', 'tn', 'tn+1', 'depth', 'maxamp', 'swarm_n', 'cummaxamp',\n",
       "       'cumtime', 'depthdiff', 'flowrate', 'serpentine', 'rocktype',\n",
       "       'maxamp_lag_1', 'maxamp_lag_2', 'maxamp_lag_3', 'maxamp_lag_4',\n",
       "       'maxamp_lag_5', 'maxamp_lag_6', 'maxamp_lag_7', 'maxamp_lag_8',\n",
       "       'maxamp_lag_9', 'maxamp_lag_10', 'maxamp_lag_11', 'maxamp_lag_12',\n",
       "       'maxamp_lag_13', 'maxamp_lag_14', 'maxamp_lag_15', 'maxamp_lag_16',\n",
       "       'maxamp_lag_17', 'maxamp_lag_18', 'maxamp_lag_19', 'maxamp_lag_20',\n",
       "       'maxamp_lag_21', 'maxamp_lag_22', 'maxamp_lag_23', 'maxamp_lag_24',\n",
       "       'maxamp_lag_25', 'maxamp_lag_26', 'maxamp_lag_27', 'maxamp_lag_28',\n",
       "       'maxamp_lag_29', 'maxamp_lag_30', 'maxamp_lag_31', 'maxamp_lag_32',\n",
       "       'maxamp_lag_33', 'maxamp_lag_34', 'maxamp_lag_35', 'maxamp_lag_36',\n",
       "       'maxamp_lag_37', 'maxamp_lag_38', 'maxamp_lag_39', 'maxamp_lag_40',\n",
       "       'maxamp_lag_41', 'maxamp_lag_42', 'maxamp_lag_43', 'maxamp_lag_44',\n",
       "       'maxamp_lag_45', 'maxamp_lag_46', 'maxamp_lag_47', 'maxamp_lag_48',\n",
       "       'maxamp_lag_49', 'maxamp_lag_50', 'maxamp_lag_51', 'maxamp_lag_52',\n",
       "       'maxamp_lag_53', 'maxamp_lag_54', 'maxamp_lag_55', 'maxamp_lag_56',\n",
       "       'maxamp_lag_57', 'maxamp_lag_58', 'maxamp_lag_59', 'maxamp_lag_60',\n",
       "       'maxamp_lag_61', 'maxamp_lag_62', 'maxamp_lag_63', 'maxamp_lag_64',\n",
       "       'maxamp_lag_65', 'maxamp_lag_66', 'maxamp_lag_67', 'maxamp_lag_68',\n",
       "       'maxamp_lag_69', 'maxamp_lag_70', 'maxamp_lag_71', 'maxamp_lag_72',\n",
       "       'maxamp_lag_73', 'maxamp_lag_74', 'maxamp_lag_75', 'maxamp_lag_76',\n",
       "       'maxamp_lag_77', 'maxamp_lag_78', 'maxamp_lag_79', 'maxamp_lag_80'],\n",
       "      dtype='object')"
      ]
     },
     "execution_count": 22,
     "metadata": {},
     "output_type": "execute_result"
    }
   ],
   "source": [
    "data_for_catboost.columns"
   ]
  },
  {
   "cell_type": "code",
   "execution_count": 23,
   "id": "7322e804-d7bb-4200-ac4d-18339dc24325",
   "metadata": {},
   "outputs": [
    {
     "data": {
      "text/plain": [
       "(0.8674276350862745, 0.864376599772549, 0.8626024620196079, 1.0)"
      ]
     },
     "execution_count": 23,
     "metadata": {},
     "output_type": "execute_result"
    }
   ],
   "source": [
    "plt.cm.coolwarm(0.5)"
   ]
  },
  {
   "cell_type": "code",
   "execution_count": 24,
   "id": "98d56c8c-cfc8-499b-8138-22dc68719e82",
   "metadata": {},
   "outputs": [
    {
     "data": {
      "application/vnd.jupyter.widget-view+json": {
       "model_id": "63aa622127bf4f6bbb2848bc3987181a",
       "version_major": 2,
       "version_minor": 0
      },
      "text/plain": [
       "MetricVisualizer(layout=Layout(align_self='stretch', height='500px'))"
      ]
     },
     "metadata": {},
     "output_type": "display_data"
    },
    {
     "name": "stdout",
     "output_type": "stream",
     "text": [
      "Train MSE: 25.195376161740413\n",
      "Test MSE: 4809.031098281152\n",
      "Train MAE: 2.2000621657768322\n",
      "Test MAE: 30.65788724208608\n",
      "Train R^2: 0.5643452481913264\n",
      "Test R^2: -0.22527374836426417\n"
     ]
    },
    {
     "data": {
      "text/plain": [
       "array([2.62601655, 3.09232584, 2.67234375, 2.30758065, 1.93383047,\n",
       "       1.17775315, 0.47681643, 0.56122362, 2.84528394, 1.98179924,\n",
       "       0.85587464, 0.87008604, 0.        , 0.87187665, 0.96949112,\n",
       "       0.48743329, 0.        , 1.45646107, 1.0241329 , 0.        ,\n",
       "       2.51607694, 0.6526519 , 0.62623153, 1.20933894, 0.82052243,\n",
       "       1.09633931, 0.        , 1.01917503, 0.83692186, 0.7131178 ,\n",
       "       0.        , 1.19206381, 0.77873725, 0.97637236, 1.97874431,\n",
       "       1.23207918, 0.87163058, 0.        , 1.1167532 , 1.89029949,\n",
       "       0.66058347, 0.        , 1.43524107, 0.71272409, 0.86577974,\n",
       "       0.62113925, 1.49918274, 0.30718861, 1.33997579, 0.30728427,\n",
       "       1.17475608, 0.23826314, 0.36583482, 0.26960731, 1.11058413,\n",
       "       0.76695162, 0.44639729, 1.65795686, 0.39618879, 0.65445105,\n",
       "       0.79349613, 0.21691711, 0.42993324, 0.24369678, 0.95415844,\n",
       "       0.28094088, 2.15669797, 0.        , 1.87819723, 1.41808212,\n",
       "       0.57327661, 1.88819725, 2.24538598, 1.23656395, 1.07422906,\n",
       "       0.97674228, 2.1364933 , 2.09894299, 2.45982107, 1.24839995,\n",
       "       1.45181378, 0.68720814, 1.25063895, 0.62293942, 0.94602285,\n",
       "       1.24543199, 1.02256054, 1.59055856, 6.30517808])"
      ]
     },
     "execution_count": 24,
     "metadata": {},
     "output_type": "execute_result"
    }
   ],
   "source": [
    "# data_for_catboost.copy()\n",
    "\n",
    "# Generate sample data\n",
    "# x_columns = ['tn-1', 'depth', 'maxamp', 'swarm_n', 'cummaxamp',\n",
    "x_columns = ['tn-1', 'depth', 'swarm_n', 'cummaxamp',\n",
    "       'cumtime', 'depthdiff', 'flowrate', 'serpentine', 'rocktype',\n",
    "       'maxamp_lag_1', 'maxamp_lag_2', 'maxamp_lag_3', 'maxamp_lag_4',\n",
    "       'maxamp_lag_5', 'maxamp_lag_6', 'maxamp_lag_7', 'maxamp_lag_8',\n",
    "       'maxamp_lag_9', 'maxamp_lag_10', 'maxamp_lag_11', 'maxamp_lag_12',\n",
    "       'maxamp_lag_13', 'maxamp_lag_14', 'maxamp_lag_15', 'maxamp_lag_16',\n",
    "       'maxamp_lag_17', 'maxamp_lag_18', 'maxamp_lag_19', 'maxamp_lag_20',\n",
    "       'maxamp_lag_21', 'maxamp_lag_22', 'maxamp_lag_23', 'maxamp_lag_24',\n",
    "       'maxamp_lag_25', 'maxamp_lag_26', 'maxamp_lag_27', 'maxamp_lag_28',\n",
    "       'maxamp_lag_29', 'maxamp_lag_30', 'maxamp_lag_31', 'maxamp_lag_32',\n",
    "       'maxamp_lag_33', 'maxamp_lag_34', 'maxamp_lag_35', 'maxamp_lag_36',\n",
    "       'maxamp_lag_37', 'maxamp_lag_38', 'maxamp_lag_39', 'maxamp_lag_40',\n",
    "       'maxamp_lag_41', 'maxamp_lag_42', 'maxamp_lag_43', 'maxamp_lag_44',\n",
    "       'maxamp_lag_45', 'maxamp_lag_46', 'maxamp_lag_47', 'maxamp_lag_48',\n",
    "       'maxamp_lag_49', 'maxamp_lag_50', 'maxamp_lag_51', 'maxamp_lag_52',\n",
    "       'maxamp_lag_53', 'maxamp_lag_54', 'maxamp_lag_55', 'maxamp_lag_56',\n",
    "       'maxamp_lag_57', 'maxamp_lag_58', 'maxamp_lag_59', 'maxamp_lag_60',\n",
    "       'maxamp_lag_61', 'maxamp_lag_62', 'maxamp_lag_63', 'maxamp_lag_64',\n",
    "       'maxamp_lag_65', 'maxamp_lag_66', 'maxamp_lag_67', 'maxamp_lag_68',\n",
    "       'maxamp_lag_69', 'maxamp_lag_70', 'maxamp_lag_71', 'maxamp_lag_72',\n",
    "       'maxamp_lag_73', 'maxamp_lag_74', 'maxamp_lag_75', 'maxamp_lag_76',\n",
    "       'maxamp_lag_77', 'maxamp_lag_78', 'maxamp_lag_79', 'maxamp_lag_80']\n",
    "# y_column = 'tn+1'\n",
    "y_column = 'maxamp'\n",
    "X_train =data_for_catboost[data_for_catboost.swarm_n.isin([1, 2, 3])][x_columns]\n",
    "y_train =data_for_catboost[data_for_catboost.swarm_n.isin([1, 2, 3])][y_column]\n",
    "X_test = data_for_catboost[data_for_catboost.swarm_n.isin([4,])][x_columns]\n",
    "y_test = data_for_catboost[data_for_catboost.swarm_n.isin([4,])][y_column]\n",
    "\n",
    "# Create CatBoost pools\n",
    "train_pool = Pool(X_train, y_train, cat_features=['rocktype',])\n",
    "test_pool = Pool(X_test, y_test, cat_features=['rocktype',])\n",
    "\n",
    "# Define CatBoost parameters\n",
    "params = {\n",
    "    'iterations': 1000,\n",
    "    'learning_rate': 0.1,\n",
    "    'depth': 10,\n",
    "    # 'loss_function': 'RMSE',\n",
    "    'verbose': False,\n",
    "    'objective':'Poisson',\n",
    "    'has_time':True\n",
    "}\n",
    "\n",
    "# Train the CatBoost model\n",
    "model = cb.CatBoostRegressor(**params)\n",
    "model.fit(train_pool, eval_set=test_pool, plot=True)\n",
    "\n",
    "# Make predictions\n",
    "y_pred_train = model.predict(train_pool)\n",
    "y_pred_test = model.predict(test_pool)\n",
    "\n",
    "# Model evaluation\n",
    "mse_train = mean_squared_error(y_train, y_pred_train)\n",
    "mse_test = mean_squared_error(y_test, y_pred_test)\n",
    "mae_train = mean_absolute_error(y_train, y_pred_train)\n",
    "mae_test = mean_absolute_error(y_test, y_pred_test)\n",
    "r2_train = r2_score(y_train, y_pred_train)\n",
    "r2_test = r2_score(y_test, y_pred_test)\n",
    "\n",
    "print(\"Train MSE:\", mse_train)\n",
    "print(\"Test MSE:\", mse_test)\n",
    "print(\"Train MAE:\", mae_train)\n",
    "print(\"Test MAE:\", mae_test)\n",
    "print(\"Train R^2:\", r2_train)\n",
    "print(\"Test R^2:\", r2_test)\n",
    "\n",
    "# Plot feature importance\n",
    "feature_importance = model.get_feature_importance()\n",
    "# feature_names = ['Feature 1', 'Feature 2', 'Feature 3', 'Feature 4', 'Feature 5']\n",
    "\n",
    "# plt.barh(feature_names, feature_importance)\n",
    "# plt.xlabel('Feature Importance')\n",
    "# plt.ylabel('Features')\n",
    "feature_importance\n"
   ]
  },
  {
   "cell_type": "code",
   "execution_count": 25,
   "id": "4d58f8ac-a899-4d42-932f-f4cd512e368b",
   "metadata": {},
   "outputs": [
    {
     "data": {
      "text/plain": [
       "array([0.        , 0.0625    , 0.125     , 0.1875    , 0.25      ,\n",
       "       0.3125    , 0.375     , 0.4375    , 0.54545455, 0.59090909,\n",
       "       0.63636364, 0.68181818, 0.72727273, 0.77272727, 0.81818182,\n",
       "       0.86363636, 0.90909091, 0.95454545, 1.        ])"
      ]
     },
     "execution_count": 25,
     "metadata": {},
     "output_type": "execute_result"
    }
   ],
   "source": [
    "x = np.arange(0, 9, 1)\n",
    "browns = x/(x.max()*2)\n",
    "\n",
    "x2 = np.arange(1, 12, 1)\n",
    "purples = x2/(x2.max()*2) + 0.5\n",
    "\n",
    "x_combined = np.hstack([browns[:-1], purples])\n",
    "x_combined"
   ]
  },
  {
   "cell_type": "code",
   "execution_count": 26,
   "id": "083d9def-4113-401a-9d9c-06b0cac88c85",
   "metadata": {},
   "outputs": [
    {
     "data": {
      "text/plain": [
       "(0.0, 20.0)"
      ]
     },
     "execution_count": 26,
     "metadata": {},
     "output_type": "execute_result"
    },
    {
     "data": {
      "image/png": "[encoded data removed]",
      "text/plain": [
       "<Figure size 432x288 with 1 Axes>"
      ]
     },
     "metadata": {
      "needs_background": "light"
     },
     "output_type": "display_data"
    }
   ],
   "source": [
    "y_pred_test\n",
    "y_test.values\n",
    "fig, ax = plt.subplots()\n",
    "\n",
    "ax.scatter(y_test.values, y_pred_test)\n",
    "ax.set_xlim(0, 20)"
   ]
  },
  {
   "cell_type": "code",
   "execution_count": 27,
   "id": "499db12b-da73-4c8f-9940-6f5d5569fc7e",
   "metadata": {},
   "outputs": [
    {
     "data": {
      "text/plain": [
       "[<matplotlib.lines.Line2D at 0x7fa8e4f859a0>]"
      ]
     },
     "execution_count": 27,
     "metadata": {},
     "output_type": "execute_result"
    },
    {
     "data": {
      "image/png": "[encoded data removed]",
      "text/plain": [
       "<Figure size 432x288 with 1 Axes>"
      ]
     },
     "metadata": {
      "needs_background": "light"
     },
     "output_type": "display_data"
    }
   ],
   "source": [
    "fig, ax = plt.subplots()\n",
    "# data = df[df['swarm_n']==4].copy()\n",
    "data = data_for_catboost[data_for_catboost['swarm_n']==4].copy()\n",
    "x = pd.to_datetime(data['tn'])\n",
    "\n",
    "ax.plot(x, data.cumtime)\n",
    "ax.plot(x, y_pred_test.cumsum())"
   ]
  },
  {
   "cell_type": "code",
   "execution_count": 28,
   "id": "23079f72-6668-4d19-9d8f-f7114b9fecf9",
   "metadata": {},
   "outputs": [
    {
     "data": {
      "text/plain": [
       "<AxesSubplot:>"
      ]
     },
     "execution_count": 28,
     "metadata": {},
     "output_type": "execute_result"
    },
    {
     "data": {
      "image/png": "[encoded data removed]",
      "text/plain": [
       "<Figure size 432x288 with 1 Axes>"
      ]
     },
     "metadata": {
      "needs_background": "light"
     },
     "output_type": "display_data"
    }
   ],
   "source": [
    "df.maxamp.apply(np.log10).hist(bins=np.linspace(0, 2,100))"
   ]
  },
  {
   "cell_type": "code",
   "execution_count": 29,
   "id": "dc8929e3-d764-4b0f-bdb1-b9daf3e9e206",
   "metadata": {},
   "outputs": [
    {
     "data": {
      "text/html": [
       "<div>\n",
       "<style scoped>\n",
       "    .dataframe tbody tr th:only-of-type {\n",
       "        vertical-align: middle;\n",
       "    }\n",
       "\n",
       "    .dataframe tbody tr th {\n",
       "        vertical-align: top;\n",
       "    }\n",
       "\n",
       "    .dataframe thead th {\n",
       "        text-align: right;\n",
       "    }\n",
       "</style>\n",
       "<table border=\"1\" class=\"dataframe\">\n",
       "  <thead>\n",
       "    <tr style=\"text-align: right;\">\n",
       "      <th></th>\n",
       "      <th>tn-1</th>\n",
       "      <th>tn</th>\n",
       "      <th>tn+1</th>\n",
       "      <th>depth</th>\n",
       "      <th>maxamp</th>\n",
       "      <th>swarm_n</th>\n",
       "      <th>cummaxamp</th>\n",
       "      <th>cumtime</th>\n",
       "      <th>depthdiff</th>\n",
       "      <th>flowrate</th>\n",
       "      <th>serpentine</th>\n",
       "      <th>rocktype</th>\n",
       "    </tr>\n",
       "  </thead>\n",
       "  <tbody>\n",
       "    <tr>\n",
       "      <th>0</th>\n",
       "      <td>10.204</td>\n",
       "      <td>2019-05-21 07:38:57.152000</td>\n",
       "      <td>3.180000</td>\n",
       "      <td>184.000</td>\n",
       "      <td>0.285077</td>\n",
       "      <td>1</td>\n",
       "      <td>0.285077</td>\n",
       "      <td>10.204</td>\n",
       "      <td>0.000</td>\n",
       "      <td>0.011873</td>\n",
       "      <td>1</td>\n",
       "      <td>Cutting Rock Type: Harzburgite</td>\n",
       "    </tr>\n",
       "    <tr>\n",
       "      <th>1</th>\n",
       "      <td>3.180</td>\n",
       "      <td>2019-05-21 07:38:57.607000</td>\n",
       "      <td>0.455000</td>\n",
       "      <td>170.875</td>\n",
       "      <td>7.151964</td>\n",
       "      <td>1</td>\n",
       "      <td>7.437041</td>\n",
       "      <td>13.384</td>\n",
       "      <td>-13.125</td>\n",
       "      <td>0.008532</td>\n",
       "      <td>1</td>\n",
       "      <td>Cutting Rock Type: Harzburgite</td>\n",
       "    </tr>\n",
       "    <tr>\n",
       "      <th>2</th>\n",
       "      <td>0.455</td>\n",
       "      <td>2019-05-21 07:39:00.080000</td>\n",
       "      <td>2.473000</td>\n",
       "      <td>171.750</td>\n",
       "      <td>43.556691</td>\n",
       "      <td>1</td>\n",
       "      <td>50.993732</td>\n",
       "      <td>13.839</td>\n",
       "      <td>0.875</td>\n",
       "      <td>0.008532</td>\n",
       "      <td>1</td>\n",
       "      <td>Cutting Rock Type: Harzburgite</td>\n",
       "    </tr>\n",
       "    <tr>\n",
       "      <th>3</th>\n",
       "      <td>2.473</td>\n",
       "      <td>2019-05-21 07:39:00.926000</td>\n",
       "      <td>0.846000</td>\n",
       "      <td>170.875</td>\n",
       "      <td>81.321380</td>\n",
       "      <td>1</td>\n",
       "      <td>132.315111</td>\n",
       "      <td>16.312</td>\n",
       "      <td>-0.875</td>\n",
       "      <td>0.008532</td>\n",
       "      <td>1</td>\n",
       "      <td>Cutting Rock Type: Harzburgite</td>\n",
       "    </tr>\n",
       "    <tr>\n",
       "      <th>4</th>\n",
       "      <td>0.846</td>\n",
       "      <td>2019-05-21 07:39:07.065001</td>\n",
       "      <td>6.139001</td>\n",
       "      <td>170.875</td>\n",
       "      <td>2.485894</td>\n",
       "      <td>1</td>\n",
       "      <td>134.801006</td>\n",
       "      <td>17.158</td>\n",
       "      <td>0.000</td>\n",
       "      <td>0.008532</td>\n",
       "      <td>1</td>\n",
       "      <td>Cutting Rock Type: Harzburgite</td>\n",
       "    </tr>\n",
       "    <tr>\n",
       "      <th>...</th>\n",
       "      <td>...</td>\n",
       "      <td>...</td>\n",
       "      <td>...</td>\n",
       "      <td>...</td>\n",
       "      <td>...</td>\n",
       "      <td>...</td>\n",
       "      <td>...</td>\n",
       "      <td>...</td>\n",
       "      <td>...</td>\n",
       "      <td>...</td>\n",
       "      <td>...</td>\n",
       "      <td>...</td>\n",
       "    </tr>\n",
       "    <tr>\n",
       "      <th>4405</th>\n",
       "      <td>2.662</td>\n",
       "      <td>2019-07-30 23:00:11.177999</td>\n",
       "      <td>10.801000</td>\n",
       "      <td>379.125</td>\n",
       "      <td>36.376443</td>\n",
       "      <td>4</td>\n",
       "      <td>8184.572344</td>\n",
       "      <td>1521.846</td>\n",
       "      <td>140.000</td>\n",
       "      <td>0.010894</td>\n",
       "      <td>1</td>\n",
       "      <td>Cutting Rock Type: Harzburgite</td>\n",
       "    </tr>\n",
       "    <tr>\n",
       "      <th>4406</th>\n",
       "      <td>10.801</td>\n",
       "      <td>2019-07-30 23:00:27.113999</td>\n",
       "      <td>15.936000</td>\n",
       "      <td>380.000</td>\n",
       "      <td>1.537374</td>\n",
       "      <td>4</td>\n",
       "      <td>8186.109718</td>\n",
       "      <td>1532.647</td>\n",
       "      <td>0.875</td>\n",
       "      <td>0.010894</td>\n",
       "      <td>1</td>\n",
       "      <td>Cutting Rock Type: Harzburgite</td>\n",
       "    </tr>\n",
       "    <tr>\n",
       "      <th>4407</th>\n",
       "      <td>15.936</td>\n",
       "      <td>2019-07-30 23:00:36.726999</td>\n",
       "      <td>9.613000</td>\n",
       "      <td>387.875</td>\n",
       "      <td>0.245740</td>\n",
       "      <td>4</td>\n",
       "      <td>8186.355457</td>\n",
       "      <td>1548.583</td>\n",
       "      <td>7.875</td>\n",
       "      <td>0.010894</td>\n",
       "      <td>1</td>\n",
       "      <td>Cutting Rock Type: Harzburgite</td>\n",
       "    </tr>\n",
       "    <tr>\n",
       "      <th>4408</th>\n",
       "      <td>9.613</td>\n",
       "      <td>2019-07-30 23:00:46.209999</td>\n",
       "      <td>9.483000</td>\n",
       "      <td>379.125</td>\n",
       "      <td>24.298655</td>\n",
       "      <td>4</td>\n",
       "      <td>8210.654112</td>\n",
       "      <td>1558.196</td>\n",
       "      <td>-8.750</td>\n",
       "      <td>0.010894</td>\n",
       "      <td>1</td>\n",
       "      <td>Cutting Rock Type: Harzburgite</td>\n",
       "    </tr>\n",
       "    <tr>\n",
       "      <th>4409</th>\n",
       "      <td>9.483</td>\n",
       "      <td>2019-07-30 23:00:59.706999</td>\n",
       "      <td>13.497000</td>\n",
       "      <td>215.500</td>\n",
       "      <td>2.420915</td>\n",
       "      <td>4</td>\n",
       "      <td>8213.075028</td>\n",
       "      <td>1567.679</td>\n",
       "      <td>-163.625</td>\n",
       "      <td>0.008486</td>\n",
       "      <td>1</td>\n",
       "      <td>Cutting Rock Type: Harzburgite</td>\n",
       "    </tr>\n",
       "  </tbody>\n",
       "</table>\n",
       "<p>4410 rows × 12 columns</p>\n",
       "</div>"
      ],
      "text/plain": [
       "        tn-1                          tn       tn+1    depth     maxamp  \\\n",
       "0     10.204  2019-05-21 07:38:57.152000   3.180000  184.000   0.285077   \n",
       "1      3.180  2019-05-21 07:38:57.607000   0.455000  170.875   7.151964   \n",
       "2      0.455  2019-05-21 07:39:00.080000   2.473000  171.750  43.556691   \n",
       "3      2.473  2019-05-21 07:39:00.926000   0.846000  170.875  81.321380   \n",
       "4      0.846  2019-05-21 07:39:07.065001   6.139001  170.875   2.485894   \n",
       "...      ...                         ...        ...      ...        ...   \n",
       "4405   2.662  2019-07-30 23:00:11.177999  10.801000  379.125  36.376443   \n",
       "4406  10.801  2019-07-30 23:00:27.113999  15.936000  380.000   1.537374   \n",
       "4407  15.936  2019-07-30 23:00:36.726999   9.613000  387.875   0.245740   \n",
       "4408   9.613  2019-07-30 23:00:46.209999   9.483000  379.125  24.298655   \n",
       "4409   9.483  2019-07-30 23:00:59.706999  13.497000  215.500   2.420915   \n",
       "\n",
       "      swarm_n    cummaxamp   cumtime  depthdiff  flowrate  serpentine  \\\n",
       "0           1     0.285077    10.204      0.000  0.011873           1   \n",
       "1           1     7.437041    13.384    -13.125  0.008532           1   \n",
       "2           1    50.993732    13.839      0.875  0.008532           1   \n",
       "3           1   132.315111    16.312     -0.875  0.008532           1   \n",
       "4           1   134.801006    17.158      0.000  0.008532           1   \n",
       "...       ...          ...       ...        ...       ...         ...   \n",
       "4405        4  8184.572344  1521.846    140.000  0.010894           1   \n",
       "4406        4  8186.109718  1532.647      0.875  0.010894           1   \n",
       "4407        4  8186.355457  1548.583      7.875  0.010894           1   \n",
       "4408        4  8210.654112  1558.196     -8.750  0.010894           1   \n",
       "4409        4  8213.075028  1567.679   -163.625  0.008486           1   \n",
       "\n",
       "                            rocktype  \n",
       "0     Cutting Rock Type: Harzburgite  \n",
       "1     Cutting Rock Type: Harzburgite  \n",
       "2     Cutting Rock Type: Harzburgite  \n",
       "3     Cutting Rock Type: Harzburgite  \n",
       "4     Cutting Rock Type: Harzburgite  \n",
       "...                              ...  \n",
       "4405  Cutting Rock Type: Harzburgite  \n",
       "4406  Cutting Rock Type: Harzburgite  \n",
       "4407  Cutting Rock Type: Harzburgite  \n",
       "4408  Cutting Rock Type: Harzburgite  \n",
       "4409  Cutting Rock Type: Harzburgite  \n",
       "\n",
       "[4410 rows x 12 columns]"
      ]
     },
     "execution_count": 29,
     "metadata": {},
     "output_type": "execute_result"
    }
   ],
   "source": [
    "df"
   ]
  },
  {
   "cell_type": "code",
   "execution_count": 32,
   "id": "880f6b3b-662a-428c-96a4-b6c5c5797665",
   "metadata": {},
   "outputs": [
    {
     "data": {
      "application/vnd.jupyter.widget-view+json": {
       "model_id": "8f326ca8b16e48ba903f871ab75cd759",
       "version_major": 2,
       "version_minor": 0
      },
      "text/plain": [
       "MetricVisualizer(layout=Layout(align_self='stretch', height='500px'))"
      ]
     },
     "metadata": {},
     "output_type": "display_data"
    },
    {
     "name": "stdout",
     "output_type": "stream",
     "text": [
      "Train MSE: 36.975569296481346\n",
      "Test MSE: 4854.610145832551\n",
      "Train MAE: 2.688555340329257\n",
      "Test MAE: 31.225594914595145\n",
      "Train R^2: 0.5584892159383222\n",
      "Test R^2: -0.23688665110888074\n"
     ]
    },
    {
     "data": {
      "text/plain": [
       "array([13.84133184, 21.63260802, 19.80339889, 22.09166291,  9.18327218,\n",
       "       12.66324194,  0.78448423])"
      ]
     },
     "execution_count": 32,
     "metadata": {},
     "output_type": "execute_result"
    }
   ],
   "source": [
    "# Generate sample data\n",
    "x_columns = [  'tn-1'\n",
    "             , 'depth'\n",
    "             , 'tn+1'\n",
    "             # , 'swarm_n'\n",
    "             # , 'cummaxamp',\n",
    "             , 'cumtime'\n",
    "             , 'depthdiff'\n",
    "             , 'flowrate'\n",
    "             # , 'serpentine'\n",
    "             , 'rocktype']\n",
    "y_column = 'maxamp'\n",
    "X_train = df[df.swarm_n.isin([1, 2, 3])][x_columns]\n",
    "y_train = df[df.swarm_n.isin([1, 2, 3])][y_column]\n",
    "X_test = df[df.swarm_n.isin([4,])][x_columns]\n",
    "y_test = df[df.swarm_n.isin([4,])][y_column]\n",
    "\n",
    "# Create CatBoost pools\n",
    "train_pool = Pool(X_train, y_train, cat_features=['rocktype',])\n",
    "test_pool = Pool(X_test, y_test, cat_features=['rocktype',])\n",
    "\n",
    "# Define CatBoost parameters\n",
    "params = {\n",
    "    'iterations': 10000,\n",
    "    'learning_rate': 0.1,\n",
    "    'depth': 10,\n",
    "    # 'loss_function': 'RMSE',\n",
    "    'verbose': False,\n",
    "    'objective':'Poisson',\n",
    "    'has_time':True\n",
    "}\n",
    "\n",
    "# Train the CatBoost model\n",
    "model = cb.CatBoostRegressor(**params)\n",
    "model.fit(train_pool, eval_set=test_pool, plot=True)\n",
    "\n",
    "# Make predictions\n",
    "y_pred_train = model.predict(train_pool)\n",
    "y_pred_test = model.predict(test_pool)\n",
    "\n",
    "# Model evaluation\n",
    "mse_train = mean_squared_error(y_train, y_pred_train)\n",
    "mse_test = mean_squared_error(y_test, y_pred_test)\n",
    "mae_train = mean_absolute_error(y_train, y_pred_train)\n",
    "mae_test = mean_absolute_error(y_test, y_pred_test)\n",
    "r2_train = r2_score(y_train, y_pred_train)\n",
    "r2_test = r2_score(y_test, y_pred_test)\n",
    "\n",
    "print(\"Train MSE:\", mse_train)\n",
    "print(\"Test MSE:\", mse_test)\n",
    "print(\"Train MAE:\", mae_train)\n",
    "print(\"Test MAE:\", mae_test)\n",
    "print(\"Train R^2:\", r2_train)\n",
    "print(\"Test R^2:\", r2_test)\n",
    "\n",
    "# Plot feature importance\n",
    "feature_importance = model.get_feature_importance()\n",
    "# feature_names = ['Feature 1', 'Feature 2', 'Feature 3', 'Feature 4', 'Feature 5']\n",
    "\n",
    "# plt.barh(feature_names, feature_importance)\n",
    "# plt.xlabel('Feature Importance')\n",
    "# plt.ylabel('Features')\n",
    "feature_importance\n"
   ]
  },
  {
   "cell_type": "code",
   "execution_count": 126,
   "id": "d0ac3741-0db4-439b-b083-d3bdf00642d5",
   "metadata": {},
   "outputs": [
    {
     "name": "stderr",
     "output_type": "stream",
     "text": [
      "/tmp/ipykernel_9914/1056977165.py:1: FutureWarning: Dropping invalid columns in DataFrameGroupBy.max is deprecated. In a future version, a TypeError will be raised. Before calling .max, select only columns which should be valid for the function.\n",
      "  x = df.groupby('swarm_n').max().cumtime\n"
     ]
    },
    {
     "data": {
      "text/plain": [
       "8.487272229158021"
      ]
     },
     "execution_count": 126,
     "metadata": {},
     "output_type": "execute_result"
    },
    {
     "data": {
      "image/png": "[encoded data removed]",
      "text/plain": [
       "<Figure size 432x288 with 1 Axes>"
      ]
     },
     "metadata": {
      "needs_background": "light"
     },
     "output_type": "display_data"
    }
   ],
   "source": [
    "x = df.groupby('swarm_n').max().cumtime\n",
    "\n",
    "y = df.groupby('swarm_n').mean().maxamp\n",
    "yerr = df.groupby('swarm_n').maxamp\n",
    "\n",
    "fig, ax = plt.subplots()\n",
    "\n",
    "ax.scatter(x=x, y=y, linewidth=1, marker='s', color='red')\n",
    "ax.set_ylabel('<amplitude>')\n",
    "ax.set_xlabel('total time (s)')\n",
    "\n",
    "\n",
    "t = np.linspace(0, 6500, 10000)\n",
    "a = 85 \n",
    "l = 0.00065\n",
    "ymod = a * np.exp(-l*t)\n",
    "ax.plot(t, ymod)\n",
    "\n",
    "ax.set_ylim(0, 45)\n",
    "\n",
    "a * np.exp(-l * x.loc[1])"
   ]
  },
  {
   "cell_type": "code",
   "execution_count": 139,
   "id": "a813178e-0986-4189-9941-48f2b6e78868",
   "metadata": {},
   "outputs": [
    {
     "data": {
      "text/html": [
       "<div>\n",
       "<style scoped>\n",
       "    .dataframe tbody tr th:only-of-type {\n",
       "        vertical-align: middle;\n",
       "    }\n",
       "\n",
       "    .dataframe tbody tr th {\n",
       "        vertical-align: top;\n",
       "    }\n",
       "\n",
       "    .dataframe thead th {\n",
       "        text-align: right;\n",
       "    }\n",
       "</style>\n",
       "<table border=\"1\" class=\"dataframe\">\n",
       "  <thead>\n",
       "    <tr style=\"text-align: right;\">\n",
       "      <th></th>\n",
       "      <th>maxamp</th>\n",
       "      <th>cumtime</th>\n",
       "      <th>model</th>\n",
       "    </tr>\n",
       "  </thead>\n",
       "  <tbody>\n",
       "    <tr>\n",
       "      <th>maxamp</th>\n",
       "      <td>1.000000</td>\n",
       "      <td>-0.871938</td>\n",
       "      <td>0.990189</td>\n",
       "    </tr>\n",
       "    <tr>\n",
       "      <th>cumtime</th>\n",
       "      <td>-0.871938</td>\n",
       "      <td>1.000000</td>\n",
       "      <td>-0.930119</td>\n",
       "    </tr>\n",
       "    <tr>\n",
       "      <th>model</th>\n",
       "      <td>0.990189</td>\n",
       "      <td>-0.930119</td>\n",
       "      <td>1.000000</td>\n",
       "    </tr>\n",
       "  </tbody>\n",
       "</table>\n",
       "</div>"
      ],
      "text/plain": [
       "           maxamp   cumtime     model\n",
       "maxamp   1.000000 -0.871938  0.990189\n",
       "cumtime -0.871938  1.000000 -0.930119\n",
       "model    0.990189 -0.930119  1.000000"
      ]
     },
     "execution_count": 139,
     "metadata": {},
     "output_type": "execute_result"
    }
   ],
   "source": [
    "exponential = pd.DataFrame(y)\n",
    "# exponential['model'] = ex$\n",
    "exponential['cumtime'] = x\n",
    "exponential['model'] = exponential.cumtime.apply(lambda true_time: a * np.exp(- l * true_time))\n",
    "exponential.corr()"
   ]
  },
  {
   "cell_type": "code",
   "execution_count": 92,
   "id": "3f879fb3-1da5-4e24-b6e2-d40dc6f6a5ed",
   "metadata": {},
   "outputs": [
    {
     "data": {
      "text/plain": [
       "array([85.        , 84.96381533, 84.92764607, ...,  1.20442568,\n",
       "        1.20391296,  1.20340045])"
      ]
     },
     "execution_count": 92,
     "metadata": {},
     "output_type": "execute_result"
    }
   ],
   "source": [
    "y"
   ]
  },
  {
   "cell_type": "code",
   "execution_count": null,
   "id": "6f0e9da7-3b4f-46d4-ac59-3c3c09d7c088",
   "metadata": {},
   "outputs": [],
   "source": []
  }
 ],
 "metadata": {
  "kernelspec": {
   "display_name": "Python 3 (ipykernel)",
   "language": "python",
   "name": "python3"
  },
  "language_info": {
   "codemirror_mode": {
    "name": "ipython",
    "version": 3
   },
   "file_extension": ".py",
   "mimetype": "text/x-python",
   "name": "python",
   "nbconvert_exporter": "python",
   "pygments_lexer": "ipython3",
   "version": "3.11.5"
  }
 },
 "nbformat": 4,
 "nbformat_minor": 5
}
