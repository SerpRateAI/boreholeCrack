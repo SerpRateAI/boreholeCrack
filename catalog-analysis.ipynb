{
 "cells": [
  {
   "cell_type": "code",
   "execution_count": 1,
   "id": "f3b906ae-1101-4315-807a-83ec81541bdf",
   "metadata": {},
   "outputs": [],
   "source": [
    "%matplotlib inline\n",
    "import matplotlib.pyplot as plt\n",
    "import numpy as np\n",
    "import pandas as pd\n",
    "import matplotlib.dates as dates\n",
    "import obspy\n",
    "from hydrophone_data_processing import load, useful_variables, plotting, signal_processing\n",
    "import event_detector_pipeline as edp\n",
    "\n",
    "hydrophone_metadata = {\n",
    "    'h1':{\n",
    "        # start and end identifies the start time of the swarm where the amplitude magnitude is the highest\n",
    "        'start':obspy.UTCDateTime('2019-05-21T07:35:00Z')\n",
    "        ,'end':obspy.UTCDateTime('2019-5-21T07:48:00Z')\n",
    "       # obspy_idx is the index within the stream for this data (all data is sorted from top to bottom of the borehole this way in lists)\n",
    "        ,'obspy_idx':0\n",
    "        # depth of the hydrophone\n",
    "        ,'depth':30\n",
    "        ,'velocity_model':1750\n",
    "    }\n",
    "    ,    'h2':{\n",
    "        'start':obspy.UTCDateTime('2019-05-21T07:35:00Z')\n",
    "        ,'end':obspy.UTCDateTime('2019-5-21T07:48:00Z')\n",
    "        ,'obspy_idx':1\n",
    "        ,'depth':100        \n",
    "        ,'velocity_model':1750\n",
    "\n",
    "    }\n",
    "    ,    'h3':{\n",
    "        'start':obspy.UTCDateTime('2019-05-21T07:35:00Z')\n",
    "        ,'end':obspy.UTCDateTime('2019-5-21T07:48:00Z')\n",
    "        ,'obspy_idx':2\n",
    "        ,'depth':170        \n",
    "        ,'velocity_model':1750\n",
    "\n",
    "    }\n",
    "    ,'h4':{\n",
    "        'start':obspy.UTCDateTime('2019-05-21T07:48:00Z')\n",
    "        ,'end':obspy.UTCDateTime('2019-5-21T08:07:00Z')\n",
    "        ,'obspy_idx':3\n",
    "        ,'depth':240\n",
    "        ,'velocity_model':1750\n",
    "    }\n",
    "    ,'h5':{\n",
    "        'start':obspy.UTCDateTime('2019-05-21T08:07:00Z')\n",
    "        # ,'end':obspy.UTCDateTime('2019-5-21T08:34:00Z')\n",
    "        ,'end':obspy.UTCDateTime('2019-5-21T08:38:00Z')\n",
    "        ,'obspy_idx':4\n",
    "        ,'depth':310\n",
    "        ,'velocity_model':1750\n",
    "    }\n",
    "    ,'h6':{\n",
    "        'start':obspy.UTCDateTime('2019-05-21T08:34:00Z')\n",
    "        ,'end':obspy.UTCDateTime('2019-5-21T08:38:00Z')\n",
    "       ,'obspy_idx':5\n",
    "        ,'depth':380\n",
    "        ,'velocity_model':1750\n",
    "    }\n",
    "}"
   ]
  },
  {
   "cell_type": "code",
   "execution_count": 2,
   "id": "f6b916cf-dbad-4d60-8c88-ab7e32e2f9ad",
   "metadata": {},
   "outputs": [],
   "source": [
    "# df = pd.read_csv('hmmm.csv')\n",
    "df = pd.read_csv('precision.csv')"
   ]
  },
  {
   "cell_type": "code",
   "execution_count": 3,
   "id": "c61a4d7b-fea2-4a64-982a-91444e5eb57d",
   "metadata": {},
   "outputs": [
    {
     "data": {
      "text/html": [
       "<div>\n",
       "<style scoped>\n",
       "    .dataframe tbody tr th:only-of-type {\n",
       "        vertical-align: middle;\n",
       "    }\n",
       "\n",
       "    .dataframe tbody tr th {\n",
       "        vertical-align: top;\n",
       "    }\n",
       "\n",
       "    .dataframe thead th {\n",
       "        text-align: right;\n",
       "    }\n",
       "</style>\n",
       "<table border=\"1\" class=\"dataframe\">\n",
       "  <thead>\n",
       "    <tr style=\"text-align: right;\">\n",
       "      <th></th>\n",
       "      <th>Unnamed: 0</th>\n",
       "      <th>id</th>\n",
       "      <th>depth</th>\n",
       "      <th>aic_t</th>\n",
       "      <th>aics</th>\n",
       "      <th>aic_maxes</th>\n",
       "      <th>first_hydrophone</th>\n",
       "      <th>second_hydrophone</th>\n",
       "      <th>arrival_time</th>\n",
       "      <th>first_arrival</th>\n",
       "      <th>second_arrival</th>\n",
       "      <th>dt</th>\n",
       "    </tr>\n",
       "  </thead>\n",
       "  <tbody>\n",
       "    <tr>\n",
       "      <th>0</th>\n",
       "      <td>0</td>\n",
       "      <td>0</td>\n",
       "      <td>418.500</td>\n",
       "      <td>[18037.31817321759, 18037.3181718287, 18037.31...</td>\n",
       "      <td>[array([-11818.91953227, -11897.3554506 , -119...</td>\n",
       "      <td>[158, 38, 180, 225, 157, 73]</td>\n",
       "      <td>5</td>\n",
       "      <td>4</td>\n",
       "      <td>18037.318172</td>\n",
       "      <td>2019-05-21 07:38:10.081000+00:00</td>\n",
       "      <td>2019-05-21 07:38:10.165000+00:00</td>\n",
       "      <td>-0.084</td>\n",
       "    </tr>\n",
       "    <tr>\n",
       "      <th>1</th>\n",
       "      <td>1</td>\n",
       "      <td>1</td>\n",
       "      <td>345.000</td>\n",
       "      <td>[18037.318188935187, 18037.318188599536, 18037...</td>\n",
       "      <td>[array([-11346.52726224, -11411.86588148, -114...</td>\n",
       "      <td>[198, 169, 198, 239, 77, 77]</td>\n",
       "      <td>4</td>\n",
       "      <td>5</td>\n",
       "      <td>18037.318188</td>\n",
       "      <td>2019-05-21 07:38:11.403000+00:00</td>\n",
       "      <td>2019-05-21 07:38:11.403000+00:00</td>\n",
       "      <td>0.000</td>\n",
       "    </tr>\n",
       "    <tr>\n",
       "      <th>2</th>\n",
       "      <td>2</td>\n",
       "      <td>2</td>\n",
       "      <td>345.000</td>\n",
       "      <td>[18037.31820296296, 18037.318202974537, 18037....</td>\n",
       "      <td>[array([-11737.2475554 , -11802.46226655, -118...</td>\n",
       "      <td>[182, 183, 182, 227, 49, 49]</td>\n",
       "      <td>4</td>\n",
       "      <td>5</td>\n",
       "      <td>18037.318201</td>\n",
       "      <td>2019-05-21 07:38:12.603000+00:00</td>\n",
       "      <td>2019-05-21 07:38:12.603000+00:00</td>\n",
       "      <td>0.000</td>\n",
       "    </tr>\n",
       "    <tr>\n",
       "      <th>3</th>\n",
       "      <td>3</td>\n",
       "      <td>3</td>\n",
       "      <td>345.000</td>\n",
       "      <td>[18037.3182190625, 18037.31821888889, 18037.31...</td>\n",
       "      <td>[array([-11913.51760689, -12003.97855731, -120...</td>\n",
       "      <td>[186, 171, 184, 224, 32, 32]</td>\n",
       "      <td>4</td>\n",
       "      <td>5</td>\n",
       "      <td>18037.318217</td>\n",
       "      <td>2019-05-21 07:38:13.973000+00:00</td>\n",
       "      <td>2019-05-21 07:38:13.973000+00:00</td>\n",
       "      <td>0.000</td>\n",
       "    </tr>\n",
       "    <tr>\n",
       "      <th>4</th>\n",
       "      <td>4</td>\n",
       "      <td>4</td>\n",
       "      <td>345.000</td>\n",
       "      <td>[18037.31822136574, 18037.318221331017, 18037....</td>\n",
       "      <td>[array([-11616.26915278, -11697.80976516, -117...</td>\n",
       "      <td>[121, 118, 116, 109, 48, 48]</td>\n",
       "      <td>4</td>\n",
       "      <td>5</td>\n",
       "      <td>18037.318221</td>\n",
       "      <td>2019-05-21 07:38:14.253000+00:00</td>\n",
       "      <td>2019-05-21 07:38:14.253000+00:00</td>\n",
       "      <td>0.000</td>\n",
       "    </tr>\n",
       "    <tr>\n",
       "      <th>...</th>\n",
       "      <td>...</td>\n",
       "      <td>...</td>\n",
       "      <td>...</td>\n",
       "      <td>...</td>\n",
       "      <td>...</td>\n",
       "      <td>...</td>\n",
       "      <td>...</td>\n",
       "      <td>...</td>\n",
       "      <td>...</td>\n",
       "      <td>...</td>\n",
       "      <td>...</td>\n",
       "      <td>...</td>\n",
       "    </tr>\n",
       "    <tr>\n",
       "      <th>2236</th>\n",
       "      <td>2236</td>\n",
       "      <td>2236</td>\n",
       "      <td>380.875</td>\n",
       "      <td>[18037.359563506947, 18037.35956349537, 18037....</td>\n",
       "      <td>[array([ -8390.57978124,  -8482.4006808 ,  -84...</td>\n",
       "      <td>[196, 195, 344, 276, 237, 196]</td>\n",
       "      <td>5</td>\n",
       "      <td>4</td>\n",
       "      <td>18037.359564</td>\n",
       "      <td>2019-05-21 08:37:46.287000+00:00</td>\n",
       "      <td>2019-05-21 08:37:46.328000+00:00</td>\n",
       "      <td>-0.041</td>\n",
       "    </tr>\n",
       "    <tr>\n",
       "      <th>2237</th>\n",
       "      <td>2237</td>\n",
       "      <td>2237</td>\n",
       "      <td>380.000</td>\n",
       "      <td>[18037.35957045139, 18037.35957045139, 18037.3...</td>\n",
       "      <td>[array([ -9400.6431487 ,  -9478.66260044,  -95...</td>\n",
       "      <td>[196, 196, 343, 277, 236, 196]</td>\n",
       "      <td>5</td>\n",
       "      <td>4</td>\n",
       "      <td>18037.359570</td>\n",
       "      <td>2019-05-21 08:37:46.887000+00:00</td>\n",
       "      <td>2019-05-21 08:37:46.927000+00:00</td>\n",
       "      <td>-0.040</td>\n",
       "    </tr>\n",
       "    <tr>\n",
       "      <th>2238</th>\n",
       "      <td>2238</td>\n",
       "      <td>2238</td>\n",
       "      <td>380.000</td>\n",
       "      <td>[18037.359578136577, 18037.359578252315, 18037...</td>\n",
       "      <td>[array([-11623.06758949, -11689.29486604, -116...</td>\n",
       "      <td>[187, 197, 341, 275, 234, 194]</td>\n",
       "      <td>5</td>\n",
       "      <td>4</td>\n",
       "      <td>18037.359578</td>\n",
       "      <td>2019-05-21 08:37:47.558000+00:00</td>\n",
       "      <td>2019-05-21 08:37:47.598000+00:00</td>\n",
       "      <td>-0.040</td>\n",
       "    </tr>\n",
       "    <tr>\n",
       "      <th>2239</th>\n",
       "      <td>2239</td>\n",
       "      <td>2239</td>\n",
       "      <td>379.125</td>\n",
       "      <td>[18037.35958925926, 18037.35958923611, 18037.3...</td>\n",
       "      <td>[array([ -9139.83532459,  -9207.91714552,  -92...</td>\n",
       "      <td>[199, 197, 345, 277, 238, 199]</td>\n",
       "      <td>5</td>\n",
       "      <td>4</td>\n",
       "      <td>18037.359589</td>\n",
       "      <td>2019-05-21 08:37:48.512000+00:00</td>\n",
       "      <td>2019-05-21 08:37:48.551000+00:00</td>\n",
       "      <td>-0.039</td>\n",
       "    </tr>\n",
       "    <tr>\n",
       "      <th>2240</th>\n",
       "      <td>2240</td>\n",
       "      <td>2240</td>\n",
       "      <td>377.375</td>\n",
       "      <td>[18037.35959912037, 18037.35959912037, 18037.3...</td>\n",
       "      <td>[array([ -9003.96182018,  -9082.45873021,  -91...</td>\n",
       "      <td>[199, 199, 318, 277, 236, 199]</td>\n",
       "      <td>5</td>\n",
       "      <td>4</td>\n",
       "      <td>18037.359599</td>\n",
       "      <td>2019-05-21 08:37:49.364000+00:00</td>\n",
       "      <td>2019-05-21 08:37:49.401000+00:00</td>\n",
       "      <td>-0.037</td>\n",
       "    </tr>\n",
       "  </tbody>\n",
       "</table>\n",
       "<p>2241 rows × 12 columns</p>\n",
       "</div>"
      ],
      "text/plain": [
       "      Unnamed: 0    id    depth  \\\n",
       "0              0     0  418.500   \n",
       "1              1     1  345.000   \n",
       "2              2     2  345.000   \n",
       "3              3     3  345.000   \n",
       "4              4     4  345.000   \n",
       "...          ...   ...      ...   \n",
       "2236        2236  2236  380.875   \n",
       "2237        2237  2237  380.000   \n",
       "2238        2238  2238  380.000   \n",
       "2239        2239  2239  379.125   \n",
       "2240        2240  2240  377.375   \n",
       "\n",
       "                                                  aic_t  \\\n",
       "0     [18037.31817321759, 18037.3181718287, 18037.31...   \n",
       "1     [18037.318188935187, 18037.318188599536, 18037...   \n",
       "2     [18037.31820296296, 18037.318202974537, 18037....   \n",
       "3     [18037.3182190625, 18037.31821888889, 18037.31...   \n",
       "4     [18037.31822136574, 18037.318221331017, 18037....   \n",
       "...                                                 ...   \n",
       "2236  [18037.359563506947, 18037.35956349537, 18037....   \n",
       "2237  [18037.35957045139, 18037.35957045139, 18037.3...   \n",
       "2238  [18037.359578136577, 18037.359578252315, 18037...   \n",
       "2239  [18037.35958925926, 18037.35958923611, 18037.3...   \n",
       "2240  [18037.35959912037, 18037.35959912037, 18037.3...   \n",
       "\n",
       "                                                   aics  \\\n",
       "0     [array([-11818.91953227, -11897.3554506 , -119...   \n",
       "1     [array([-11346.52726224, -11411.86588148, -114...   \n",
       "2     [array([-11737.2475554 , -11802.46226655, -118...   \n",
       "3     [array([-11913.51760689, -12003.97855731, -120...   \n",
       "4     [array([-11616.26915278, -11697.80976516, -117...   \n",
       "...                                                 ...   \n",
       "2236  [array([ -8390.57978124,  -8482.4006808 ,  -84...   \n",
       "2237  [array([ -9400.6431487 ,  -9478.66260044,  -95...   \n",
       "2238  [array([-11623.06758949, -11689.29486604, -116...   \n",
       "2239  [array([ -9139.83532459,  -9207.91714552,  -92...   \n",
       "2240  [array([ -9003.96182018,  -9082.45873021,  -91...   \n",
       "\n",
       "                           aic_maxes  first_hydrophone  second_hydrophone  \\\n",
       "0       [158, 38, 180, 225, 157, 73]                 5                  4   \n",
       "1       [198, 169, 198, 239, 77, 77]                 4                  5   \n",
       "2       [182, 183, 182, 227, 49, 49]                 4                  5   \n",
       "3       [186, 171, 184, 224, 32, 32]                 4                  5   \n",
       "4       [121, 118, 116, 109, 48, 48]                 4                  5   \n",
       "...                              ...               ...                ...   \n",
       "2236  [196, 195, 344, 276, 237, 196]                 5                  4   \n",
       "2237  [196, 196, 343, 277, 236, 196]                 5                  4   \n",
       "2238  [187, 197, 341, 275, 234, 194]                 5                  4   \n",
       "2239  [199, 197, 345, 277, 238, 199]                 5                  4   \n",
       "2240  [199, 199, 318, 277, 236, 199]                 5                  4   \n",
       "\n",
       "      arrival_time                     first_arrival  \\\n",
       "0     18037.318172  2019-05-21 07:38:10.081000+00:00   \n",
       "1     18037.318188  2019-05-21 07:38:11.403000+00:00   \n",
       "2     18037.318201  2019-05-21 07:38:12.603000+00:00   \n",
       "3     18037.318217  2019-05-21 07:38:13.973000+00:00   \n",
       "4     18037.318221  2019-05-21 07:38:14.253000+00:00   \n",
       "...            ...                               ...   \n",
       "2236  18037.359564  2019-05-21 08:37:46.287000+00:00   \n",
       "2237  18037.359570  2019-05-21 08:37:46.887000+00:00   \n",
       "2238  18037.359578  2019-05-21 08:37:47.558000+00:00   \n",
       "2239  18037.359589  2019-05-21 08:37:48.512000+00:00   \n",
       "2240  18037.359599  2019-05-21 08:37:49.364000+00:00   \n",
       "\n",
       "                        second_arrival     dt  \n",
       "0     2019-05-21 07:38:10.165000+00:00 -0.084  \n",
       "1     2019-05-21 07:38:11.403000+00:00  0.000  \n",
       "2     2019-05-21 07:38:12.603000+00:00  0.000  \n",
       "3     2019-05-21 07:38:13.973000+00:00  0.000  \n",
       "4     2019-05-21 07:38:14.253000+00:00  0.000  \n",
       "...                                ...    ...  \n",
       "2236  2019-05-21 08:37:46.328000+00:00 -0.041  \n",
       "2237  2019-05-21 08:37:46.927000+00:00 -0.040  \n",
       "2238  2019-05-21 08:37:47.598000+00:00 -0.040  \n",
       "2239  2019-05-21 08:37:48.551000+00:00 -0.039  \n",
       "2240  2019-05-21 08:37:49.401000+00:00 -0.037  \n",
       "\n",
       "[2241 rows x 12 columns]"
      ]
     },
     "execution_count": 3,
     "metadata": {},
     "output_type": "execute_result"
    }
   ],
   "source": [
    "df"
   ]
  },
  {
   "cell_type": "code",
   "execution_count": 4,
   "id": "f8dd23ba-4162-49e0-b9ae-11818bad0795",
   "metadata": {},
   "outputs": [
    {
     "name": "stdout",
     "output_type": "stream",
     "text": [
      "2019-05-21 08:19:20.841600+00:00\n"
     ]
    }
   ],
   "source": [
    "import matplotlib.dates as dates\n",
    "print(dates.num2date(18037.346769))"
   ]
  },
  {
   "cell_type": "code",
   "execution_count": 5,
   "id": "9e67014b-b32e-412d-9fc6-deb84541cded",
   "metadata": {},
   "outputs": [],
   "source": [
    "df.sort_values(by='first_arrival', inplace=True)"
   ]
  },
  {
   "cell_type": "code",
   "execution_count": 6,
   "id": "a0e53fdf-e18d-4c26-b90d-c278bebb9591",
   "metadata": {},
   "outputs": [],
   "source": [
    "from ast import literal_eval\n",
    "\n",
    "df['aic_t'] = df.aic_t.apply(literal_eval)"
   ]
  },
  {
   "cell_type": "code",
   "execution_count": 7,
   "id": "4d16be7c-db22-4fc2-818f-3be14bbfbf92",
   "metadata": {},
   "outputs": [
    {
     "data": {
      "text/plain": [
       "-0.036"
      ]
     },
     "execution_count": 7,
     "metadata": {},
     "output_type": "execute_result"
    }
   ],
   "source": [
    "(sorted([dates.num2date(t) for t in df.iloc[126].aic_t])[2] - sorted([dates.num2date(t) for t in df.iloc[126].aic_t])[3]).total_seconds()"
   ]
  },
  {
   "cell_type": "code",
   "execution_count": 8,
   "id": "d4909c10-2185-4e0f-87b2-8510081b731e",
   "metadata": {},
   "outputs": [
    {
     "data": {
      "text/plain": [
       "Unnamed: 0                                                         126\n",
       "id                                                                 126\n",
       "depth                                                            173.5\n",
       "aic_t                [18037.3200565625, 18037.3200565625, 18037.320...\n",
       "aics                 [array([-10990.60305658, -11060.42653897, -110...\n",
       "aic_maxes                               [199, 199, 199, 235, 276, 341]\n",
       "first_hydrophone                                                     2\n",
       "second_hydrophone                                                    3\n",
       "arrival_time                                              18037.320057\n",
       "first_arrival                         2019-05-21 07:40:52.887000+00:00\n",
       "second_arrival                        2019-05-21 07:40:52.923000+00:00\n",
       "dt                                                              -0.036\n",
       "Name: 126, dtype: object"
      ]
     },
     "execution_count": 8,
     "metadata": {},
     "output_type": "execute_result"
    }
   ],
   "source": [
    "df.iloc[126]"
   ]
  },
  {
   "cell_type": "code",
   "execution_count": 9,
   "id": "dcc72382-5a33-4a00-af1e-85b8de3a245d",
   "metadata": {},
   "outputs": [
    {
     "data": {
      "text/plain": [
       "<AxesSubplot:>"
      ]
     },
     "execution_count": 9,
     "metadata": {},
     "output_type": "execute_result"
    },
    {
     "data": {
      "image/png": "[encoded data removed]",
      "text/plain": [
       "<Figure size 432x288 with 1 Axes>"
      ]
     },
     "metadata": {
      "needs_background": "light"
     },
     "output_type": "display_data"
    }
   ],
   "source": [
    "df.first_hydrophone.hist()"
   ]
  },
  {
   "cell_type": "code",
   "execution_count": 10,
   "id": "f994c6db-4c86-4923-a684-075d66c86a49",
   "metadata": {},
   "outputs": [
    {
     "data": {
      "text/plain": [
       "133.5"
      ]
     },
     "execution_count": 10,
     "metadata": {},
     "output_type": "execute_result"
    }
   ],
   "source": [
    "35 - 0.5 * (-0.036) * 1750 * (2-3) + 130"
   ]
  },
  {
   "cell_type": "code",
   "execution_count": 11,
   "id": "e3731020-10c1-4a1e-8d97-3cca03d992d9",
   "metadata": {},
   "outputs": [
    {
     "data": {
      "text/plain": [
       "[18037.31817321759,\n",
       " 18037.3181718287,\n",
       " 18037.31817347222,\n",
       " 18037.318173993055,\n",
       " 18037.31817320602,\n",
       " 18037.318172233794]"
      ]
     },
     "execution_count": 11,
     "metadata": {},
     "output_type": "execute_result"
    }
   ],
   "source": [
    "df.iloc[0]['aic_t']"
   ]
  },
  {
   "cell_type": "code",
   "execution_count": 12,
   "id": "918ac53d-3410-400b-b743-a1482cb327f8",
   "metadata": {},
   "outputs": [],
   "source": [
    "df['arrival_datetime'] = df.arrival_time.apply(dates.num2date)"
   ]
  },
  {
   "cell_type": "code",
   "execution_count": 13,
   "id": "62adbbc4-ab8f-4e76-bb55-e9268a4b4727",
   "metadata": {},
   "outputs": [
    {
     "data": {
      "text/plain": [
       "0       418.500\n",
       "1       345.000\n",
       "2       345.000\n",
       "3       345.000\n",
       "4       345.000\n",
       "         ...   \n",
       "2236    380.875\n",
       "2237    380.000\n",
       "2238    380.000\n",
       "2239    379.125\n",
       "2240    377.375\n",
       "Name: depth, Length: 2241, dtype: float64"
      ]
     },
     "execution_count": 13,
     "metadata": {},
     "output_type": "execute_result"
    }
   ],
   "source": [
    "df.depth.dropna()"
   ]
  },
  {
   "cell_type": "code",
   "execution_count": 14,
   "id": "3c8b14e6-81b1-4378-bc97-c56cb57029e1",
   "metadata": {},
   "outputs": [
    {
     "data": {
      "text/plain": [
       "<AxesSubplot:>"
      ]
     },
     "execution_count": 14,
     "metadata": {},
     "output_type": "execute_result"
    },
    {
     "data": {
      "image/png": "[encoded data removed]",
      "text/plain": [
       "<Figure size 432x288 with 1 Axes>"
      ]
     },
     "metadata": {
      "needs_background": "light"
     },
     "output_type": "display_data"
    }
   ],
   "source": [
    "df.apply(lambda row: (dates.num2date(row['aic_t'][row['first_hydrophone']]) - dates.num2date(row['aic_t'][row['second_hydrophone']])).total_seconds(), axis=1).hist(bins=np.linspace(-0.05, 0.05, 100))"
   ]
  },
  {
   "cell_type": "code",
   "execution_count": 15,
   "id": "6ed27139-987e-49f9-ad3e-44c2d11d6cc1",
   "metadata": {},
   "outputs": [
    {
     "data": {
      "text/plain": [
       "(400.0, 50.0)"
      ]
     },
     "execution_count": 15,
     "metadata": {},
     "output_type": "execute_result"
    },
    {
     "data": {
      "image/png": "[encoded data removed]",
      "text/plain": [
       "<Figure size 1080x360 with 1 Axes>"
      ]
     },
     "metadata": {
      "needs_background": "light"
     },
     "output_type": "display_data"
    }
   ],
   "source": [
    "fig, ax = plt.subplots(figsize=(15, 5))\n",
    "# df.set_index('arrival_datetime').depth.plot(ax=ax, linewidth=0, marker='.', color='limegreen')\n",
    "\n",
    "ax.scatter(df.arrival_datetime, df.depth, marker='.', linewidth=0, c=df.first_hydrophone, cmap='cool')\n",
    "\n",
    "ax.set_ylim(400, 50)"
   ]
  },
  {
   "cell_type": "code",
   "execution_count": 16,
   "id": "b0662e29-f870-419c-82f9-ec7b9da89767",
   "metadata": {},
   "outputs": [],
   "source": [
    "paths = useful_variables.make_hydrophone_data_paths(borehole='a', year=2019, julian_day=141)\n",
    "waveforms = load.import_corrected_data_for_single_day(paths=paths)\n",
    "swarm_starttime = obspy.UTCDateTime('2019-05-21T07:30:00')\n",
    "swarm_endtime = obspy.UTCDateTime('2019-05-21T08:38:30')\n",
    "waveforms = waveforms.trim(starttime=swarm_starttime, endtime=swarm_endtime)"
   ]
  },
  {
   "cell_type": "code",
   "execution_count": 17,
   "id": "6857d77c-5332-41d3-b36d-71929370608b",
   "metadata": {},
   "outputs": [
    {
     "data": {
      "text/plain": [
       "6 Trace(s) in Stream:\n",
       "7F.A00.01.GDH | 2019-05-21T07:30:00.000000Z - 2019-05-21T08:38:30.000000Z | 1000.0 Hz, 4110001 samples\n",
       "7F.A00.02.GDH | 2019-05-21T07:30:00.000000Z - 2019-05-21T08:38:30.000000Z | 1000.0 Hz, 4110001 samples\n",
       "7F.A00.03.GDH | 2019-05-21T07:30:00.000000Z - 2019-05-21T08:38:30.000000Z | 1000.0 Hz, 4110001 samples\n",
       "7F.A00.04.GDH | 2019-05-21T07:30:00.000000Z - 2019-05-21T08:38:30.000000Z | 1000.0 Hz, 4110001 samples\n",
       "7F.A00.05.GDH | 2019-05-21T07:30:00.000000Z - 2019-05-21T08:38:30.000000Z | 1000.0 Hz, 4110001 samples\n",
       "7F.A00.06.GDH | 2019-05-21T07:30:00.000000Z - 2019-05-21T08:38:30.000000Z | 1000.0 Hz, 4110001 samples"
      ]
     },
     "execution_count": 17,
     "metadata": {},
     "output_type": "execute_result"
    }
   ],
   "source": [
    "waveforms"
   ]
  },
  {
   "cell_type": "code",
   "execution_count": 18,
   "id": "eedf38ff-090f-45d0-a425-48f0e8c01a06",
   "metadata": {},
   "outputs": [
    {
     "data": {
      "image/png": "[encoded data removed]",
      "text/plain": [
       "<Figure size 1080x720 with 2 Axes>"
      ]
     },
     "metadata": {
      "needs_background": "light"
     },
     "output_type": "display_data"
    }
   ],
   "source": [
    "fig, (ax, ax2)= plt.subplots(2, 1, figsize=(15, 10), sharex=True)\n",
    "\n",
    "\n",
    "ax.set_xlim(18037.308, 18037.365)\n",
    "\n",
    "metadata = pd.DataFrame(hydrophone_metadata).transpose()\n",
    "depths = metadata.depth.values\n",
    "hydrophones = metadata.index\n",
    "\n",
    "# plot text labeling traces\n",
    "for hphone, offset in zip(hydrophones, (0, 0, 0, 10, 20, 30)):\n",
    "    if hphone in ('h1', 'h2'):\n",
    "        pass\n",
    "    else:\n",
    "        props = dict(boxstyle='round', facecolor='white', alpha=0.5)\n",
    "        ax.text(s=hphone, x=18037.311, y=-offset-1, fontsize=15, bbox=props)\n",
    "\n",
    "# plot hydrophone diagram\n",
    "for d, hphone in zip(depths, hydrophones):\n",
    "    if hphone == 'h1':\n",
    "        pass\n",
    "    else:\n",
    "        props = dict(boxstyle='round', facecolor='white', alpha=0.5)\n",
    "        ax2.text(s=hphone, x=18037.3145, y=d, fontsize=15, bbox=props)\n",
    "        \n",
    "ax2.plot((18037.314,)*depths.shape[0], depths, color='black', marker='s')\n",
    "\n",
    "# depths taken from odp drilling report page 5 lithologic sequences\n",
    "ax2.fill_between(x=(18037.3095, 18037.312), y1=0.7, y2=161.87, color='lightgreen', alpha=0.75)\n",
    "ax2.fill_between(x=(18037.3095, 18037.312), y1=151.87, y2=401.94, color='darkgreen', alpha=0.75)\n",
    "\n",
    "props = dict(boxstyle='round', facecolor='white', alpha=1)\n",
    "ax2.text(s='dunite', x=18037.31035, y=130, bbox=props, rotation='vertical', fontsize=15)\n",
    "ax2.text(s='harzburgite', x=18037.31035, y=325, bbox=props, rotation='vertical', fontsize=15)\n",
    "ax2.text(s='Lithologic Sequences', x=18037.3085, y=390, rotation='vertical', fontsize=15)\n",
    "\n",
    "\n",
    "ax2.set_ylim(400, 50)\n",
    "ax2.set_ylabel('depth (m)', fontsize=15)\n",
    "\n",
    "\n",
    "ax.xaxis.set_major_formatter(plotting.PrecisionDateFormatter(\"%H:%M:%S.{ms}\"))\n",
    "ax.set_yticks([])\n",
    "\n",
    "def plot_with_selection(data, starttime, endtime, offset=0):\n",
    "    t = data.times('matplotlib')\n",
    "    d = data.data - offset\n",
    "    ax.plot(t, d, color='black', linewidth=0.5)\n",
    "    t_sel = data.slice(starttime=starttime, endtime=endtime).times('matplotlib')\n",
    "    d_sel = data.slice(starttime=starttime, endtime=endtime).data - offset\n",
    "    ax.plot(t_sel, d_sel, color='limegreen')\n",
    "    \n",
    "plot_with_selection(data=waveforms[2].copy(), starttime=hydrophone_metadata['h3']['start'], endtime=hydrophone_metadata['h3']['end'])\n",
    "plot_with_selection(data=waveforms[3].copy(), starttime=hydrophone_metadata['h4']['start'], endtime=hydrophone_metadata['h4']['end'], offset=10)\n",
    "plot_with_selection(data=waveforms[4].copy(), starttime=hydrophone_metadata['h5']['start'], endtime=hydrophone_metadata['h5']['end'], offset=20)\n",
    "plot_with_selection(data=waveforms[5].copy(), starttime=hydrophone_metadata['h6']['start'], endtime=hydrophone_metadata['h6']['end'], offset=30)\n",
    "\n",
    "ax2.scatter(df.arrival_datetime, df.depth, marker='.', linewidth=0, c=df.depth, vmin=150, vmax=400, cmap='cool')\n",
    "\n",
    "\n",
    "\n",
    "fig.tight_layout()\n",
    "# fig.savefig('plot1.pdf', bbox_inches='tight')"
   ]
  },
  {
   "cell_type": "code",
   "execution_count": 39,
   "id": "4c5b8682-63bb-4ce0-95b5-1e04023b1519",
   "metadata": {},
   "outputs": [
    {
     "data": {
      "text/plain": [
       "<AxesSubplot:>"
      ]
     },
     "execution_count": 39,
     "metadata": {},
     "output_type": "execute_result"
    },
    {
     "data": {
      "image/png": "[encoded data removed]",
      "text/plain": [
       "<Figure size 432x288 with 1 Axes>"
      ]
     },
     "metadata": {
      "needs_background": "light"
     },
     "output_type": "display_data"
    }
   ],
   "source": [
    "df.depth.hist(bins=np.linspace(150, 400, 100), grid=False)"
   ]
  },
  {
   "cell_type": "code",
   "execution_count": 56,
   "id": "0656607e-b382-440d-b96f-c39454fda3cd",
   "metadata": {},
   "outputs": [
    {
     "data": {
      "text/plain": [
       "<AxesSubplot:>"
      ]
     },
     "execution_count": 56,
     "metadata": {},
     "output_type": "execute_result"
    },
    {
     "data": {
      "image/png": "[encoded data removed]",
      "text/plain": [
       "<Figure size 432x288 with 1 Axes>"
      ]
     },
     "metadata": {
      "needs_background": "light"
     },
     "output_type": "display_data"
    }
   ],
   "source": [
    "df.first_arrival.apply(pd.to_datetime).diff().apply(lambda t: t.total_seconds()).hist(bins=np.linspace(0, 10, 100), log=True)"
   ]
  },
  {
   "cell_type": "code",
   "execution_count": null,
   "id": "a0768708-6a37-44f1-bf4b-9ca5c181a5d9",
   "metadata": {},
   "outputs": [],
   "source": [
    "# [(dates.num2date(t) - dates.num2date(t_total[0])).total_seconds() for t in t_total]"
   ]
  },
  {
   "cell_type": "code",
   "execution_count": null,
   "id": "3139f5f2-5d0a-4af7-ac0b-c2736bf96bf2",
   "metadata": {},
   "outputs": [],
   "source": []
  },
  {
   "cell_type": "code",
   "execution_count": null,
   "id": "f1bef096-dbac-4d36-9178-ba4c58bc56d1",
   "metadata": {},
   "outputs": [],
   "source": []
  },
  {
   "cell_type": "code",
   "execution_count": null,
   "id": "13162cc9-f257-4d39-8148-dc2df5b77a5b",
   "metadata": {},
   "outputs": [],
   "source": []
  },
  {
   "cell_type": "code",
   "execution_count": null,
   "id": "47eef173-2e13-41f9-a41b-77f891c2084e",
   "metadata": {},
   "outputs": [],
   "source": []
  },
  {
   "cell_type": "code",
   "execution_count": null,
   "id": "739d9473-a42b-4828-a7e6-74fdf0c0bdb3",
   "metadata": {},
   "outputs": [],
   "source": [
    "# fig, ax = plt.subplots(figsize=(15, 5))\n",
    "# # df.set_index('arrival_datetime').depth.plot(ax=ax, linewidth=0, marker='.', color='limegreen')\n",
    "\n",
    "# no_bad_picks = df[df.dt.between(-0.05, 0.05)]\n",
    "\n",
    "# cbar = ax.scatter(no_bad_picks.arrival_datetime, no_bad_picks.depth, marker='.', linewidth=0, c=no_bad_picks.dt, cmap='cool')\n",
    "# fig.colorbar(cbar)\n",
    "\n",
    "# import scipy.stats as stats\n",
    "\n",
    "# lr = stats.linregress(x=no_bad_picks.arrival_time, y=no_bad_picks.depth)\n",
    "# print(lr)\n",
    "# x = np.linspace(df.arrival_time.min(), df.arrival_time.max(), 1000)\n",
    "# y = lr.slope * x + 150\n",
    "# # x = np.array([dates.num2date(t) for t in x])\n",
    "\n",
    "# ax.plot(x, y)\n",
    "\n",
    "# ax.set_ylim(400, 50)"
   ]
  },
  {
   "cell_type": "code",
   "execution_count": null,
   "id": "c8029546-aa39-4651-a65b-6a4063525f6c",
   "metadata": {},
   "outputs": [],
   "source": [
    "# np.argsort(df.aic_t[251])"
   ]
  },
  {
   "cell_type": "code",
   "execution_count": null,
   "id": "eed676c8-fd88-49e0-b969-e65afa26f85e",
   "metadata": {},
   "outputs": [],
   "source": [
    "# fig, ax = plt.subplots(figsize=(15, 5))\n",
    "\n",
    "# ax.set_ylabel('depth (m)', fontsize=15)\n",
    "# ax.set_xlabel('Time since start (s)', fontsize=15)\n",
    "\n",
    "# data = df[df.depth.between(150, 400)].copy()\n",
    "# # data = df.copy()#[df.depth.between(150, 350)].copy()\n",
    "# data['diff'] = data.first_hydrophone - data.second_hydrophone\n",
    "# data = data[data['diff'].between(-1, 1)].copy()\n",
    "# data = data[50:]\n",
    "\n",
    "# x = data.first_arrival.astype('datetime64').reset_index().first_arrival\n",
    "# t_total = []\n",
    "# # for t in x:\n",
    "# #     for t2 in x[1:]:\n",
    "# #         print((t2 - t).total_seconds())\n",
    "# #         t_total.append((t2 -t).total_seconds())\n",
    "# for n, t in enumerate(x[1:]):\n",
    "#     n += 1\n",
    "#     t_total.append((t - x[n-1]).total_seconds())\n",
    "    \n",
    "# t_total = np.array(t_total)\n",
    "# t_total = t_total.cumsum()\n",
    "\n",
    "# # y = data.depth\n",
    "# yz = data.depth\n",
    "\n",
    "# # ax.plot(t_total, y[:-1], marker='.', linewidth=0, color='limegreen')\n",
    "\n",
    "# colors = {-3:'red', -2:'yellow', -1:'green',  1:'green',  2:'yellow',  3:'red'}\n",
    "# clrs = [colors[c] for c in (data.first_hydrophone - data.second_hydrophone).values]\n",
    "\n",
    "# for t, y, c in zip(t_total, yz[:-1], clrs):\n",
    "#     ax.plot(t, y, marker='.', linewidth=0, c=c)\n",
    "\n",
    "# # lr = stats.linregress(t_total, y[:-1])\n",
    "# lr = stats.linregress(t_total, yz[:-1])\n",
    "# print(lr)\n",
    "\n",
    "# xmod = np.linspace(t_total.min()-100, t_total.max()+100, 1000)\n",
    "# ymod = lr.slope * xmod + lr.intercept\n",
    "\n",
    "# ax.plot(xmod, ymod, color='red')\n",
    "# ax.set_ylim(400, 50)\n",
    "\n",
    "# depths = []\n",
    "# n = 1\n",
    "# for k in hydrophone_metadata.keys():\n",
    "#     d = hydrophone_metadata[k]['depth']\n",
    "#     depths.append(d)\n",
    "#     ax.text(s='h{n}'.format(n=n), x=-175, y=d)\n",
    "#     n += 1\n",
    "    \n",
    "# ax.plot((-100,)*len(depths), depths, color='black', marker='s')\n",
    "\n",
    "# ax.set_xlim(-250, 4200)"
   ]
  },
  {
   "cell_type": "code",
   "execution_count": null,
   "id": "ecff6618-329a-476e-8db0-405190e5a8d9",
   "metadata": {},
   "outputs": [],
   "source": [
    "paths = useful_variables.make_hydrophone_data_paths(borehole='a', year=2019, julian_day=141)\n",
    "waveforms = load.import_corrected_data_for_single_day(paths=paths)\n",
    "swarm_starttime = obspy.UTCDateTime('2019-05-21T07:30:00')\n",
    "swarm_endtime = obspy.UTCDateTime('2019-05-21T08:38:30')\n",
    "waveforms = waveforms.trim(starttime=swarm_starttime, endtime=swarm_endtime)"
   ]
  },
  {
   "cell_type": "code",
   "execution_count": null,
   "id": "0535f29c-3a24-4e43-a292-c37eb78fe49a",
   "metadata": {},
   "outputs": [],
   "source": [
    "# times = []\n",
    "# datas = []\n",
    "# for tr in reversed(waveforms):\n",
    "#     times.append(tr.times())\n",
    "#     datas.append(tr.data)"
   ]
  },
  {
   "cell_type": "code",
   "execution_count": null,
   "id": "995bd433-48e7-4437-9990-f2f4b27cb120",
   "metadata": {},
   "outputs": [],
   "source": [
    "# fig, (ax, ax2) = plt.subplots(2, 1, figsize=(15, 10), sharex=True)\n",
    "\n",
    "# n=0\n",
    "# for t, d in zip(times, datas):\n",
    "#     ax2.plot(t, d+10*n)\n",
    "#     n+=1\n",
    "\n",
    "# ax.set_ylabel('depth (m)', fontsize=15)\n",
    "# ax.set_xlabel('Time since start (s)', fontsize=15)\n",
    "\n",
    "# data = df[df.depth.between(150, 400)].copy()\n",
    "# # data['diff'] = data.first_hydrophone - data.second_hydrophone\n",
    "# # data = data[data['diff'].between(-1, 1)].copy()\n",
    "# # data = data[50:]\n",
    "\n",
    "# # calculates event time in seconds from beginning\n",
    "# t_total = pd.to_datetime(data.first_arrival).apply(obspy.UTCDateTime) - swarm_starttime\n",
    "\n",
    "# # x = data.first_arrival.astype('datetime64').reset_index().first_arrival\n",
    "# # t_total = []\n",
    "\n",
    "# # for n, t in enumerate(x[1:]):\n",
    "# #     n += 1\n",
    "# #     t_total.append((t - x[n-1]).total_seconds())\n",
    "    \n",
    "# # t_total = np.array(t_total)\n",
    "# # t_total = t_total.cumsum()\n",
    "\n",
    "# yz = data.depth\n",
    "\n",
    "# colors = {-3:'red', -2:'yellow', -1:'green',  1:'green',  2:'yellow',  3:'red'}\n",
    "# clrs = [colors[c] for c in (data.first_hydrophone - data.second_hydrophone).values]\n",
    "\n",
    "# for t, y, c in zip(t_total, yz[:-1], clrs):\n",
    "#     ax.plot(t, y, marker='.', linewidth=0, c=c)\n",
    "\n",
    "# # plot the best fit line\n",
    "# # lr = stats.linregress(t_total, yz[:-1])\n",
    "# # lr = stats.linregress(t_total, yz)\n",
    "# # print(lr)\n",
    "\n",
    "# # xmod = np.linspace(t_total.min()-100, t_total.max()+100, 1000)\n",
    "# # ymod = lr.slope * xmod + lr.intercept\n",
    "\n",
    "# # ax.plot(xmod, ymod, color='red')\n",
    "# ax.set_ylim(400, 50)\n",
    "\n",
    "# # plot the hydrophones on the left\n",
    "# depths = []\n",
    "# n = 1\n",
    "# for k in hydrophone_metadata.keys():\n",
    "#     d = hydrophone_metadata[k]['depth']\n",
    "#     depths.append(d)\n",
    "#     ax.text(s='h{n}'.format(n=n), x=-175, y=d)\n",
    "#     n += 1\n",
    "    \n",
    "# ax.plot((-100,)*len(depths), depths, color='black', marker='s')\n",
    "\n",
    "# ax.set_xlim(-250, 4200)\n",
    "\n",
    "# 4110.0 - (swarm_endtime - obspy.UTCDateTime('2019-05-21T08:07:00Z'))"
   ]
  },
  {
   "cell_type": "code",
   "execution_count": null,
   "id": "2270342c-9e8b-4a0b-b0bf-3c465f25ac49",
   "metadata": {},
   "outputs": [],
   "source": []
  },
  {
   "cell_type": "code",
   "execution_count": null,
   "id": "6f294868-391e-4e49-8cab-202ba297764e",
   "metadata": {},
   "outputs": [],
   "source": []
  },
  {
   "cell_type": "code",
   "execution_count": null,
   "id": "88a4b0b2-07dd-452c-9c6d-316f5b94e99a",
   "metadata": {},
   "outputs": [],
   "source": []
  },
  {
   "cell_type": "code",
   "execution_count": null,
   "id": "ddd4ed95-6557-4779-897f-86b4e386f725",
   "metadata": {},
   "outputs": [],
   "source": []
  },
  {
   "cell_type": "code",
   "execution_count": null,
   "id": "e9940a78-bbe3-41e9-b372-10f6c47a03f2",
   "metadata": {},
   "outputs": [],
   "source": []
  },
  {
   "cell_type": "code",
   "execution_count": null,
   "id": "3ff1dff6-68a9-4a6a-8aa4-3decbc47a5f3",
   "metadata": {},
   "outputs": [],
   "source": []
  },
  {
   "cell_type": "code",
   "execution_count": null,
   "id": "1fdee02d-c30f-4f71-a623-8a2db4b1f238",
   "metadata": {},
   "outputs": [],
   "source": []
  },
  {
   "cell_type": "code",
   "execution_count": null,
   "id": "6b7fe2aa-3d21-4f55-98b0-11a2fd66fcfd",
   "metadata": {},
   "outputs": [],
   "source": []
  }
 ],
 "metadata": {
  "kernelspec": {
   "display_name": "Python [conda env:borehole] *",
   "language": "python",
   "name": "conda-env-borehole-py"
  },
  "language_info": {
   "codemirror_mode": {
    "name": "ipython",
    "version": 3
   },
   "file_extension": ".py",
   "mimetype": "text/x-python",
   "name": "python",
   "nbconvert_exporter": "python",
   "pygments_lexer": "ipython3",
   "version": "3.8.12"
  }
 },
 "nbformat": 4,
 "nbformat_minor": 5
}
