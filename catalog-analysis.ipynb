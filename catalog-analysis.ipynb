{
 "cells": [
  {
   "cell_type": "code",
   "execution_count": 1,
   "id": "f3b906ae-1101-4315-807a-83ec81541bdf",
   "metadata": {},
   "outputs": [],
   "source": [
    "%matplotlib inline\n",
    "import matplotlib.pyplot as plt\n",
    "import numpy as np\n",
    "import pandas as pd\n",
    "import matplotlib.dates as dates\n",
    "import obspy\n",
    "from hydrophone_data_processing import load, useful_variables, plotting, signal_processing\n",
    "import event_detector_pipeline as edp\n",
    "\n",
    "hydrophone_metadata = {\n",
    "    'h1':{\n",
    "        # start and end identifies the start time of the swarm where the amplitude magnitude is the highest\n",
    "        'start':obspy.UTCDateTime('2019-05-21T07:35:00Z')\n",
    "        ,'end':obspy.UTCDateTime('2019-5-21T07:48:00Z')\n",
    "       # obspy_idx is the index within the stream for this data (all data is sorted from top to bottom of the borehole this way in lists)\n",
    "        ,'obspy_idx':0\n",
    "        # depth of the hydrophone\n",
    "        ,'depth':30\n",
    "        ,'velocity_model':1750\n",
    "    }\n",
    "    ,    'h2':{\n",
    "        'start':obspy.UTCDateTime('2019-05-21T07:35:00Z')\n",
    "        ,'end':obspy.UTCDateTime('2019-5-21T07:48:00Z')\n",
    "        ,'obspy_idx':1\n",
    "        ,'depth':100        \n",
    "        ,'velocity_model':1750\n",
    "\n",
    "    }\n",
    "    ,    'h3':{\n",
    "        'start':obspy.UTCDateTime('2019-05-21T07:35:00Z')\n",
    "        ,'end':obspy.UTCDateTime('2019-5-21T07:48:00Z')\n",
    "        ,'obspy_idx':2\n",
    "        ,'depth':170        \n",
    "        ,'velocity_model':1750\n",
    "\n",
    "    }\n",
    "    ,'h4':{\n",
    "        'start':obspy.UTCDateTime('2019-05-21T07:48:00Z')\n",
    "        ,'end':obspy.UTCDateTime('2019-5-21T08:07:00Z')\n",
    "        ,'obspy_idx':3\n",
    "        ,'depth':240\n",
    "        ,'velocity_model':1750\n",
    "    }\n",
    "    ,'h5':{\n",
    "        'start':obspy.UTCDateTime('2019-05-21T08:07:00Z')\n",
    "        # ,'end':obspy.UTCDateTime('2019-5-21T08:34:00Z')\n",
    "        ,'end':obspy.UTCDateTime('2019-5-21T08:38:00Z')\n",
    "        ,'obspy_idx':4\n",
    "        ,'depth':310\n",
    "        ,'velocity_model':1750\n",
    "    }\n",
    "    ,'h6':{\n",
    "        'start':obspy.UTCDateTime('2019-05-21T08:34:00Z')\n",
    "        ,'end':obspy.UTCDateTime('2019-5-21T08:38:00Z')\n",
    "       ,'obspy_idx':5\n",
    "        ,'depth':380\n",
    "        ,'velocity_model':1750\n",
    "    }\n",
    "}"
   ]
  },
  {
   "cell_type": "code",
   "execution_count": 2,
   "id": "f6b916cf-dbad-4d60-8c88-ab7e32e2f9ad",
   "metadata": {},
   "outputs": [],
   "source": [
    "# df = pd.read_csv('hmmm.csv')\n",
    "df = pd.read_csv('precision.csv')"
   ]
  },
  {
   "cell_type": "code",
   "execution_count": 3,
   "id": "c61a4d7b-fea2-4a64-982a-91444e5eb57d",
   "metadata": {},
   "outputs": [
    {
     "data": {
      "text/html": [
       "<div>\n",
       "<style scoped>\n",
       "    .dataframe tbody tr th:only-of-type {\n",
       "        vertical-align: middle;\n",
       "    }\n",
       "\n",
       "    .dataframe tbody tr th {\n",
       "        vertical-align: top;\n",
       "    }\n",
       "\n",
       "    .dataframe thead th {\n",
       "        text-align: right;\n",
       "    }\n",
       "</style>\n",
       "<table border=\"1\" class=\"dataframe\">\n",
       "  <thead>\n",
       "    <tr style=\"text-align: right;\">\n",
       "      <th></th>\n",
       "      <th>Unnamed: 0</th>\n",
       "      <th>id</th>\n",
       "      <th>depth</th>\n",
       "      <th>aic_t</th>\n",
       "      <th>first_hydrophone</th>\n",
       "      <th>second_hydrophone</th>\n",
       "      <th>arrival_time</th>\n",
       "      <th>first_arrival</th>\n",
       "      <th>second_arrival</th>\n",
       "      <th>dt</th>\n",
       "    </tr>\n",
       "  </thead>\n",
       "  <tbody>\n",
       "    <tr>\n",
       "      <th>0</th>\n",
       "      <td>0</td>\n",
       "      <td>0</td>\n",
       "      <td>418.500</td>\n",
       "      <td>[18037.31817321759, 18037.3181718287, 18037.31...</td>\n",
       "      <td>5</td>\n",
       "      <td>4</td>\n",
       "      <td>18037.318172</td>\n",
       "      <td>2019-05-21 07:38:10.081000+00:00</td>\n",
       "      <td>2019-05-21 07:38:10.165000+00:00</td>\n",
       "      <td>-0.084</td>\n",
       "    </tr>\n",
       "    <tr>\n",
       "      <th>1</th>\n",
       "      <td>1</td>\n",
       "      <td>1</td>\n",
       "      <td>345.000</td>\n",
       "      <td>[18037.318188935187, 18037.318188599536, 18037...</td>\n",
       "      <td>4</td>\n",
       "      <td>5</td>\n",
       "      <td>18037.318188</td>\n",
       "      <td>2019-05-21 07:38:11.403000+00:00</td>\n",
       "      <td>2019-05-21 07:38:11.403000+00:00</td>\n",
       "      <td>0.000</td>\n",
       "    </tr>\n",
       "    <tr>\n",
       "      <th>2</th>\n",
       "      <td>2</td>\n",
       "      <td>2</td>\n",
       "      <td>345.000</td>\n",
       "      <td>[18037.31820296296, 18037.318202974537, 18037....</td>\n",
       "      <td>4</td>\n",
       "      <td>5</td>\n",
       "      <td>18037.318201</td>\n",
       "      <td>2019-05-21 07:38:12.603000+00:00</td>\n",
       "      <td>2019-05-21 07:38:12.603000+00:00</td>\n",
       "      <td>0.000</td>\n",
       "    </tr>\n",
       "    <tr>\n",
       "      <th>3</th>\n",
       "      <td>3</td>\n",
       "      <td>3</td>\n",
       "      <td>345.000</td>\n",
       "      <td>[18037.3182190625, 18037.31821888889, 18037.31...</td>\n",
       "      <td>4</td>\n",
       "      <td>5</td>\n",
       "      <td>18037.318217</td>\n",
       "      <td>2019-05-21 07:38:13.973000+00:00</td>\n",
       "      <td>2019-05-21 07:38:13.973000+00:00</td>\n",
       "      <td>0.000</td>\n",
       "    </tr>\n",
       "    <tr>\n",
       "      <th>4</th>\n",
       "      <td>4</td>\n",
       "      <td>4</td>\n",
       "      <td>345.000</td>\n",
       "      <td>[18037.31822136574, 18037.318221331017, 18037....</td>\n",
       "      <td>4</td>\n",
       "      <td>5</td>\n",
       "      <td>18037.318221</td>\n",
       "      <td>2019-05-21 07:38:14.253000+00:00</td>\n",
       "      <td>2019-05-21 07:38:14.253000+00:00</td>\n",
       "      <td>0.000</td>\n",
       "    </tr>\n",
       "    <tr>\n",
       "      <th>...</th>\n",
       "      <td>...</td>\n",
       "      <td>...</td>\n",
       "      <td>...</td>\n",
       "      <td>...</td>\n",
       "      <td>...</td>\n",
       "      <td>...</td>\n",
       "      <td>...</td>\n",
       "      <td>...</td>\n",
       "      <td>...</td>\n",
       "      <td>...</td>\n",
       "    </tr>\n",
       "    <tr>\n",
       "      <th>2236</th>\n",
       "      <td>2236</td>\n",
       "      <td>2236</td>\n",
       "      <td>380.875</td>\n",
       "      <td>[18037.359563506947, 18037.35956349537, 18037....</td>\n",
       "      <td>5</td>\n",
       "      <td>4</td>\n",
       "      <td>18037.359564</td>\n",
       "      <td>2019-05-21 08:37:46.287000+00:00</td>\n",
       "      <td>2019-05-21 08:37:46.328000+00:00</td>\n",
       "      <td>-0.041</td>\n",
       "    </tr>\n",
       "    <tr>\n",
       "      <th>2237</th>\n",
       "      <td>2237</td>\n",
       "      <td>2237</td>\n",
       "      <td>380.000</td>\n",
       "      <td>[18037.35957045139, 18037.35957045139, 18037.3...</td>\n",
       "      <td>5</td>\n",
       "      <td>4</td>\n",
       "      <td>18037.359570</td>\n",
       "      <td>2019-05-21 08:37:46.887000+00:00</td>\n",
       "      <td>2019-05-21 08:37:46.927000+00:00</td>\n",
       "      <td>-0.040</td>\n",
       "    </tr>\n",
       "    <tr>\n",
       "      <th>2238</th>\n",
       "      <td>2238</td>\n",
       "      <td>2238</td>\n",
       "      <td>380.000</td>\n",
       "      <td>[18037.359578136577, 18037.359578252315, 18037...</td>\n",
       "      <td>5</td>\n",
       "      <td>4</td>\n",
       "      <td>18037.359578</td>\n",
       "      <td>2019-05-21 08:37:47.558000+00:00</td>\n",
       "      <td>2019-05-21 08:37:47.598000+00:00</td>\n",
       "      <td>-0.040</td>\n",
       "    </tr>\n",
       "    <tr>\n",
       "      <th>2239</th>\n",
       "      <td>2239</td>\n",
       "      <td>2239</td>\n",
       "      <td>379.125</td>\n",
       "      <td>[18037.35958925926, 18037.35958923611, 18037.3...</td>\n",
       "      <td>5</td>\n",
       "      <td>4</td>\n",
       "      <td>18037.359589</td>\n",
       "      <td>2019-05-21 08:37:48.512000+00:00</td>\n",
       "      <td>2019-05-21 08:37:48.551000+00:00</td>\n",
       "      <td>-0.039</td>\n",
       "    </tr>\n",
       "    <tr>\n",
       "      <th>2240</th>\n",
       "      <td>2240</td>\n",
       "      <td>2240</td>\n",
       "      <td>377.375</td>\n",
       "      <td>[18037.35959912037, 18037.35959912037, 18037.3...</td>\n",
       "      <td>5</td>\n",
       "      <td>4</td>\n",
       "      <td>18037.359599</td>\n",
       "      <td>2019-05-21 08:37:49.364000+00:00</td>\n",
       "      <td>2019-05-21 08:37:49.401000+00:00</td>\n",
       "      <td>-0.037</td>\n",
       "    </tr>\n",
       "  </tbody>\n",
       "</table>\n",
       "<p>2241 rows × 10 columns</p>\n",
       "</div>"
      ],
      "text/plain": [
       "      Unnamed: 0    id    depth  \\\n",
       "0              0     0  418.500   \n",
       "1              1     1  345.000   \n",
       "2              2     2  345.000   \n",
       "3              3     3  345.000   \n",
       "4              4     4  345.000   \n",
       "...          ...   ...      ...   \n",
       "2236        2236  2236  380.875   \n",
       "2237        2237  2237  380.000   \n",
       "2238        2238  2238  380.000   \n",
       "2239        2239  2239  379.125   \n",
       "2240        2240  2240  377.375   \n",
       "\n",
       "                                                  aic_t  first_hydrophone  \\\n",
       "0     [18037.31817321759, 18037.3181718287, 18037.31...                 5   \n",
       "1     [18037.318188935187, 18037.318188599536, 18037...                 4   \n",
       "2     [18037.31820296296, 18037.318202974537, 18037....                 4   \n",
       "3     [18037.3182190625, 18037.31821888889, 18037.31...                 4   \n",
       "4     [18037.31822136574, 18037.318221331017, 18037....                 4   \n",
       "...                                                 ...               ...   \n",
       "2236  [18037.359563506947, 18037.35956349537, 18037....                 5   \n",
       "2237  [18037.35957045139, 18037.35957045139, 18037.3...                 5   \n",
       "2238  [18037.359578136577, 18037.359578252315, 18037...                 5   \n",
       "2239  [18037.35958925926, 18037.35958923611, 18037.3...                 5   \n",
       "2240  [18037.35959912037, 18037.35959912037, 18037.3...                 5   \n",
       "\n",
       "      second_hydrophone  arrival_time                     first_arrival  \\\n",
       "0                     4  18037.318172  2019-05-21 07:38:10.081000+00:00   \n",
       "1                     5  18037.318188  2019-05-21 07:38:11.403000+00:00   \n",
       "2                     5  18037.318201  2019-05-21 07:38:12.603000+00:00   \n",
       "3                     5  18037.318217  2019-05-21 07:38:13.973000+00:00   \n",
       "4                     5  18037.318221  2019-05-21 07:38:14.253000+00:00   \n",
       "...                 ...           ...                               ...   \n",
       "2236                  4  18037.359564  2019-05-21 08:37:46.287000+00:00   \n",
       "2237                  4  18037.359570  2019-05-21 08:37:46.887000+00:00   \n",
       "2238                  4  18037.359578  2019-05-21 08:37:47.558000+00:00   \n",
       "2239                  4  18037.359589  2019-05-21 08:37:48.512000+00:00   \n",
       "2240                  4  18037.359599  2019-05-21 08:37:49.364000+00:00   \n",
       "\n",
       "                        second_arrival     dt  \n",
       "0     2019-05-21 07:38:10.165000+00:00 -0.084  \n",
       "1     2019-05-21 07:38:11.403000+00:00  0.000  \n",
       "2     2019-05-21 07:38:12.603000+00:00  0.000  \n",
       "3     2019-05-21 07:38:13.973000+00:00  0.000  \n",
       "4     2019-05-21 07:38:14.253000+00:00  0.000  \n",
       "...                                ...    ...  \n",
       "2236  2019-05-21 08:37:46.328000+00:00 -0.041  \n",
       "2237  2019-05-21 08:37:46.927000+00:00 -0.040  \n",
       "2238  2019-05-21 08:37:47.598000+00:00 -0.040  \n",
       "2239  2019-05-21 08:37:48.551000+00:00 -0.039  \n",
       "2240  2019-05-21 08:37:49.401000+00:00 -0.037  \n",
       "\n",
       "[2241 rows x 10 columns]"
      ]
     },
     "execution_count": 3,
     "metadata": {},
     "output_type": "execute_result"
    }
   ],
   "source": [
    "df"
   ]
  },
  {
   "cell_type": "code",
   "execution_count": 4,
   "id": "f8dd23ba-4162-49e0-b9ae-11818bad0795",
   "metadata": {},
   "outputs": [
    {
     "name": "stdout",
     "output_type": "stream",
     "text": [
      "2019-05-21 08:19:20.841600+00:00\n"
     ]
    }
   ],
   "source": [
    "import matplotlib.dates as dates\n",
    "print(dates.num2date(18037.346769))"
   ]
  },
  {
   "cell_type": "code",
   "execution_count": 5,
   "id": "9e67014b-b32e-412d-9fc6-deb84541cded",
   "metadata": {},
   "outputs": [],
   "source": [
    "df.sort_values(by='first_arrival', inplace=True)"
   ]
  },
  {
   "cell_type": "code",
   "execution_count": 6,
   "id": "a0e53fdf-e18d-4c26-b90d-c278bebb9591",
   "metadata": {},
   "outputs": [],
   "source": [
    "from ast import literal_eval\n",
    "\n",
    "df['aic_t'] = df.aic_t.apply(literal_eval)"
   ]
  },
  {
   "cell_type": "code",
   "execution_count": 7,
   "id": "4d16be7c-db22-4fc2-818f-3be14bbfbf92",
   "metadata": {},
   "outputs": [
    {
     "data": {
      "text/plain": [
       "-0.036"
      ]
     },
     "execution_count": 7,
     "metadata": {},
     "output_type": "execute_result"
    }
   ],
   "source": [
    "(sorted([dates.num2date(t) for t in df.iloc[126].aic_t])[2] - sorted([dates.num2date(t) for t in df.iloc[126].aic_t])[3]).total_seconds()"
   ]
  },
  {
   "cell_type": "code",
   "execution_count": 8,
   "id": "d4909c10-2185-4e0f-87b2-8510081b731e",
   "metadata": {},
   "outputs": [
    {
     "data": {
      "text/plain": [
       "Unnamed: 0                                                         126\n",
       "id                                                                 126\n",
       "depth                                                            173.5\n",
       "aic_t                [18037.3200565625, 18037.3200565625, 18037.320...\n",
       "first_hydrophone                                                     2\n",
       "second_hydrophone                                                    3\n",
       "arrival_time                                              18037.320057\n",
       "first_arrival                         2019-05-21 07:40:52.887000+00:00\n",
       "second_arrival                        2019-05-21 07:40:52.923000+00:00\n",
       "dt                                                              -0.036\n",
       "Name: 126, dtype: object"
      ]
     },
     "execution_count": 8,
     "metadata": {},
     "output_type": "execute_result"
    }
   ],
   "source": [
    "df.iloc[126]"
   ]
  },
  {
   "cell_type": "code",
   "execution_count": 9,
   "id": "dcc72382-5a33-4a00-af1e-85b8de3a245d",
   "metadata": {},
   "outputs": [
    {
     "data": {
      "text/plain": [
       "<AxesSubplot:>"
      ]
     },
     "execution_count": 9,
     "metadata": {},
     "output_type": "execute_result"
    },
    {
     "data": {
      "image/png": "[encoded data removed]",
      "text/plain": [
       "<Figure size 432x288 with 1 Axes>"
      ]
     },
     "metadata": {
      "needs_background": "light"
     },
     "output_type": "display_data"
    }
   ],
   "source": [
    "df.first_hydrophone.hist()"
   ]
  },
  {
   "cell_type": "code",
   "execution_count": 10,
   "id": "f994c6db-4c86-4923-a684-075d66c86a49",
   "metadata": {},
   "outputs": [
    {
     "data": {
      "text/plain": [
       "133.5"
      ]
     },
     "execution_count": 10,
     "metadata": {},
     "output_type": "execute_result"
    }
   ],
   "source": [
    "35 - 0.5 * (-0.036) * 1750 * (2-3) + 130"
   ]
  },
  {
   "cell_type": "code",
   "execution_count": 11,
   "id": "e3731020-10c1-4a1e-8d97-3cca03d992d9",
   "metadata": {},
   "outputs": [
    {
     "data": {
      "text/plain": [
       "[18037.31817321759,\n",
       " 18037.3181718287,\n",
       " 18037.31817347222,\n",
       " 18037.318173993055,\n",
       " 18037.31817320602,\n",
       " 18037.318172233794]"
      ]
     },
     "execution_count": 11,
     "metadata": {},
     "output_type": "execute_result"
    }
   ],
   "source": [
    "df.iloc[0]['aic_t']"
   ]
  },
  {
   "cell_type": "code",
   "execution_count": 12,
   "id": "918ac53d-3410-400b-b743-a1482cb327f8",
   "metadata": {},
   "outputs": [],
   "source": [
    "df['arrival_datetime'] = df.arrival_time.apply(dates.num2date)"
   ]
  },
  {
   "cell_type": "code",
   "execution_count": 13,
   "id": "62adbbc4-ab8f-4e76-bb55-e9268a4b4727",
   "metadata": {},
   "outputs": [
    {
     "data": {
      "text/plain": [
       "0       418.500\n",
       "1       345.000\n",
       "2       345.000\n",
       "3       345.000\n",
       "4       345.000\n",
       "         ...   \n",
       "2236    380.875\n",
       "2237    380.000\n",
       "2238    380.000\n",
       "2239    379.125\n",
       "2240    377.375\n",
       "Name: depth, Length: 2241, dtype: float64"
      ]
     },
     "execution_count": 13,
     "metadata": {},
     "output_type": "execute_result"
    }
   ],
   "source": [
    "df.depth.dropna()"
   ]
  },
  {
   "cell_type": "code",
   "execution_count": 14,
   "id": "3c8b14e6-81b1-4378-bc97-c56cb57029e1",
   "metadata": {},
   "outputs": [
    {
     "data": {
      "text/plain": [
       "<AxesSubplot:>"
      ]
     },
     "execution_count": 14,
     "metadata": {},
     "output_type": "execute_result"
    },
    {
     "data": {
      "image/png": "[encoded data removed]",
      "text/plain": [
       "<Figure size 432x288 with 1 Axes>"
      ]
     },
     "metadata": {
      "needs_background": "light"
     },
     "output_type": "display_data"
    }
   ],
   "source": [
    "df.apply(lambda row: (dates.num2date(row['aic_t'][row['first_hydrophone']]) - dates.num2date(row['aic_t'][row['second_hydrophone']])).total_seconds(), axis=1).hist(bins=np.linspace(-0.05, 0.05, 100))"
   ]
  },
  {
   "cell_type": "code",
   "execution_count": 15,
   "id": "6ed27139-987e-49f9-ad3e-44c2d11d6cc1",
   "metadata": {},
   "outputs": [
    {
     "data": {
      "text/plain": [
       "(400.0, 50.0)"
      ]
     },
     "execution_count": 15,
     "metadata": {},
     "output_type": "execute_result"
    },
    {
     "data": {
      "image/png": "[encoded data removed]",
      "text/plain": [
       "<Figure size 1080x360 with 1 Axes>"
      ]
     },
     "metadata": {
      "needs_background": "light"
     },
     "output_type": "display_data"
    }
   ],
   "source": [
    "fig, ax = plt.subplots(figsize=(15, 5))\n",
    "# df.set_index('arrival_datetime').depth.plot(ax=ax, linewidth=0, marker='.', color='limegreen')\n",
    "\n",
    "ax.scatter(df.arrival_datetime, df.depth, marker='.', linewidth=0, c=df.first_hydrophone, cmap='cool')\n",
    "\n",
    "ax.set_ylim(400, 50)"
   ]
  },
  {
   "cell_type": "code",
   "execution_count": 16,
   "id": "739d9473-a42b-4828-a7e6-74fdf0c0bdb3",
   "metadata": {},
   "outputs": [
    {
     "name": "stdout",
     "output_type": "stream",
     "text": [
      "LinregressResult(slope=4353.202792307352, intercept=-78519920.7575573, rvalue=0.8415571252241868, pvalue=0.0, stderr=61.74322015969902, intercept_stderr=1113683.5159080673)\n"
     ]
    },
    {
     "data": {
      "text/plain": [
       "(400.0, 50.0)"
      ]
     },
     "execution_count": 16,
     "metadata": {},
     "output_type": "execute_result"
    },
    {
     "data": {
      "image/png": "[encoded data removed]",
      "text/plain": [
       "<Figure size 1080x360 with 2 Axes>"
      ]
     },
     "metadata": {
      "needs_background": "light"
     },
     "output_type": "display_data"
    }
   ],
   "source": [
    "fig, ax = plt.subplots(figsize=(15, 5))\n",
    "# df.set_index('arrival_datetime').depth.plot(ax=ax, linewidth=0, marker='.', color='limegreen')\n",
    "\n",
    "no_bad_picks = df[df.dt.between(-0.05, 0.05)]\n",
    "\n",
    "cbar = ax.scatter(no_bad_picks.arrival_datetime, no_bad_picks.depth, marker='.', linewidth=0, c=no_bad_picks.dt, cmap='cool')\n",
    "fig.colorbar(cbar)\n",
    "\n",
    "import scipy.stats as stats\n",
    "\n",
    "lr = stats.linregress(x=no_bad_picks.arrival_time, y=no_bad_picks.depth)\n",
    "print(lr)\n",
    "x = np.linspace(df.arrival_time.min(), df.arrival_time.max(), 1000)\n",
    "y = lr.slope * x + 150\n",
    "# x = np.array([dates.num2date(t) for t in x])\n",
    "\n",
    "ax.plot(x, y)\n",
    "\n",
    "ax.set_ylim(400, 50)"
   ]
  },
  {
   "cell_type": "code",
   "execution_count": 17,
   "id": "c8029546-aa39-4651-a65b-6a4063525f6c",
   "metadata": {},
   "outputs": [
    {
     "data": {
      "text/plain": [
       "array([0, 1, 2, 3, 4, 5])"
      ]
     },
     "execution_count": 17,
     "metadata": {},
     "output_type": "execute_result"
    }
   ],
   "source": [
    "np.argsort(df.aic_t[251])"
   ]
  },
  {
   "cell_type": "code",
   "execution_count": 18,
   "id": "eed676c8-fd88-49e0-b969-e65afa26f85e",
   "metadata": {},
   "outputs": [
    {
     "name": "stdout",
     "output_type": "stream",
     "text": [
      "LinregressResult(slope=0.056612038943003644, intercept=173.48848820249975, rvalue=0.9434784899610543, pvalue=0.0, stderr=0.0004538610633186641, intercept_stderr=1.0209122390595111)\n"
     ]
    },
    {
     "data": {
      "text/plain": [
       "(-250.0, 4200.0)"
      ]
     },
     "execution_count": 18,
     "metadata": {},
     "output_type": "execute_result"
    },
    {
     "data": {
      "image/png": "[encoded data removed]",
      "text/plain": [
       "<Figure size 1080x360 with 1 Axes>"
      ]
     },
     "metadata": {
      "needs_background": "light"
     },
     "output_type": "display_data"
    }
   ],
   "source": [
    "fig, ax = plt.subplots(figsize=(15, 5))\n",
    "\n",
    "ax.set_ylabel('depth (m)', fontsize=15)\n",
    "ax.set_xlabel('Time since start (s)', fontsize=15)\n",
    "\n",
    "data = df[df.depth.between(150, 400)].copy()\n",
    "# data = df.copy()#[df.depth.between(150, 350)].copy()\n",
    "data['diff'] = data.first_hydrophone - data.second_hydrophone\n",
    "data = data[data['diff'].between(-1, 1)].copy()\n",
    "data = data[50:]\n",
    "\n",
    "x = data.first_arrival.astype('datetime64').reset_index().first_arrival\n",
    "t_total = []\n",
    "# for t in x:\n",
    "#     for t2 in x[1:]:\n",
    "#         print((t2 - t).total_seconds())\n",
    "#         t_total.append((t2 -t).total_seconds())\n",
    "for n, t in enumerate(x[1:]):\n",
    "    n += 1\n",
    "    t_total.append((t - x[n-1]).total_seconds())\n",
    "    \n",
    "t_total = np.array(t_total)\n",
    "t_total = t_total.cumsum()\n",
    "\n",
    "# y = data.depth\n",
    "yz = data.depth\n",
    "\n",
    "# ax.plot(t_total, y[:-1], marker='.', linewidth=0, color='limegreen')\n",
    "\n",
    "colors = {-3:'red', -2:'yellow', -1:'green',  1:'green',  2:'yellow',  3:'red'}\n",
    "clrs = [colors[c] for c in (data.first_hydrophone - data.second_hydrophone).values]\n",
    "\n",
    "for t, y, c in zip(t_total, yz[:-1], clrs):\n",
    "    ax.plot(t, y, marker='.', linewidth=0, c=c)\n",
    "\n",
    "# lr = stats.linregress(t_total, y[:-1])\n",
    "lr = stats.linregress(t_total, yz[:-1])\n",
    "print(lr)\n",
    "\n",
    "xmod = np.linspace(t_total.min()-100, t_total.max()+100, 1000)\n",
    "ymod = lr.slope * xmod + lr.intercept\n",
    "\n",
    "ax.plot(xmod, ymod, color='red')\n",
    "ax.set_ylim(400, 50)\n",
    "\n",
    "depths = []\n",
    "n = 1\n",
    "for k in hydrophone_metadata.keys():\n",
    "    d = hydrophone_metadata[k]['depth']\n",
    "    depths.append(d)\n",
    "    ax.text(s='h{n}'.format(n=n), x=-175, y=d)\n",
    "    n += 1\n",
    "    \n",
    "ax.plot((-100,)*len(depths), depths, color='black', marker='s')\n",
    "\n",
    "ax.set_xlim(-250, 4200)"
   ]
  },
  {
   "cell_type": "code",
   "execution_count": 19,
   "id": "ecff6618-329a-476e-8db0-405190e5a8d9",
   "metadata": {},
   "outputs": [],
   "source": [
    "paths = useful_variables.make_hydrophone_data_paths(borehole='a', year=2019, julian_day=141)\n",
    "waveforms = load.import_corrected_data_for_single_day(paths=paths)\n",
    "swarm_starttime = obspy.UTCDateTime('2019-05-21T07:30:00')\n",
    "swarm_endtime = obspy.UTCDateTime('2019-05-21T08:38:30')\n",
    "waveforms = waveforms.trim(starttime=swarm_starttime, endtime=swarm_endtime)"
   ]
  },
  {
   "cell_type": "code",
   "execution_count": 20,
   "id": "0535f29c-3a24-4e43-a292-c37eb78fe49a",
   "metadata": {},
   "outputs": [],
   "source": [
    "times = []\n",
    "datas = []\n",
    "for tr in reversed(waveforms):\n",
    "    times.append(tr.times())\n",
    "    datas.append(tr.data)"
   ]
  },
  {
   "cell_type": "code",
   "execution_count": 21,
   "id": "995bd433-48e7-4437-9990-f2f4b27cb120",
   "metadata": {},
   "outputs": [
    {
     "data": {
      "text/plain": [
       "2220.0"
      ]
     },
     "execution_count": 21,
     "metadata": {},
     "output_type": "execute_result"
    },
    {
     "data": {
      "image/png": "[encoded data removed]",
      "text/plain": [
       "<Figure size 1080x720 with 2 Axes>"
      ]
     },
     "metadata": {
      "needs_background": "light"
     },
     "output_type": "display_data"
    }
   ],
   "source": [
    "fig, (ax, ax2) = plt.subplots(2, 1, figsize=(15, 10), sharex=True)\n",
    "\n",
    "n=0\n",
    "for t, d in zip(times, datas):\n",
    "    ax2.plot(t, d+10*n)\n",
    "    n+=1\n",
    "\n",
    "ax.set_ylabel('depth (m)', fontsize=15)\n",
    "ax.set_xlabel('Time since start (s)', fontsize=15)\n",
    "\n",
    "data = df[df.depth.between(150, 400)].copy()\n",
    "# data['diff'] = data.first_hydrophone - data.second_hydrophone\n",
    "# data = data[data['diff'].between(-1, 1)].copy()\n",
    "# data = data[50:]\n",
    "\n",
    "# calculates event time in seconds from beginning\n",
    "t_total = pd.to_datetime(data.first_arrival).apply(obspy.UTCDateTime) - swarm_starttime\n",
    "\n",
    "# x = data.first_arrival.astype('datetime64').reset_index().first_arrival\n",
    "# t_total = []\n",
    "\n",
    "# for n, t in enumerate(x[1:]):\n",
    "#     n += 1\n",
    "#     t_total.append((t - x[n-1]).total_seconds())\n",
    "    \n",
    "# t_total = np.array(t_total)\n",
    "# t_total = t_total.cumsum()\n",
    "\n",
    "yz = data.depth\n",
    "\n",
    "colors = {-3:'red', -2:'yellow', -1:'green',  1:'green',  2:'yellow',  3:'red'}\n",
    "clrs = [colors[c] for c in (data.first_hydrophone - data.second_hydrophone).values]\n",
    "\n",
    "for t, y, c in zip(t_total, yz[:-1], clrs):\n",
    "    ax.plot(t, y, marker='.', linewidth=0, c=c)\n",
    "\n",
    "# plot the best fit line\n",
    "# lr = stats.linregress(t_total, yz[:-1])\n",
    "# lr = stats.linregress(t_total, yz)\n",
    "# print(lr)\n",
    "\n",
    "# xmod = np.linspace(t_total.min()-100, t_total.max()+100, 1000)\n",
    "# ymod = lr.slope * xmod + lr.intercept\n",
    "\n",
    "# ax.plot(xmod, ymod, color='red')\n",
    "ax.set_ylim(400, 50)\n",
    "\n",
    "# plot the hydrophones on the left\n",
    "depths = []\n",
    "n = 1\n",
    "for k in hydrophone_metadata.keys():\n",
    "    d = hydrophone_metadata[k]['depth']\n",
    "    depths.append(d)\n",
    "    ax.text(s='h{n}'.format(n=n), x=-175, y=d)\n",
    "    n += 1\n",
    "    \n",
    "ax.plot((-100,)*len(depths), depths, color='black', marker='s')\n",
    "\n",
    "ax.set_xlim(-250, 4200)\n",
    "\n",
    "4110.0 - (swarm_endtime - obspy.UTCDateTime('2019-05-21T08:07:00Z'))"
   ]
  },
  {
   "cell_type": "code",
   "execution_count": 22,
   "id": "78cbc78a-bbbd-4399-abff-93a405fa0206",
   "metadata": {},
   "outputs": [
    {
     "data": {
      "text/html": [
       "<div>\n",
       "<style scoped>\n",
       "    .dataframe tbody tr th:only-of-type {\n",
       "        vertical-align: middle;\n",
       "    }\n",
       "\n",
       "    .dataframe tbody tr th {\n",
       "        vertical-align: top;\n",
       "    }\n",
       "\n",
       "    .dataframe thead th {\n",
       "        text-align: right;\n",
       "    }\n",
       "</style>\n",
       "<table border=\"1\" class=\"dataframe\">\n",
       "  <thead>\n",
       "    <tr style=\"text-align: right;\">\n",
       "      <th></th>\n",
       "      <th>Unnamed: 0</th>\n",
       "      <th>id</th>\n",
       "      <th>depth</th>\n",
       "      <th>aic_t</th>\n",
       "      <th>first_hydrophone</th>\n",
       "      <th>second_hydrophone</th>\n",
       "      <th>arrival_time</th>\n",
       "      <th>first_arrival</th>\n",
       "      <th>second_arrival</th>\n",
       "      <th>dt</th>\n",
       "      <th>arrival_datetime</th>\n",
       "    </tr>\n",
       "  </thead>\n",
       "  <tbody>\n",
       "    <tr>\n",
       "      <th>1</th>\n",
       "      <td>1</td>\n",
       "      <td>1</td>\n",
       "      <td>345.000</td>\n",
       "      <td>[18037.318188935187, 18037.318188599536, 18037...</td>\n",
       "      <td>4</td>\n",
       "      <td>5</td>\n",
       "      <td>18037.318188</td>\n",
       "      <td>2019-05-21 07:38:11.403000+00:00</td>\n",
       "      <td>2019-05-21 07:38:11.403000+00:00</td>\n",
       "      <td>0.000</td>\n",
       "      <td>2019-05-21 07:38:11.403000+00:00</td>\n",
       "    </tr>\n",
       "    <tr>\n",
       "      <th>2</th>\n",
       "      <td>2</td>\n",
       "      <td>2</td>\n",
       "      <td>345.000</td>\n",
       "      <td>[18037.31820296296, 18037.318202974537, 18037....</td>\n",
       "      <td>4</td>\n",
       "      <td>5</td>\n",
       "      <td>18037.318201</td>\n",
       "      <td>2019-05-21 07:38:12.603000+00:00</td>\n",
       "      <td>2019-05-21 07:38:12.603000+00:00</td>\n",
       "      <td>0.000</td>\n",
       "      <td>2019-05-21 07:38:12.603000+00:00</td>\n",
       "    </tr>\n",
       "    <tr>\n",
       "      <th>3</th>\n",
       "      <td>3</td>\n",
       "      <td>3</td>\n",
       "      <td>345.000</td>\n",
       "      <td>[18037.3182190625, 18037.31821888889, 18037.31...</td>\n",
       "      <td>4</td>\n",
       "      <td>5</td>\n",
       "      <td>18037.318217</td>\n",
       "      <td>2019-05-21 07:38:13.973000+00:00</td>\n",
       "      <td>2019-05-21 07:38:13.973000+00:00</td>\n",
       "      <td>0.000</td>\n",
       "      <td>2019-05-21 07:38:13.973000+00:00</td>\n",
       "    </tr>\n",
       "    <tr>\n",
       "      <th>4</th>\n",
       "      <td>4</td>\n",
       "      <td>4</td>\n",
       "      <td>345.000</td>\n",
       "      <td>[18037.31822136574, 18037.318221331017, 18037....</td>\n",
       "      <td>4</td>\n",
       "      <td>5</td>\n",
       "      <td>18037.318221</td>\n",
       "      <td>2019-05-21 07:38:14.253000+00:00</td>\n",
       "      <td>2019-05-21 07:38:14.253000+00:00</td>\n",
       "      <td>0.000</td>\n",
       "      <td>2019-05-21 07:38:14.253000+00:00</td>\n",
       "    </tr>\n",
       "    <tr>\n",
       "      <th>5</th>\n",
       "      <td>5</td>\n",
       "      <td>5</td>\n",
       "      <td>345.000</td>\n",
       "      <td>[18037.31823087963, 18037.318230891204, 18037....</td>\n",
       "      <td>4</td>\n",
       "      <td>5</td>\n",
       "      <td>18037.318229</td>\n",
       "      <td>2019-05-21 07:38:15.004000+00:00</td>\n",
       "      <td>2019-05-21 07:38:15.004000+00:00</td>\n",
       "      <td>0.000</td>\n",
       "      <td>2019-05-21 07:38:15.004000+00:00</td>\n",
       "    </tr>\n",
       "    <tr>\n",
       "      <th>...</th>\n",
       "      <td>...</td>\n",
       "      <td>...</td>\n",
       "      <td>...</td>\n",
       "      <td>...</td>\n",
       "      <td>...</td>\n",
       "      <td>...</td>\n",
       "      <td>...</td>\n",
       "      <td>...</td>\n",
       "      <td>...</td>\n",
       "      <td>...</td>\n",
       "      <td>...</td>\n",
       "    </tr>\n",
       "    <tr>\n",
       "      <th>2236</th>\n",
       "      <td>2236</td>\n",
       "      <td>2236</td>\n",
       "      <td>380.875</td>\n",
       "      <td>[18037.359563506947, 18037.35956349537, 18037....</td>\n",
       "      <td>5</td>\n",
       "      <td>4</td>\n",
       "      <td>18037.359564</td>\n",
       "      <td>2019-05-21 08:37:46.287000+00:00</td>\n",
       "      <td>2019-05-21 08:37:46.328000+00:00</td>\n",
       "      <td>-0.041</td>\n",
       "      <td>2019-05-21 08:37:46.287000+00:00</td>\n",
       "    </tr>\n",
       "    <tr>\n",
       "      <th>2237</th>\n",
       "      <td>2237</td>\n",
       "      <td>2237</td>\n",
       "      <td>380.000</td>\n",
       "      <td>[18037.35957045139, 18037.35957045139, 18037.3...</td>\n",
       "      <td>5</td>\n",
       "      <td>4</td>\n",
       "      <td>18037.359570</td>\n",
       "      <td>2019-05-21 08:37:46.887000+00:00</td>\n",
       "      <td>2019-05-21 08:37:46.927000+00:00</td>\n",
       "      <td>-0.040</td>\n",
       "      <td>2019-05-21 08:37:46.887000+00:00</td>\n",
       "    </tr>\n",
       "    <tr>\n",
       "      <th>2238</th>\n",
       "      <td>2238</td>\n",
       "      <td>2238</td>\n",
       "      <td>380.000</td>\n",
       "      <td>[18037.359578136577, 18037.359578252315, 18037...</td>\n",
       "      <td>5</td>\n",
       "      <td>4</td>\n",
       "      <td>18037.359578</td>\n",
       "      <td>2019-05-21 08:37:47.558000+00:00</td>\n",
       "      <td>2019-05-21 08:37:47.598000+00:00</td>\n",
       "      <td>-0.040</td>\n",
       "      <td>2019-05-21 08:37:47.558000+00:00</td>\n",
       "    </tr>\n",
       "    <tr>\n",
       "      <th>2239</th>\n",
       "      <td>2239</td>\n",
       "      <td>2239</td>\n",
       "      <td>379.125</td>\n",
       "      <td>[18037.35958925926, 18037.35958923611, 18037.3...</td>\n",
       "      <td>5</td>\n",
       "      <td>4</td>\n",
       "      <td>18037.359589</td>\n",
       "      <td>2019-05-21 08:37:48.512000+00:00</td>\n",
       "      <td>2019-05-21 08:37:48.551000+00:00</td>\n",
       "      <td>-0.039</td>\n",
       "      <td>2019-05-21 08:37:48.512000+00:00</td>\n",
       "    </tr>\n",
       "    <tr>\n",
       "      <th>2240</th>\n",
       "      <td>2240</td>\n",
       "      <td>2240</td>\n",
       "      <td>377.375</td>\n",
       "      <td>[18037.35959912037, 18037.35959912037, 18037.3...</td>\n",
       "      <td>5</td>\n",
       "      <td>4</td>\n",
       "      <td>18037.359599</td>\n",
       "      <td>2019-05-21 08:37:49.364000+00:00</td>\n",
       "      <td>2019-05-21 08:37:49.401000+00:00</td>\n",
       "      <td>-0.037</td>\n",
       "      <td>2019-05-21 08:37:49.364000+00:00</td>\n",
       "    </tr>\n",
       "  </tbody>\n",
       "</table>\n",
       "<p>2069 rows × 11 columns</p>\n",
       "</div>"
      ],
      "text/plain": [
       "      Unnamed: 0    id    depth  \\\n",
       "1              1     1  345.000   \n",
       "2              2     2  345.000   \n",
       "3              3     3  345.000   \n",
       "4              4     4  345.000   \n",
       "5              5     5  345.000   \n",
       "...          ...   ...      ...   \n",
       "2236        2236  2236  380.875   \n",
       "2237        2237  2237  380.000   \n",
       "2238        2238  2238  380.000   \n",
       "2239        2239  2239  379.125   \n",
       "2240        2240  2240  377.375   \n",
       "\n",
       "                                                  aic_t  first_hydrophone  \\\n",
       "1     [18037.318188935187, 18037.318188599536, 18037...                 4   \n",
       "2     [18037.31820296296, 18037.318202974537, 18037....                 4   \n",
       "3     [18037.3182190625, 18037.31821888889, 18037.31...                 4   \n",
       "4     [18037.31822136574, 18037.318221331017, 18037....                 4   \n",
       "5     [18037.31823087963, 18037.318230891204, 18037....                 4   \n",
       "...                                                 ...               ...   \n",
       "2236  [18037.359563506947, 18037.35956349537, 18037....                 5   \n",
       "2237  [18037.35957045139, 18037.35957045139, 18037.3...                 5   \n",
       "2238  [18037.359578136577, 18037.359578252315, 18037...                 5   \n",
       "2239  [18037.35958925926, 18037.35958923611, 18037.3...                 5   \n",
       "2240  [18037.35959912037, 18037.35959912037, 18037.3...                 5   \n",
       "\n",
       "      second_hydrophone  arrival_time                     first_arrival  \\\n",
       "1                     5  18037.318188  2019-05-21 07:38:11.403000+00:00   \n",
       "2                     5  18037.318201  2019-05-21 07:38:12.603000+00:00   \n",
       "3                     5  18037.318217  2019-05-21 07:38:13.973000+00:00   \n",
       "4                     5  18037.318221  2019-05-21 07:38:14.253000+00:00   \n",
       "5                     5  18037.318229  2019-05-21 07:38:15.004000+00:00   \n",
       "...                 ...           ...                               ...   \n",
       "2236                  4  18037.359564  2019-05-21 08:37:46.287000+00:00   \n",
       "2237                  4  18037.359570  2019-05-21 08:37:46.887000+00:00   \n",
       "2238                  4  18037.359578  2019-05-21 08:37:47.558000+00:00   \n",
       "2239                  4  18037.359589  2019-05-21 08:37:48.512000+00:00   \n",
       "2240                  4  18037.359599  2019-05-21 08:37:49.364000+00:00   \n",
       "\n",
       "                        second_arrival     dt                 arrival_datetime  \n",
       "1     2019-05-21 07:38:11.403000+00:00  0.000 2019-05-21 07:38:11.403000+00:00  \n",
       "2     2019-05-21 07:38:12.603000+00:00  0.000 2019-05-21 07:38:12.603000+00:00  \n",
       "3     2019-05-21 07:38:13.973000+00:00  0.000 2019-05-21 07:38:13.973000+00:00  \n",
       "4     2019-05-21 07:38:14.253000+00:00  0.000 2019-05-21 07:38:14.253000+00:00  \n",
       "5     2019-05-21 07:38:15.004000+00:00  0.000 2019-05-21 07:38:15.004000+00:00  \n",
       "...                                ...    ...                              ...  \n",
       "2236  2019-05-21 08:37:46.328000+00:00 -0.041 2019-05-21 08:37:46.287000+00:00  \n",
       "2237  2019-05-21 08:37:46.927000+00:00 -0.040 2019-05-21 08:37:46.887000+00:00  \n",
       "2238  2019-05-21 08:37:47.598000+00:00 -0.040 2019-05-21 08:37:47.558000+00:00  \n",
       "2239  2019-05-21 08:37:48.551000+00:00 -0.039 2019-05-21 08:37:48.512000+00:00  \n",
       "2240  2019-05-21 08:37:49.401000+00:00 -0.037 2019-05-21 08:37:49.364000+00:00  \n",
       "\n",
       "[2069 rows x 11 columns]"
      ]
     },
     "execution_count": 22,
     "metadata": {},
     "output_type": "execute_result"
    }
   ],
   "source": [
    "data"
   ]
  },
  {
   "cell_type": "code",
   "execution_count": 23,
   "id": "1bb9927b-4c58-4161-9b8c-0c8c42603657",
   "metadata": {},
   "outputs": [
    {
     "data": {
      "text/plain": [
       "Unnamed: 0                                                         750\n",
       "id                                                                 750\n",
       "depth                                                           252.25\n",
       "aic_t                [18037.335085162038, 18037.335085162038, 18037...\n",
       "first_hydrophone                                                     3\n",
       "second_hydrophone                                                    4\n",
       "arrival_time                                              18037.335085\n",
       "first_arrival                         2019-05-21 08:02:31.358000+00:00\n",
       "second_arrival                        2019-05-21 08:02:31.384000+00:00\n",
       "dt                                                              -0.026\n",
       "arrival_datetime                      2019-05-21 08:02:31.358000+00:00\n",
       "Name: 750, dtype: object"
      ]
     },
     "execution_count": 23,
     "metadata": {},
     "output_type": "execute_result"
    }
   ],
   "source": [
    "df.iloc[750]"
   ]
  },
  {
   "cell_type": "code",
   "execution_count": 24,
   "id": "756d6302-a140-45d0-9648-3888ce44cdf4",
   "metadata": {},
   "outputs": [
    {
     "ename": "AttributeError",
     "evalue": "'Series' object has no attribute 'init_arrival_time'",
     "output_type": "error",
     "traceback": [
      "\u001b[0;31m---------------------------------------------------------------------------\u001b[0m",
      "\u001b[0;31mAttributeError\u001b[0m                            Traceback (most recent call last)",
      "\u001b[0;32m/tmp/ipykernel_22537/787212486.py\u001b[0m in \u001b[0;36m<module>\u001b[0;34m\u001b[0m\n\u001b[1;32m      1\u001b[0m \u001b[0mid\u001b[0m \u001b[0;34m=\u001b[0m \u001b[0;36m2000\u001b[0m\u001b[0;34m\u001b[0m\u001b[0;34m\u001b[0m\u001b[0m\n\u001b[1;32m      2\u001b[0m \u001b[0mdfe\u001b[0m \u001b[0;34m=\u001b[0m \u001b[0mdf\u001b[0m\u001b[0;34m.\u001b[0m\u001b[0miloc\u001b[0m\u001b[0;34m[\u001b[0m\u001b[0mid\u001b[0m\u001b[0;34m]\u001b[0m\u001b[0;34m\u001b[0m\u001b[0;34m\u001b[0m\u001b[0m\n\u001b[0;32m----> 3\u001b[0;31m \u001b[0me\u001b[0m \u001b[0;34m=\u001b[0m \u001b[0medp\u001b[0m\u001b[0;34m.\u001b[0m\u001b[0mEvent\u001b[0m\u001b[0;34m(\u001b[0m\u001b[0mid\u001b[0m\u001b[0;34m=\u001b[0m\u001b[0mid\u001b[0m\u001b[0;34m,\u001b[0m \u001b[0mstarttime\u001b[0m\u001b[0;34m=\u001b[0m\u001b[0mdfe\u001b[0m\u001b[0;34m.\u001b[0m\u001b[0minit_arrival_time\u001b[0m\u001b[0;34m,\u001b[0m \u001b[0minit_first_hphone\u001b[0m\u001b[0;34m=\u001b[0m\u001b[0mdfe\u001b[0m\u001b[0;34m.\u001b[0m\u001b[0marrival_hydrophone\u001b[0m\u001b[0;34m,\u001b[0m \u001b[0mwaveforms\u001b[0m\u001b[0;34m=\u001b[0m\u001b[0mwaveforms\u001b[0m\u001b[0;34m)\u001b[0m\u001b[0;34m\u001b[0m\u001b[0;34m\u001b[0m\u001b[0m\n\u001b[0m",
      "\u001b[0;32m~/anaconda3/envs/borehole/lib/python3.8/site-packages/pandas/core/generic.py\u001b[0m in \u001b[0;36m__getattr__\u001b[0;34m(self, name)\u001b[0m\n\u001b[1;32m   5485\u001b[0m         ):\n\u001b[1;32m   5486\u001b[0m             \u001b[0;32mreturn\u001b[0m \u001b[0mself\u001b[0m\u001b[0;34m[\u001b[0m\u001b[0mname\u001b[0m\u001b[0;34m]\u001b[0m\u001b[0;34m\u001b[0m\u001b[0;34m\u001b[0m\u001b[0m\n\u001b[0;32m-> 5487\u001b[0;31m         \u001b[0;32mreturn\u001b[0m \u001b[0mobject\u001b[0m\u001b[0;34m.\u001b[0m\u001b[0m__getattribute__\u001b[0m\u001b[0;34m(\u001b[0m\u001b[0mself\u001b[0m\u001b[0;34m,\u001b[0m \u001b[0mname\u001b[0m\u001b[0;34m)\u001b[0m\u001b[0;34m\u001b[0m\u001b[0;34m\u001b[0m\u001b[0m\n\u001b[0m\u001b[1;32m   5488\u001b[0m \u001b[0;34m\u001b[0m\u001b[0m\n\u001b[1;32m   5489\u001b[0m     \u001b[0;32mdef\u001b[0m \u001b[0m__setattr__\u001b[0m\u001b[0;34m(\u001b[0m\u001b[0mself\u001b[0m\u001b[0;34m,\u001b[0m \u001b[0mname\u001b[0m\u001b[0;34m:\u001b[0m \u001b[0mstr\u001b[0m\u001b[0;34m,\u001b[0m \u001b[0mvalue\u001b[0m\u001b[0;34m)\u001b[0m \u001b[0;34m->\u001b[0m \u001b[0;32mNone\u001b[0m\u001b[0;34m:\u001b[0m\u001b[0;34m\u001b[0m\u001b[0;34m\u001b[0m\u001b[0m\n",
      "\u001b[0;31mAttributeError\u001b[0m: 'Series' object has no attribute 'init_arrival_time'"
     ]
    }
   ],
   "source": [
    "id = 2000\n",
    "dfe = df.iloc[id]\n",
    "e = edp.Event(id=id, starttime=dfe.init_arrival_time, init_first_hphone=dfe.arrival_hydrophone, waveforms=waveforms)"
   ]
  },
  {
   "cell_type": "code",
   "execution_count": null,
   "id": "6202ff4c-5286-49a2-81ce-ddf8398e9aab",
   "metadata": {},
   "outputs": [],
   "source": [
    "e.first_hydrophone_id"
   ]
  },
  {
   "cell_type": "code",
   "execution_count": null,
   "id": "f87accb7-f1ab-4879-84dc-9dfe7902a91a",
   "metadata": {},
   "outputs": [],
   "source": [
    "e.second_hydrophone_id"
   ]
  },
  {
   "cell_type": "code",
   "execution_count": null,
   "id": "38589bdc-e7b3-43c2-ad0d-adb186284b19",
   "metadata": {},
   "outputs": [],
   "source": [
    "e.plot('waveforms')"
   ]
  },
  {
   "cell_type": "code",
   "execution_count": null,
   "id": "ffecc688-94c7-48b1-b720-a024c4e106f7",
   "metadata": {},
   "outputs": [],
   "source": [
    "paths = useful_variables.make_hydrophone_data_paths(borehole='a', year=2019, julian_day=141)\n",
    "waveforms = load.import_corrected_data_for_single_day(paths=paths)\n",
    "waveforms.plot()"
   ]
  },
  {
   "cell_type": "code",
   "execution_count": null,
   "id": "2dea7850-cefa-4fd1-92ee-91333923a047",
   "metadata": {},
   "outputs": [],
   "source": [
    "swarm_starttime = obspy.UTCDateTime('2019-05-21T07:30:00')\n",
    "swarm_endtime = obspy.UTCDateTime('2019-05-21T08:38:30')\n",
    "swarm_endtime - swarm_starttime"
   ]
  },
  {
   "cell_type": "code",
   "execution_count": null,
   "id": "305e6f38-06ea-4010-9efc-d5829d8bef3f",
   "metadata": {},
   "outputs": [],
   "source": [
    "# estimate velocities for different hydrophones\n",
    "\n",
    "data[data.first_hydrophone==5].dt.hist(bins=50)"
   ]
  },
  {
   "cell_type": "code",
   "execution_count": null,
   "id": "aef7c912-7785-4651-86d0-0397f2a834e4",
   "metadata": {},
   "outputs": [],
   "source": [
    "df['diff'] = df.first_hydrophone - df.second_hydrophone"
   ]
  },
  {
   "cell_type": "code",
   "execution_count": null,
   "id": "8688365e-61f5-492e-8759-158bf01c5b35",
   "metadata": {},
   "outputs": [],
   "source": [
    "df['diff'].unique()"
   ]
  },
  {
   "cell_type": "code",
   "execution_count": null,
   "id": "75a8205a-d5d0-4441-9125-9cba9092cc21",
   "metadata": {},
   "outputs": [],
   "source": []
  },
  {
   "cell_type": "code",
   "execution_count": null,
   "id": "6369b1b7-13dd-40a8-bbb8-c9e771f0532a",
   "metadata": {},
   "outputs": [],
   "source": [
    "# make function to step through waveform plots"
   ]
  },
  {
   "cell_type": "code",
   "execution_count": null,
   "id": "1038fd5a-24a5-4a54-b461-62e49973b8a3",
   "metadata": {},
   "outputs": [],
   "source": []
  },
  {
   "cell_type": "code",
   "execution_count": null,
   "id": "f4f3f1c8-9b18-4043-bf38-8e1e84de8857",
   "metadata": {},
   "outputs": [],
   "source": []
  },
  {
   "cell_type": "code",
   "execution_count": null,
   "id": "2b44bdf0-dc64-4f8a-915a-28a21fe4d538",
   "metadata": {},
   "outputs": [],
   "source": []
  },
  {
   "cell_type": "code",
   "execution_count": null,
   "id": "09b3c64c-59bf-4d8d-8f6b-3ae3ad744053",
   "metadata": {},
   "outputs": [],
   "source": [
    "df['ones'] = 1\n",
    "\n",
    "fig, ax = plt.subplots(figsize=(15, 5))\n",
    "df.set_index('first_arrival').ones.cumsum().plot(ax=ax,)"
   ]
  },
  {
   "cell_type": "code",
   "execution_count": null,
   "id": "ca32857c-a1a2-4ebe-ac0f-05e75593fbb1",
   "metadata": {},
   "outputs": [],
   "source": [
    "fig, ax = plt.subplots(figsize=(15, 5))\n",
    "ones = np.ones_like(t_total)\n",
    "\n",
    "# ax.plot(t_total, ones.cumsum())\n",
    "\n",
    "x = data.first_arrival\n",
    "y = np.ones_like(x).cumsum()\n",
    "\n",
    "ax.plot(x, y)\n",
    "ax.set_xticks([])"
   ]
  },
  {
   "cell_type": "code",
   "execution_count": null,
   "id": "f80489ab-5f55-45cb-a4f5-382873861cc5",
   "metadata": {},
   "outputs": [],
   "source": [
    "x"
   ]
  },
  {
   "cell_type": "code",
   "execution_count": null,
   "id": "d17cfc57-9ed5-4306-a39b-4b2baaf57305",
   "metadata": {},
   "outputs": [],
   "source": [
    "x = data.first_arrival.astype('datetime64').reset_index().first_arrival\n",
    "t_total = []\n",
    "# for t in x:\n",
    "#     for t2 in x[1:]:\n",
    "#         print((t2 - t).total_seconds())\n",
    "#         t_total.append((t2 -t).total_seconds())\n",
    "for n, t in enumerate(x[1:]):\n",
    "    n += 1\n",
    "    t_total.append((t - x[n-1]).total_seconds())\n",
    "    \n",
    "t_total = np.array(t_total)\n",
    "plt.hist(t_total)"
   ]
  }
 ],
 "metadata": {
  "kernelspec": {
   "display_name": "Python [conda env:borehole] *",
   "language": "python",
   "name": "conda-env-borehole-py"
  },
  "language_info": {
   "codemirror_mode": {
    "name": "ipython",
    "version": 3
   },
   "file_extension": ".py",
   "mimetype": "text/x-python",
   "name": "python",
   "nbconvert_exporter": "python",
   "pygments_lexer": "ipython3",
   "version": "3.8.12"
  }
 },
 "nbformat": 4,
 "nbformat_minor": 5
}
