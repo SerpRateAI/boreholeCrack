{
 "cells": [
  {
   "cell_type": "code",
   "execution_count": 1,
   "id": "f3b906ae-1101-4315-807a-83ec81541bdf",
   "metadata": {},
   "outputs": [],
   "source": [
    "%matplotlib inline\n",
    "import matplotlib.pyplot as plt\n",
    "import numpy as np\n",
    "import pandas as pd\n",
    "import matplotlib.dates as dates"
   ]
  },
  {
   "cell_type": "code",
   "execution_count": 2,
   "id": "f6b916cf-dbad-4d60-8c88-ab7e32e2f9ad",
   "metadata": {},
   "outputs": [],
   "source": [
    "df = pd.read_csv('hmmm.csv')"
   ]
  },
  {
   "cell_type": "code",
   "execution_count": 3,
   "id": "4d16be7c-db22-4fc2-818f-3be14bbfbf92",
   "metadata": {},
   "outputs": [
    {
     "data": {
      "text/html": [
       "<div>\n",
       "<style scoped>\n",
       "    .dataframe tbody tr th:only-of-type {\n",
       "        vertical-align: middle;\n",
       "    }\n",
       "\n",
       "    .dataframe tbody tr th {\n",
       "        vertical-align: top;\n",
       "    }\n",
       "\n",
       "    .dataframe thead th {\n",
       "        text-align: right;\n",
       "    }\n",
       "</style>\n",
       "<table border=\"1\" class=\"dataframe\">\n",
       "  <thead>\n",
       "    <tr style=\"text-align: right;\">\n",
       "      <th></th>\n",
       "      <th>Unnamed: 0</th>\n",
       "      <th>arrival_hydrophone</th>\n",
       "      <th>init_arrival_time</th>\n",
       "      <th>id</th>\n",
       "      <th>depth</th>\n",
       "      <th>aic_t</th>\n",
       "      <th>first_hydrophone</th>\n",
       "      <th>second_hydrophone</th>\n",
       "      <th>arrival_time</th>\n",
       "    </tr>\n",
       "  </thead>\n",
       "  <tbody>\n",
       "    <tr>\n",
       "      <th>0</th>\n",
       "      <td>0</td>\n",
       "      <td>h3</td>\n",
       "      <td>18037.318174</td>\n",
       "      <td>0</td>\n",
       "      <td>348.5</td>\n",
       "      <td>[18037.31817321759, 18037.3181718287, 18037.31...</td>\n",
       "      <td>5</td>\n",
       "      <td>4</td>\n",
       "      <td>18037.318172</td>\n",
       "    </tr>\n",
       "    <tr>\n",
       "      <th>1</th>\n",
       "      <td>1</td>\n",
       "      <td>h3</td>\n",
       "      <td>18037.318189</td>\n",
       "      <td>1</td>\n",
       "      <td>275.0</td>\n",
       "      <td>[18037.318188935187, 18037.318188599536, 18037...</td>\n",
       "      <td>4</td>\n",
       "      <td>5</td>\n",
       "      <td>18037.318188</td>\n",
       "    </tr>\n",
       "    <tr>\n",
       "      <th>2</th>\n",
       "      <td>2</td>\n",
       "      <td>h3</td>\n",
       "      <td>18037.318203</td>\n",
       "      <td>2</td>\n",
       "      <td>275.0</td>\n",
       "      <td>[18037.31820296296, 18037.318202974537, 18037....</td>\n",
       "      <td>4</td>\n",
       "      <td>5</td>\n",
       "      <td>18037.318201</td>\n",
       "    </tr>\n",
       "    <tr>\n",
       "      <th>3</th>\n",
       "      <td>3</td>\n",
       "      <td>h3</td>\n",
       "      <td>18037.318219</td>\n",
       "      <td>3</td>\n",
       "      <td>275.0</td>\n",
       "      <td>[18037.3182190625, 18037.31821888889, 18037.31...</td>\n",
       "      <td>4</td>\n",
       "      <td>5</td>\n",
       "      <td>18037.318217</td>\n",
       "    </tr>\n",
       "    <tr>\n",
       "      <th>4</th>\n",
       "      <td>4</td>\n",
       "      <td>h3</td>\n",
       "      <td>18037.318222</td>\n",
       "      <td>4</td>\n",
       "      <td>275.0</td>\n",
       "      <td>[18037.31822136574, 18037.318221331017, 18037....</td>\n",
       "      <td>4</td>\n",
       "      <td>5</td>\n",
       "      <td>18037.318221</td>\n",
       "    </tr>\n",
       "  </tbody>\n",
       "</table>\n",
       "</div>"
      ],
      "text/plain": [
       "   Unnamed: 0 arrival_hydrophone  init_arrival_time  id  depth  \\\n",
       "0           0                 h3       18037.318174   0  348.5   \n",
       "1           1                 h3       18037.318189   1  275.0   \n",
       "2           2                 h3       18037.318203   2  275.0   \n",
       "3           3                 h3       18037.318219   3  275.0   \n",
       "4           4                 h3       18037.318222   4  275.0   \n",
       "\n",
       "                                               aic_t  first_hydrophone  \\\n",
       "0  [18037.31817321759, 18037.3181718287, 18037.31...                 5   \n",
       "1  [18037.318188935187, 18037.318188599536, 18037...                 4   \n",
       "2  [18037.31820296296, 18037.318202974537, 18037....                 4   \n",
       "3  [18037.3182190625, 18037.31821888889, 18037.31...                 4   \n",
       "4  [18037.31822136574, 18037.318221331017, 18037....                 4   \n",
       "\n",
       "   second_hydrophone  arrival_time  \n",
       "0                  4  18037.318172  \n",
       "1                  5  18037.318188  \n",
       "2                  5  18037.318201  \n",
       "3                  5  18037.318217  \n",
       "4                  5  18037.318221  "
      ]
     },
     "execution_count": 3,
     "metadata": {},
     "output_type": "execute_result"
    }
   ],
   "source": [
    "df.head()"
   ]
  },
  {
   "cell_type": "code",
   "execution_count": 4,
   "id": "918ac53d-3410-400b-b743-a1482cb327f8",
   "metadata": {},
   "outputs": [],
   "source": [
    "df['arrival_datetime'] = df.arrival_time.apply(dates.num2date)"
   ]
  },
  {
   "cell_type": "code",
   "execution_count": 5,
   "id": "62adbbc4-ab8f-4e76-bb55-e9268a4b4727",
   "metadata": {},
   "outputs": [
    {
     "data": {
      "text/plain": [
       "0       348.500\n",
       "1       275.000\n",
       "2       275.000\n",
       "3       275.000\n",
       "4       275.000\n",
       "         ...   \n",
       "2236    242.625\n",
       "2237    240.875\n",
       "2238    242.625\n",
       "2239    239.125\n",
       "2240    243.500\n",
       "Name: depth, Length: 2241, dtype: float64"
      ]
     },
     "execution_count": 5,
     "metadata": {},
     "output_type": "execute_result"
    }
   ],
   "source": [
    "df.depth.dropna()"
   ]
  },
  {
   "cell_type": "code",
   "execution_count": 6,
   "id": "6ed27139-987e-49f9-ad3e-44c2d11d6cc1",
   "metadata": {},
   "outputs": [
    {
     "data": {
      "text/plain": [
       "(400.0, 50.0)"
      ]
     },
     "execution_count": 6,
     "metadata": {},
     "output_type": "execute_result"
    },
    {
     "data": {
      "image/png": "[encoded data removed]",
      "text/plain": [
       "<Figure size 1080x360 with 1 Axes>"
      ]
     },
     "metadata": {
      "needs_background": "light"
     },
     "output_type": "display_data"
    }
   ],
   "source": [
    "fig, ax = plt.subplots(figsize=(15, 5))\n",
    "# df.set_index('arrival_datetime').depth.plot(ax=ax, linewidth=0, marker='.', color='limegreen')\n",
    "\n",
    "ax.scatter(df.arrival_datetime, df.depth, marker='.', linewidth=0, c=df.first_hydrophone, cmap='cool')\n",
    "\n",
    "ax.set_ylim(400, 50)"
   ]
  }
 ],
 "metadata": {
  "kernelspec": {
   "display_name": "Python [conda env:borehole] *",
   "language": "python",
   "name": "conda-env-borehole-py"
  },
  "language_info": {
   "codemirror_mode": {
    "name": "ipython",
    "version": 3
   },
   "file_extension": ".py",
   "mimetype": "text/x-python",
   "name": "python",
   "nbconvert_exporter": "python",
   "pygments_lexer": "ipython3",
   "version": "3.8.12"
  }
 },
 "nbformat": 4,
 "nbformat_minor": 5
}
