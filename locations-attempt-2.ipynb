{
 "cells": [
  {
   "cell_type": "code",
   "execution_count": 26,
   "id": "5ed41b97-3e46-41c2-aea6-0553eddbc18d",
   "metadata": {},
   "outputs": [],
   "source": [
    "%matplotlib inline\n",
    "import numpy as np\n",
    "import matplotlib.pyplot as plt\n",
    "import pandas as pd\n",
    "import itertools"
   ]
  },
  {
   "cell_type": "code",
   "execution_count": 12,
   "id": "d3bcc55a-42c3-4c3f-8196-9bd962bfe463",
   "metadata": {},
   "outputs": [],
   "source": [
    "x = np.arange(-500, 500, 10)\n",
    "y = np.arange(0, 400, 10)\n",
    "z = np.arange(-500, 500, 10)\n",
    "\n",
    "xx, yy, zz = np.meshgrid(x, y, z)\n",
    "\n",
    "# x,z are horizontal plane\n",
    "# y is depth"
   ]
  },
  {
   "cell_type": "code",
   "execution_count": 15,
   "id": "7ef84cb4-fae8-4d86-a40a-dc1c1ccf9e58",
   "metadata": {},
   "outputs": [
    {
     "data": {
      "text/plain": [
       "array([0, 0, 0, 0, 0, 0, 0, 0, 0, 0, 0, 0, 0, 0, 0, 0, 0, 0, 0, 0, 0, 0,\n",
       "       0, 0, 0, 0, 0, 0, 0, 0, 0, 0, 0, 0, 0, 0, 0, 0, 0, 0, 0, 0, 0, 0,\n",
       "       0, 0, 0, 0, 0, 0, 0, 0, 0, 0, 0, 0, 0, 0, 0, 0, 0, 0, 0, 0, 0, 0,\n",
       "       0, 0, 0, 0, 0, 0, 0, 0, 0, 0, 0, 0, 0, 0, 0, 0, 0, 0, 0, 0, 0, 0,\n",
       "       0, 0, 0, 0, 0, 0, 0, 0, 0, 0, 0, 0])"
      ]
     },
     "execution_count": 15,
     "metadata": {},
     "output_type": "execute_result"
    }
   ],
   "source": [
    "xx[xx.shape[0]//2][xx.shape[1]//2]"
   ]
  },
  {
   "cell_type": "code",
   "execution_count": 68,
   "id": "414c642b-ebbe-4287-9ee0-62828dd48daa",
   "metadata": {},
   "outputs": [],
   "source": [
    "# calculates distance from every grid point to every hydrophone location\n",
    "dx_h3 = np.sqrt(xx**2 + (yy-170)**2 + zz**2)\n",
    "dx_h4 = np.sqrt(xx**2 + (yy-240)**2 + zz**2)\n",
    "dx_h5 = np.sqrt(xx**2 + (yy-310)**2 + zz**2)\n",
    "dx_h6 = np.sqrt(xx**2 + (yy-380)**2 + zz**2)\n",
    "\n",
    "# set velocity model to be the same everywhere\n",
    "vp = np.zeros_like(xx) + 6000\n",
    "\n",
    "# calculate perfect travel times to each hydrophone\n",
    "t_h3 = dx_h3/vp\n",
    "t_h4 = dx_h4/vp\n",
    "t_h5 = dx_h5/vp\n",
    "t_h6 = dx_h6/vp\n",
    "\n",
    "# calculate arrival time deltas for each hydrophone pair\n",
    "theoretical_pairs = [i for i in itertools.combinations([t_h3, t_h4, t_h5, t_h6], r=2)]\n",
    "hpairs = [('h3', 'h4'), ('h3', 'h5'), ('h3', 'h6'), ('h4', 'h5'), ('h4', 'h6'), ('h5', 'h6')]\n",
    "time_deltas = [h2-h1 for h1, h2 in theoretical_pairs]\n",
    "time_deltas = dict(zip(hpairs, time_deltas))"
   ]
  },
  {
   "cell_type": "code",
   "execution_count": 69,
   "id": "f551e5e6-d288-44c9-ab34-e040d79debfa",
   "metadata": {},
   "outputs": [
    {
     "data": {
      "text/plain": [
       "{('h3', 'h4'): -0.05100000000000002,\n",
       " ('h3', 'h5'): -0.02600000000000001,\n",
       " ('h3', 'h6'): 0.015999999999999986,\n",
       " ('h4', 'h5'): 0.02500000000000001,\n",
       " ('h4', 'h6'): 0.067,\n",
       " ('h5', 'h6'): 0.041999999999999996}"
      ]
     },
     "execution_count": 69,
     "metadata": {},
     "output_type": "execute_result"
    }
   ],
   "source": [
    "\n",
    "# event data\n",
    "\n",
    "hydrophones = ['h3', 'h4', 'h5', 'h6']\n",
    "true_arrivals = [0.137-0.086, 0.086-0.086, 0.111-0.086, 0.153-0.086]\n",
    "hydrophone_combinations = [i for i in itertools.combinations(hydrophones, r=2)]\n",
    "hydrophone_combination_arrival_times = [i[1] - i[0] for i in itertools.combinations(true_arrivals, r=2)]\n",
    "# print(hydrophone_combinations)\n",
    "# print(hydrophone_combination_arrival_times)\n",
    "event_deltas = dict(zip(hydrophone_combinations, hydrophone_combination_arrival_times))\n",
    "event_deltas"
   ]
  },
  {
   "cell_type": "code",
   "execution_count": 127,
   "id": "9923ea9e-38ab-46ab-a6c9-dfbeed23891c",
   "metadata": {},
   "outputs": [
    {
     "name": "stderr",
     "output_type": "stream",
     "text": [
      "/tmp/ipykernel_30903/1686875958.py:7: RuntimeWarning: invalid value encountered in sqrt\n",
      "  dt_rms.append(np.sqrt(event_delta**2 - time_delta**2))\n"
     ]
    }
   ],
   "source": [
    "dt = []\n",
    "dt_rms = []\n",
    "for pair in hpairs:\n",
    "    time_delta = time_deltas[pair]\n",
    "    event_delta = event_deltas[pair]\n",
    "    dt.append(event_delta - time_delta)\n",
    "    dt_rms.append(np.sqrt(event_delta**2 - time_delta**2))\n",
    "    \n",
    "dt = dict(zip(hpairs, dt))\n",
    "dt_rms = dict(zip(hpairs, dt_rms))"
   ]
  },
  {
   "cell_type": "code",
   "execution_count": 128,
   "id": "784816a8-4bcb-40f9-bde9-f6430cd454a5",
   "metadata": {},
   "outputs": [
    {
     "data": {
      "text/plain": [
       "-0.06266666666666669"
      ]
     },
     "execution_count": 128,
     "metadata": {},
     "output_type": "execute_result"
    }
   ],
   "source": [
    "dt[('h3','h4')].min()"
   ]
  },
  {
   "cell_type": "code",
   "execution_count": 129,
   "id": "c249125c-a4c7-4dc6-8d90-fe6d3404c21a",
   "metadata": {},
   "outputs": [
    {
     "data": {
      "text/plain": [
       "(40, 100, 100)"
      ]
     },
     "execution_count": 129,
     "metadata": {},
     "output_type": "execute_result"
    }
   ],
   "source": [
    "dt[('h3', 'h4')].shape"
   ]
  },
  {
   "cell_type": "code",
   "execution_count": 131,
   "id": "e8942b5c-0ffd-423a-86e8-159067d74047",
   "metadata": {},
   "outputs": [
    {
     "data": {
      "text/plain": [
       "<matplotlib.colorbar.Colorbar at 0x7fe71d5fab80>"
      ]
     },
     "execution_count": 131,
     "metadata": {},
     "output_type": "execute_result"
    },
    {
     "data": {
      "image/png": "[encoded data removed]",
      "text/plain": [
       "<Figure size 432x288 with 2 Axes>"
      ]
     },
     "metadata": {
      "needs_background": "light"
     },
     "output_type": "display_data"
    }
   ],
   "source": [
    "plt.pcolormesh(dt[('h3', 'h4')][35])\n",
    "plt.colorbar()"
   ]
  },
  {
   "cell_type": "code",
   "execution_count": 137,
   "id": "fe6e57bd-048e-43ab-8975-63a687c24341",
   "metadata": {},
   "outputs": [
    {
     "data": {
      "text/plain": [
       "[('h3', 'h4'),\n",
       " ('h3', 'h5'),\n",
       " ('h3', 'h6'),\n",
       " ('h4', 'h5'),\n",
       " ('h4', 'h6'),\n",
       " ('h5', 'h6')]"
      ]
     },
     "execution_count": 137,
     "metadata": {},
     "output_type": "execute_result"
    }
   ],
   "source": [
    "hpairs"
   ]
  },
  {
   "cell_type": "code",
   "execution_count": 147,
   "id": "c426dec8-27bb-4e75-9fab-d54310b47f0e",
   "metadata": {},
   "outputs": [
    {
     "name": "stderr",
     "output_type": "stream",
     "text": [
      "/tmp/ipykernel_30903/3281001108.py:4: MatplotlibDeprecationWarning: shading='flat' when X and Y have the same dimensions as C is deprecated since 3.3.  Either specify the corners of the quadrilaterals with X and Y, or pass shading='auto', 'nearest' or 'gouraud', or set rcParams['pcolor.shading'].  This will become an error two minor releases later.\n",
      "  cbar = ax.pcolormesh(x, -y, dt_rms[('h5', 'h6')][:,50,:], cmap='Purples_r')\n"
     ]
    },
    {
     "data": {
      "text/plain": [
       "<matplotlib.colorbar.Colorbar at 0x7fe71cf81b80>"
      ]
     },
     "execution_count": 147,
     "metadata": {},
     "output_type": "execute_result"
    },
    {
     "data": {
      "image/png": "[encoded data removed]",
      "text/plain": [
       "<Figure size 720x504 with 2 Axes>"
      ]
     },
     "metadata": {
      "needs_background": "light"
     },
     "output_type": "display_data"
    }
   ],
   "source": [
    "fig, ax = plt.subplots(figsize=(10, 7))\n",
    "\n",
    "# ax[0].pcolormesh(x, y, dt[('h3', 'h4')][:,50,:], cmap='PRGn')\n",
    "cbar = ax.pcolormesh(x, -y, dt_rms[('h5', 'h6')][:,50,:], cmap='Purples_r')\n",
    "fig.colorbar(cbar)"
   ]
  },
  {
   "cell_type": "code",
   "execution_count": 149,
   "id": "ef02cec2-0dc9-4c37-ac95-10ddebc05f8b",
   "metadata": {},
   "outputs": [],
   "source": [
    "DT_RMS = np.zeros_like(dt_rms[('h3', 'h4')])\n",
    "\n",
    "for pair in hpairs:\n",
    "    DT_RMS += dt_rms[pair]"
   ]
  },
  {
   "cell_type": "code",
   "execution_count": 150,
   "id": "2e62a817-2b3c-440d-8d52-aaaa8f1c1e71",
   "metadata": {},
   "outputs": [
    {
     "name": "stderr",
     "output_type": "stream",
     "text": [
      "/tmp/ipykernel_30903/1308326383.py:4: MatplotlibDeprecationWarning: shading='flat' when X and Y have the same dimensions as C is deprecated since 3.3.  Either specify the corners of the quadrilaterals with X and Y, or pass shading='auto', 'nearest' or 'gouraud', or set rcParams['pcolor.shading'].  This will become an error two minor releases later.\n",
      "  cbar = ax.pcolormesh(x, -y, DT_RMS[:,50,:], cmap='Purples_r')\n"
     ]
    },
    {
     "data": {
      "text/plain": [
       "<matplotlib.colorbar.Colorbar at 0x7fe71ce563a0>"
      ]
     },
     "execution_count": 150,
     "metadata": {},
     "output_type": "execute_result"
    },
    {
     "data": {
      "image/png": "[encoded data removed]",
      "text/plain": [
       "<Figure size 720x504 with 2 Axes>"
      ]
     },
     "metadata": {
      "needs_background": "light"
     },
     "output_type": "display_data"
    }
   ],
   "source": [
    "fig, ax = plt.subplots(figsize=(10, 7))\n",
    "\n",
    "# ax[0].pcolormesh(x, y, dt[('h3', 'h4')][:,50,:], cmap='PRGn')\n",
    "cbar = ax.pcolormesh(x, -y, DT_RMS[:,50,:], cmap='Purples_r')\n",
    "fig.colorbar(cbar)"
   ]
  },
  {
   "cell_type": "code",
   "execution_count": 19,
   "id": "76e9a749-a8a4-490c-87ea-ab4227eb4cef",
   "metadata": {},
   "outputs": [],
   "source": [
    "'h6', 0.153\n",
    "'h5', 0.111\n",
    "'h4', first 0.086\n",
    "'h3', 0.137\n",
    "'starttme', '2019-05-21T08:05:17.933000Z'"
   ]
  },
  {
   "cell_type": "code",
   "execution_count": 36,
   "id": "6d27d016-d995-4df9-9d70-435a32699453",
   "metadata": {},
   "outputs": [],
   "source": [
    "# reset the data\n",
    "\n",
    "hydrophones = ['h3', 'h4', 'h5', 'h6']\n",
    "true_arrivals = [0.137-0.086, 0.086-0.086, 0.111-0.086, 0.153-0.086]\n",
    "hydrophone_depths = [30, 100, 170, 240, 310, 380]"
   ]
  },
  {
   "cell_type": "code",
   "execution_count": 42,
   "id": "ecbd8922-eeb3-4f81-b19f-0799cb9309a6",
   "metadata": {},
   "outputs": [
    {
     "name": "stdout",
     "output_type": "stream",
     "text": [
      "[('h3', 'h4'), ('h3', 'h5'), ('h3', 'h6'), ('h4', 'h5'), ('h4', 'h6'), ('h5', 'h6')]\n",
      "[0.05100000000000002, 0.0, 0.02500000000000001, 0.067]\n",
      "[-0.05100000000000002, -0.02600000000000001, 0.015999999999999986, 0.02500000000000001, 0.067, 0.041999999999999996]\n"
     ]
    }
   ],
   "source": [
    "hydrophone_combinations = [i for i in itertools.combinations(hydrophones, r=2)]\n",
    "hydrophone_combination_arrival_times = [i[1] - i[0] for i in itertools.combinations(true_arrivals, r=2)]\n",
    "print(hydrophone_combinations)\n",
    "print(true_arrivals)\n",
    "print(hydrophone_combination_arrival_times)"
   ]
  },
  {
   "cell_type": "code",
   "execution_count": 25,
   "id": "44403cda-c489-4c75-9492-052b916ae7d5",
   "metadata": {},
   "outputs": [
    {
     "data": {
      "text/plain": [
       "24"
      ]
     },
     "execution_count": 25,
     "metadata": {},
     "output_type": "execute_result"
    }
   ],
   "source": [
    "h3 h4\n",
    "h3 h5\n",
    "h3 h6\n",
    "h4 h5\n",
    "h4 h6\n",
    "h5 h6"
   ]
  },
  {
   "cell_type": "code",
   "execution_count": 33,
   "id": "2279102b-f9a6-4a1d-a3d7-bfa9c888570f",
   "metadata": {},
   "outputs": [
    {
     "data": {
      "text/plain": [
       "[(0.05100000000000002, 0.0),\n",
       " (0.05100000000000002, 0.02500000000000001),\n",
       " (0.05100000000000002, 0.067),\n",
       " (0.0, 0.02500000000000001),\n",
       " (0.0, 0.067),\n",
       " (0.02500000000000001, 0.067)]"
      ]
     },
     "execution_count": 33,
     "metadata": {},
     "output_type": "execute_result"
    }
   ],
   "source": []
  },
  {
   "cell_type": "code",
   "execution_count": null,
   "id": "3a67a65b-e66e-4c57-b478-877da1ff4ff6",
   "metadata": {},
   "outputs": [],
   "source": []
  },
  {
   "cell_type": "code",
   "execution_count": null,
   "id": "8c9e329f-f3e4-4e3a-bc4a-a7a8059ad3c4",
   "metadata": {},
   "outputs": [],
   "source": []
  }
 ],
 "metadata": {
  "kernelspec": {
   "display_name": "Python [conda env:borehole] *",
   "language": "python",
   "name": "conda-env-borehole-py"
  },
  "language_info": {
   "codemirror_mode": {
    "name": "ipython",
    "version": 3
   },
   "file_extension": ".py",
   "mimetype": "text/x-python",
   "name": "python",
   "nbconvert_exporter": "python",
   "pygments_lexer": "ipython3",
   "version": "3.8.12"
  }
 },
 "nbformat": 4,
 "nbformat_minor": 5
}
